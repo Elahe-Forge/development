{
 "cells": [
  {
   "cell_type": "code",
   "execution_count": 1,
   "metadata": {},
   "outputs": [
    {
     "name": "stdout",
     "output_type": "stream",
     "text": [
      "Collecting sec-api\n",
      "  Downloading sec_api-1.0.25-py3-none-any.whl.metadata (51 kB)\n",
      "\u001b[2K     \u001b[90m━━━━━━━━━━━━━━━━━━━━━━━━━━━━━━━━━━━━━━━━\u001b[0m \u001b[32m51.3/51.3 kB\u001b[0m \u001b[31m1.4 MB/s\u001b[0m eta \u001b[36m0:00:00\u001b[0m\n",
      "\u001b[?25hRequirement already satisfied: requests in /Library/Frameworks/Python.framework/Versions/3.12/lib/python3.12/site-packages (from sec-api) (2.31.0)\n",
      "Requirement already satisfied: charset-normalizer<4,>=2 in /Library/Frameworks/Python.framework/Versions/3.12/lib/python3.12/site-packages (from requests->sec-api) (3.3.2)\n",
      "Requirement already satisfied: idna<4,>=2.5 in /Library/Frameworks/Python.framework/Versions/3.12/lib/python3.12/site-packages (from requests->sec-api) (3.6)\n",
      "Requirement already satisfied: urllib3<3,>=1.21.1 in /Library/Frameworks/Python.framework/Versions/3.12/lib/python3.12/site-packages (from requests->sec-api) (1.26.20)\n",
      "Requirement already satisfied: certifi>=2017.4.17 in /Library/Frameworks/Python.framework/Versions/3.12/lib/python3.12/site-packages (from requests->sec-api) (2024.2.2)\n",
      "Downloading sec_api-1.0.25-py3-none-any.whl (19 kB)\n",
      "Installing collected packages: sec-api\n",
      "Successfully installed sec-api-1.0.25\n",
      "\n",
      "\u001b[1m[\u001b[0m\u001b[34;49mnotice\u001b[0m\u001b[1;39;49m]\u001b[0m\u001b[39;49m A new release of pip is available: \u001b[0m\u001b[31;49m23.3.2\u001b[0m\u001b[39;49m -> \u001b[0m\u001b[32;49m24.3.1\u001b[0m\n",
      "\u001b[1m[\u001b[0m\u001b[34;49mnotice\u001b[0m\u001b[1;39;49m]\u001b[0m\u001b[39;49m To update, run: \u001b[0m\u001b[32;49mpip install --upgrade pip\u001b[0m\n"
     ]
    }
   ],
   "source": [
    "!pip install sec-api\n"
   ]
  },
  {
   "cell_type": "code",
   "execution_count": null,
   "metadata": {},
   "outputs": [],
   "source": [
    "from sec_api import QueryApi\n",
    "\n",
    "SEC_API_KEY = ''\n",
    "\n",
    "queryApi = QueryApi(api_key=SEC_API_KEY)\n",
    "\n",
    "def is_public_company(company_name):\n",
    "    query = {\n",
    "        \"query\": { \n",
    "            \"query_string\": { \n",
    "                \"query\": f\"companyName:\\\"{company_name}\\\" AND formType:\\\"10-K\\\"\"\n",
    "            } \n",
    "        },\n",
    "        \"from\": \"0\",\n",
    "        \"size\": \"1\",\n",
    "        \"sort\": [{ \"filedAt\": { \"order\": \"desc\" } }]\n",
    "    }\n",
    "    filings = queryApi.get_filings(query)\n",
    "    if filings and filings.get('filings'):\n",
    "        return True\n",
    "    else:\n",
    "        return False\n",
    "\n",
    "\n"
   ]
  },
  {
   "cell_type": "code",
   "execution_count": 40,
   "metadata": {},
   "outputs": [
    {
     "name": "stdout",
     "output_type": "stream",
     "text": [
      "Apple Inc is a public company.\n",
      "Acme Corporation is likely a private company.\n"
     ]
    }
   ],
   "source": [
    "company_list = ['Apple Inc', 'Acme Corporation']\n",
    "for company in company_list:\n",
    "    if is_public_company(company):\n",
    "        print(f\"{company} is a public company.\")\n",
    "    else:\n",
    "        print(f\"{company} is likely a private company.\")\n"
   ]
  },
  {
   "cell_type": "code",
   "execution_count": 41,
   "metadata": {},
   "outputs": [],
   "source": [
    "import pandas as pd\n",
    "df_mfm = pd.read_csv('MFM names to match(in).csv')"
   ]
  },
  {
   "cell_type": "code",
   "execution_count": null,
   "metadata": {},
   "outputs": [],
   "source": [
    "public_list = []\n",
    "private_list = []\n",
    "for company in df_mfm['nport_name']:\n",
    "    if is_public_company(company):\n",
    "        public_list.append(company)\n",
    "    else:\n",
    "        private_list.append(company)"
   ]
  },
  {
   "cell_type": "code",
   "execution_count": 8,
   "metadata": {},
   "outputs": [
    {
     "data": {
      "text/plain": [
       "['Fannie Mae',\n",
       " 'Block, Inc.',\n",
       " 'Federal National Mortgage Association',\n",
       " 'Morgan Stanley',\n",
       " 'MORGAN STANLEY',\n",
       " 'Prosper Funding LLC']"
      ]
     },
     "execution_count": 8,
     "metadata": {},
     "output_type": "execute_result"
    }
   ],
   "source": [
    "public_list"
   ]
  },
  {
   "cell_type": "code",
   "execution_count": 9,
   "metadata": {},
   "outputs": [
    {
     "data": {
      "text/plain": [
       "['FNMA GTD MTG PASS THRU CTF',\n",
       " 'Freddie Mac',\n",
       " 'UGCard',\n",
       " 'Government National Mortgage Association',\n",
       " 'Upstart Network, Inc.',\n",
       " 'United States Treasury',\n",
       " 'FED HOME LOAN MTG CORP - GOLD',\n",
       " 'GNMA GUARANTEED PASS THRU CERT',\n",
       " 'Forward Foreign Currency Contract',\n",
       " 'Fannie Mae Pool',\n",
       " 'HSBC Bank PLC',\n",
       " 'FNMA',\n",
       " 'GNMA',\n",
       " 'Freedom Financial Asset Management LLC',\n",
       " 'Government National Mortgage A',\n",
       " 'Options Clearing Corp.',\n",
       " 'U.S. DOLLARS',\n",
       " 'Federal National Mortgage Association, Inc.',\n",
       " 'GNMA II GTD PASS THRU CTF MULTIPLE ISSUER',\n",
       " 'United States of America',\n",
       " 'Federal Home Loan Mortgage Corporation',\n",
       " 'United States Treasury Note/Bond']"
      ]
     },
     "execution_count": 9,
     "metadata": {},
     "output_type": "execute_result"
    }
   ],
   "source": [
    "private_list"
   ]
  },
  {
   "cell_type": "code",
   "execution_count": 11,
   "metadata": {},
   "outputs": [
    {
     "name": "stdout",
     "output_type": "stream",
     "text": [
      "Collecting sec-edgar\n",
      "  Downloading sec_edgar-0.0.2-py3-none-any.whl.metadata (1.1 kB)\n",
      "Downloading sec_edgar-0.0.2-py3-none-any.whl (6.9 kB)\n",
      "Installing collected packages: sec-edgar\n",
      "Successfully installed sec-edgar-0.0.2\n",
      "\n",
      "\u001b[1m[\u001b[0m\u001b[34;49mnotice\u001b[0m\u001b[1;39;49m]\u001b[0m\u001b[39;49m A new release of pip is available: \u001b[0m\u001b[31;49m23.3.2\u001b[0m\u001b[39;49m -> \u001b[0m\u001b[32;49m24.3.1\u001b[0m\n",
      "\u001b[1m[\u001b[0m\u001b[34;49mnotice\u001b[0m\u001b[1;39;49m]\u001b[0m\u001b[39;49m To update, run: \u001b[0m\u001b[32;49mpip install --upgrade pip\u001b[0m\n"
     ]
    }
   ],
   "source": [
    "!pip install sec-edgar\n"
   ]
  },
  {
   "cell_type": "code",
   "execution_count": 26,
   "metadata": {},
   "outputs": [],
   "source": [
    "import requests\n",
    "import time\n",
    "import json\n"
   ]
  },
  {
   "cell_type": "code",
   "execution_count": 34,
   "metadata": {},
   "outputs": [],
   "source": [
    "headers = {\n",
    "    'User-Agent': 'Ela elahe.paikari@forgeglobal.com'\n",
    "}\n"
   ]
  },
  {
   "cell_type": "code",
   "execution_count": 35,
   "metadata": {},
   "outputs": [],
   "source": [
    "def load_company_tickers():\n",
    "    url = 'https://www.sec.gov/files/company_tickers.json'\n",
    "    response = requests.get(url, headers=headers)\n",
    "    if response.status_code == 200:\n",
    "        try:\n",
    "            data = response.json()\n",
    "            # Convert the data to a list for easier searching\n",
    "            company_list = [entry for entry in data.values()]\n",
    "            return company_list\n",
    "        except ValueError as e:\n",
    "            print(f\"JSON decoding failed: {e}\")\n",
    "    else:\n",
    "        print(f\"Failed to retrieve company tickers: HTTP {response.status_code}\")\n",
    "    return []\n",
    "\n"
   ]
  },
  {
   "cell_type": "code",
   "execution_count": 29,
   "metadata": {},
   "outputs": [],
   "source": [
    "def get_company_cik(company_name, company_list):\n",
    "    for entry in company_list:\n",
    "        name = entry['title'].lower()\n",
    "        if company_name.lower() == name:\n",
    "            cik_str = str(entry['cik_str']).zfill(10)\n",
    "            return cik_str\n",
    "    # If exact match not found, try partial match\n",
    "    for entry in company_list:\n",
    "        name = entry['title'].lower()\n",
    "        if company_name.lower() in name:\n",
    "            cik_str = str(entry['cik_str']).zfill(10)\n",
    "            return cik_str\n",
    "    return None\n"
   ]
  },
  {
   "cell_type": "code",
   "execution_count": 30,
   "metadata": {},
   "outputs": [],
   "source": [
    "def has_10k_filings(cik):\n",
    "    submissions_url = f'https://data.sec.gov/submissions/CIK{cik}.json'\n",
    "    response = requests.get(submissions_url, headers=headers)\n",
    "    if response.status_code == 200:\n",
    "        try:\n",
    "            data = response.json()\n",
    "            filings = data.get('filings', {}).get('recent', {})\n",
    "            forms = filings.get('form', [])\n",
    "            if '10-K' in forms:\n",
    "                return True\n",
    "        except ValueError as e:\n",
    "            print(f\"JSON decoding failed: {e}\")\n",
    "    else:\n",
    "        print(f\"Failed to retrieve filings for CIK {cik}: HTTP {response.status_code}\")\n",
    "    return False\n"
   ]
  },
  {
   "cell_type": "code",
   "execution_count": null,
   "metadata": {},
   "outputs": [],
   "source": [
    "def is_public_company(company_name, company_list):\n",
    "    cik = get_company_cik(company_name, company_list)\n",
    "    if cik:\n",
    "        print(f\"CIK for {company_name}: {cik}\")\n",
    "        time.sleep(0.2)  # Respect SEC rate limits\n",
    "        if has_10k_filings(cik):\n",
    "            return True\n",
    "        else:\n",
    "            print(f\"No 10-K filings found for {company_name}.\")\n",
    "    else:\n",
    "        print(f\"CIK not found for {company_name}.\")\n",
    "    return False\n"
   ]
  },
  {
   "cell_type": "code",
   "execution_count": 42,
   "metadata": {},
   "outputs": [],
   "source": [
    "company_list_data = load_company_tickers()"
   ]
  },
  {
   "cell_type": "code",
   "execution_count": null,
   "metadata": {},
   "outputs": [
    {
     "name": "stdout",
     "output_type": "stream",
     "text": [
      "Checking if Apple Inc. is a public company...\n",
      "CIK for Apple Inc.: 0000320193\n",
      "Apple Inc. is a public company.\n",
      "--------------------------------------------------\n",
      "Checking if Acme Corporation is a public company...\n",
      "CIK not found for Acme Corporation.\n",
      "Acme Corporation is likely a private company.\n",
      "--------------------------------------------------\n",
      "Checking if Alphabet Inc. is a public company...\n",
      "CIK for Alphabet Inc.: 0001652044\n",
      "Alphabet Inc. is a public company.\n",
      "--------------------------------------------------\n"
     ]
    }
   ],
   "source": [
    "\n",
    "company_list = ['Apple Inc.', 'Acme Corporation', 'Alphabet Inc.']\n",
    "\n",
    "for company in company_list:\n",
    "    print(f\"Checking if {company} is a public company...\")\n",
    "    if is_public_company(company, company_list_data):\n",
    "        print(f\"{company} is a public company.\")\n",
    "    else:\n",
    "        print(f\"{company} is likely a private company.\")\n",
    "    print(\"-\" * 50)\n",
    "    time.sleep(0.2)  # Respect SEC rate limits\n",
    "\n",
    "\n"
   ]
  },
  {
   "cell_type": "code",
   "execution_count": 43,
   "metadata": {},
   "outputs": [],
   "source": [
    "import pandas as pd\n",
    "df_mfm = pd.read_csv('MFM names to match(in).csv')"
   ]
  },
  {
   "cell_type": "code",
   "execution_count": null,
   "metadata": {},
   "outputs": [],
   "source": [
    "public_list = []\n",
    "private_list = []\n",
    "\n",
    "for company in df_mfm['nport_name']:\n",
    "    if is_public_company(company, company_list_data):\n",
    "        public_list.append(company)\n",
    "    else:\n",
    "        private_list.append(company)\n",
    "    time.sleep(0.2)  # Respect SEC rate limits\n"
   ]
  },
  {
   "cell_type": "code",
   "execution_count": null,
   "metadata": {},
   "outputs": [],
   "source": [
    "len(public_list)\n",
    "len(private_list)"
   ]
  },
  {
   "cell_type": "code",
   "execution_count": 49,
   "metadata": {},
   "outputs": [],
   "source": [
    "private_list_df = pd.DataFrame(private_list, columns=['nport_name'])\n",
    "private_list_df.to_csv('private_companies.csv', index=False)"
   ]
  },
  {
   "cell_type": "code",
   "execution_count": null,
   "metadata": {},
   "outputs": [],
   "source": [
    "# Function to Check for 10-K Filings Using SEC API\n",
    "\n",
    "def has_10k_filings_sec_api(cik):\n",
    "    search_url = f\"https://data.sec.gov/submissions/CIK{cik.zfill(10)}.json\"\n",
    "    headers = {'User-Agent': 'Your Name your.email@example.com'}\n",
    "    response = requests.get(search_url, headers=headers)\n",
    "    if response.status_code == 200:\n",
    "        data = response.json()\n",
    "        filings = data.get('filings', {}).get('recent', {})\n",
    "        if 'form' in filings:\n",
    "            forms = filings['form']\n",
    "            if '10-K' in forms:\n",
    "                return True\n",
    "    else:\n",
    "        print(f\"Failed to retrieve filings for CIK {cik}: {response.status_code}\")\n",
    "    return False"
   ]
  }
 ],
 "metadata": {
  "kernelspec": {
   "display_name": "Python 3",
   "language": "python",
   "name": "python3"
  },
  "language_info": {
   "codemirror_mode": {
    "name": "ipython",
    "version": 3
   },
   "file_extension": ".py",
   "mimetype": "text/x-python",
   "name": "python",
   "nbconvert_exporter": "python",
   "pygments_lexer": "ipython3",
   "version": "3.12.1"
  }
 },
 "nbformat": 4,
 "nbformat_minor": 2
}
