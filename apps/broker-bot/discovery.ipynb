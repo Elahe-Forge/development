{
 "cells": [
  {
   "cell_type": "code",
   "execution_count": 2,
   "metadata": {},
   "outputs": [],
   "source": [
    "import os\n",
    "from docx import Document\n",
    "from llama_index.core import VectorStoreIndex, SimpleDirectoryReader\n",
    "from llama_index.llms.openai import OpenAI, OpenAIAgent\n",
    "# from llama_index.llms.anthropic import Anthropic\n",
    "\n",
    "\n",
    "from dotenv import load_dotenv\n",
    "\n",
    "load_dotenv()\n",
    "\n",
    "OPENAI_API_KEY = os.getenv(\"OPENAI_API_KEY\")"
   ]
  },
  {
   "cell_type": "code",
   "execution_count": 8,
   "metadata": {},
   "outputs": [],
   "source": [
    "# # Load the Word document\n",
    "# doc = Document('data/faq_document.docx')\n",
    "\n",
    "# doc_text = \"\"\n",
    "# # Iterate through paragraphs and print the text\n",
    "# for paragraph in doc.paragraphs:\n",
    "#     doc_text += paragraph.text\n",
    "    \n",
    "# print(doc_text)"
   ]
  },
  {
   "cell_type": "code",
   "execution_count": 29,
   "metadata": {},
   "outputs": [],
   "source": [
    "llm = OpenAI(model=\"gpt-4\")\n",
    "data = SimpleDirectoryReader(input_dir=\"./data/\").load_data()\n",
    "index = VectorStoreIndex.from_documents(data)"
   ]
  },
  {
   "cell_type": "code",
   "execution_count": 30,
   "metadata": {},
   "outputs": [],
   "source": [
    "chat_engine = index.as_chat_engine(chat_mode=\"best\", llm=llm, verbose=True)"
   ]
  },
  {
   "cell_type": "code",
   "execution_count": 31,
   "metadata": {},
   "outputs": [
    {
     "name": "stdout",
     "output_type": "stream",
     "text": [
      "Added user message to memory: What does Google do?\n",
      "🍩 https://wandb.ai/forgeglobal/intro-example/r/call/019234be-7e2e-71c0-8f69-9fa09138df6d\n",
      "=== Calling Function ===\n",
      "Calling function: query_engine_tool with args: {\n",
      "  \"input\": \"What does Google do?\"\n",
      "}\n",
      "🍩 https://wandb.ai/forgeglobal/intro-example/r/call/019234be-89d2-7322-ab17-820fb53f961a\n",
      "Got output: The context does not provide information on what Google does.\n",
      "========================\n",
      "\n",
      "🍩 https://wandb.ai/forgeglobal/intro-example/r/call/019234be-8dfc-7ed0-a85e-be2a9b8d7b3b\n"
     ]
    }
   ],
   "source": [
    "response = chat_engine.chat(\n",
    "    \"What does Google do?\"\n",
    ")"
   ]
  },
  {
   "cell_type": "code",
   "execution_count": 32,
   "metadata": {},
   "outputs": [
    {
     "data": {
      "text/plain": [
       "\"Google is a multinational technology company that specializes in Internet-related services and products. These include search engines, online advertising technologies, cloud computing, software, and hardware. It's best known for its web search service, also known as Google Search, as well as platforms like YouTube, Google Docs, Sheets, and Slides, Google Calendar, Google Drive, and Google Photos. Google also develops the Android mobile operating system and Google Chrome web browser.\""
      ]
     },
     "execution_count": 32,
     "metadata": {},
     "output_type": "execute_result"
    }
   ],
   "source": [
    "response.response"
   ]
  },
  {
   "cell_type": "code",
   "execution_count": 16,
   "metadata": {},
   "outputs": [
    {
     "name": "stdout",
     "output_type": "stream",
     "text": [
      "Public markets are where securities are traded that are available to general public investors. These markets are regulated by governmental agencies like the Securities and Exchange Commission (SEC) in the U.S. The most common examples of public markets are stock exchanges like the New York Stock Exchange (NYSE) or the NASDAQ.\n",
      "\n",
      "Private markets, on the other hand, are where securities are traded between private parties and are not available to the general public. These transactions are not regulated by the SEC or other similar agencies. Private markets include transactions like private equity, venture capital, and private debt.\n"
     ]
    }
   ],
   "source": [
    "print(response)"
   ]
  },
  {
   "cell_type": "code",
   "execution_count": 17,
   "metadata": {},
   "outputs": [
    {
     "name": "stdout",
     "output_type": "stream",
     "text": [
      "Added user message to memory: What do I need to be an accredited investor?\n"
     ]
    }
   ],
   "source": [
    "response = chat_engine.chat(\n",
    "    \"What do I need to be an accredited investor?\"\n",
    ")"
   ]
  },
  {
   "cell_type": "code",
   "execution_count": 18,
   "metadata": {},
   "outputs": [
    {
     "name": "stdout",
     "output_type": "stream",
     "text": [
      "In the United States, to be considered an accredited investor, one must meet at least one of the following criteria:\n",
      "\n",
      "1. Have an individual income of more than $200,000 per year, or a joint income with a spouse exceeding $300,000 for those years and a reasonable expectation of the same income level in the current year.\n",
      "\n",
      "2. Have a net worth exceeding $1 million, either individually or jointly with a spouse, excluding the value of the primary residence.\n",
      "\n",
      "3. Be a general partner, executive officer, director or a related combination thereof for the issuer of a security being offered.\n",
      "\n",
      "These rules are set by the Securities and Exchange Commission (SEC) and are meant to protect potential investors from risky investments. The idea is that accredited investors are more financially savvy and can therefore handle the risk associated with investing in unregistered securities.\n"
     ]
    }
   ],
   "source": [
    "print(response)"
   ]
  },
  {
   "cell_type": "code",
   "execution_count": 22,
   "metadata": {},
   "outputs": [
    {
     "name": "stdout",
     "output_type": "stream",
     "text": [
      "Added user message to memory: What is the difference between public and private markets?\n",
      "=== Calling Function ===\n",
      "Calling function: query_engine_tool with args: {\"input\":\"What is the difference between public and private markets?\"}\n",
      "Got output: The public market involves investing in companies that are publicly traded on national exchanges, such as Nasdaq or the New York Stock Exchange. Shares of public companies are generally available for trading to the general public, and these companies must comply with financial and performance disclosure requirements, making information more accessible to investors. In the public market, there are no minimum financial thresholds for investors, and trades typically settle within one day.\n",
      "\n",
      "In contrast, the private market pertains to investing in companies that are not publicly traded. Private companies are not required to disclose financial information, which can make it more challenging to obtain relevant data. Investors in the private market usually need to be accredited, and the settlement period for trades can extend to several months. Additionally, investments in private company securities are considered highly speculative and illiquid, with a greater risk of total loss.\n",
      "========================\n",
      "\n",
      "🍩 https://wandb.ai/forgeglobal/intro-example/r/call/0192340f-2db0-7a32-af13-8b1d2402a460\n"
     ]
    },
    {
     "data": {
      "text/plain": [
       "AgentChatResponse(response='The difference between public and private markets primarily revolves around the nature of the companies involved and the accessibility of investment opportunities:\\n\\n1. **Public Markets**:\\n   - Involve companies that are publicly traded on national exchanges (e.g., Nasdaq, New York Stock Exchange).\\n   - Shares of public companies are available for trading to the general public.\\n   - These companies must comply with strict financial and performance disclosure requirements, making information more accessible to investors.\\n   - There are no minimum financial thresholds for investors, allowing anyone to buy shares.\\n   - Trades typically settle within one day.\\n\\n2. **Private Markets**:\\n   - Involve companies that are not publicly traded and do not have shares available on public exchanges.\\n   - Private companies are not required to disclose financial information, making it more challenging to obtain relevant data.\\n   - Investors usually need to be accredited, meaning they must meet certain income or net worth criteria.\\n   - The settlement period for trades can extend to several months.\\n   - Investments in private company securities are considered highly speculative and illiquid, with a greater risk of total loss.', sources=[ToolOutput(content='The public market involves investing in companies that are publicly traded on national exchanges, such as Nasdaq or the New York Stock Exchange. Shares of public companies are generally available for trading to the general public, and these companies must comply with financial and performance disclosure requirements, making information more accessible to investors. In the public market, there are no minimum financial thresholds for investors, and trades typically settle within one day.\\n\\nIn contrast, the private market pertains to investing in companies that are not publicly traded. Private companies are not required to disclose financial information, which can make it more challenging to obtain relevant data. Investors in the private market usually need to be accredited, and the settlement period for trades can extend to several months. Additionally, investments in private company securities are considered highly speculative and illiquid, with a greater risk of total loss.', tool_name='query_engine_tool', raw_input={'input': 'What is the difference between public and private markets?'}, raw_output=Response(response='The public market involves investing in companies that are publicly traded on national exchanges, such as Nasdaq or the New York Stock Exchange. Shares of public companies are generally available for trading to the general public, and these companies must comply with financial and performance disclosure requirements, making information more accessible to investors. In the public market, there are no minimum financial thresholds for investors, and trades typically settle within one day.\\n\\nIn contrast, the private market pertains to investing in companies that are not publicly traded. Private companies are not required to disclose financial information, which can make it more challenging to obtain relevant data. Investors in the private market usually need to be accredited, and the settlement period for trades can extend to several months. Additionally, investments in private company securities are considered highly speculative and illiquid, with a greater risk of total loss.', source_nodes=[NodeWithScore(node=TextNode(id_='6cbcdc3b-48ac-47ee-a67c-55efa2090235', embedding=None, metadata={'file_name': 'faq_document.docx', 'file_path': '/Users/bobrandt/workspaces/broker_bot_dev/data/faq_document.docx', 'file_type': 'application/vnd.openxmlformats-officedocument.wordprocessingml.document', 'file_size': 23825, 'creation_date': '2024-09-26', 'last_modified_date': '2024-09-26'}, excluded_embed_metadata_keys=['file_name', 'file_type', 'file_size', 'creation_date', 'last_modified_date', 'last_accessed_date'], excluded_llm_metadata_keys=['file_name', 'file_type', 'file_size', 'creation_date', 'last_modified_date', 'last_accessed_date'], relationships={<NodeRelationship.SOURCE: '1'>: RelatedNodeInfo(node_id='c7c3c212-2782-46b7-8316-225fc7334f79', node_type=<ObjectType.DOCUMENT: '4'>, metadata={'file_name': 'faq_document.docx', 'file_path': '/Users/bobrandt/workspaces/broker_bot_dev/data/faq_document.docx', 'file_type': 'application/vnd.openxmlformats-officedocument.wordprocessingml.document', 'file_size': 23825, 'creation_date': '2024-09-26', 'last_modified_date': '2024-09-26'}, hash='d2bf8f9549a3ef8449cf0ad908a83a68946ca7700787bece0d4089e285010481'), <NodeRelationship.NEXT: '3'>: RelatedNodeInfo(node_id='38b59fdc-6414-4195-8372-647ec89f9bef', node_type=<ObjectType.TEXT: '1'>, metadata={}, hash='e5d8d1a8cbd2586c84770c082ce14969d33b34d4ed9a1f18d9aebffe62c03f17')}, text=\"Details about Forge\\n\\n\\n\\nForge Global, Inc. (“Forge”) serves the complex and emerging needs of the private market ecosystem by forging new connections through our technology, data and expertise. \\n\\nFounded in 2014, Forge empowers investors and shareholders by facilitating liquidity in the private markets.\\n\\nSecurities related services are offered through Forge Securities LLC, a broker-dealer registered with the Securities and Exchange Commission, a member of the Financial Industry Regulatory Authority, and wholly owned subsidiary of Forge. \\n\\nForge Securities operates an alternative trading system for trading of restricted securities. Forge Securities offers brokerage services by acting as your agent in buying or selling unregistered non-public company securities, which include preferred and common stock, structured investments, and membership interests in affiliated and unaffiliated private fund interests. We also act as placement agent for issuers in direct private company securities offerings to investors.\\n\\nForge's secondary market platform gives institutional investors access to buying and selling opportunities outside of primary funding rounds, tender offers, and exit events.\\n\\n\\n\\nPublic Market vs Private Market\\n\\nThe ‘public market’ refers to investing in issuers (companies) that are publicly traded on a national exchange such as Nasdaq or the New York Stock Exchange.\\n\\nPublic companies’ shares are typically available for trading to the general public.\\n\\nCompanies traded in the public market must adhere to financial and performance disclosure requirements and as a result information is more readily available.\\n\\nInvestors trading in company shares in the public market do not need to meet any minimum financial threshold or level of investment sophistication.\\n\\nWhen buying or selling, the time between executing a trade to settlement (receiving funds or securities) is typically trade date plus one day. \\n\\n\\n\\nThe ‘private market’ refers to investing in companies that are not publicly traded, or in other words private companies.\\n\\nPrivate companies do not need to disclose financial and performance information, and information about the company may be more difficult to find.• Investors trading in the private market must typically be, at minimum, an “accredited investor.”\\n\\nWhen buying or selling a private company, the time between executing a trade to settlement (receiving funds or securities) could extend up to several months.\\n\\n\\n\\nAccredited Investor\\n\\nAn “accredited investor” is defined in Rule 501 of the SEC Regulation D, and in the context of a natural person, includes anyone who:\\n\\nEarned income that exceeded $200,000, or $300,000 together with a spouse, in each of the prior two years, and reasonably expects the same for the current year, or\\n\\nHas a net worth over $1 million, either alone or together with a spouse (excluding the value of their primary residence), or\\n\\nIndividuals who have certain professional certifications, designations or credentials, or Individuals who are “knowledgeable employees” as defined in Rule 3c-5(a)(4) under the Investment Company Act of 1940.\\n\\n\\n\\nRisks Inherent in the Private Markets\\n\\nInvesting in private company securities is not suitable for all investors.\\n\\nAn investment in private company securities is highly speculative and involves a high degree of risk.\\n\\nIt should only be considered as a long-term investment.\\n\\nYou must be prepared to withstand a total loss of your investment.\\n\\nPrivate company securities are also highly illiquid and there is no guarantee that a market will develop for such securities.\\n\\nSecurities laws generally prohibits the resale of restricted securities without an available exemption from registration which limits a holder’s ability to resale his or her private securities quickly. Such securities also may be subject to restrictions placed by the issuer in order to resale the securities.\\n\\nEach investment also carries its own specific risks, and you should complete your own independent due diligence regarding the investment, including obtaining additional information about the company, opinions, financial projections and legal or other investment advice. Information about private companies including its financials can also be limited and not readily available, as distinguished from public companies.\\n\\nAccordingly, investing in private company securities is appropriate only for those sophisticated investors who can also tolerate a high degree of risk and do not require a liquid investment.\", mimetype='text/plain', start_char_idx=0, end_char_idx=4505, text_template='{metadata_str}\\n\\n{content}', metadata_template='{key}: {value}', metadata_seperator='\\n'), score=0.8418712251686359), NodeWithScore(node=TextNode(id_='38b59fdc-6414-4195-8372-647ec89f9bef', embedding=None, metadata={'file_name': 'faq_document.docx', 'file_path': '/Users/bobrandt/workspaces/broker_bot_dev/data/faq_document.docx', 'file_type': 'application/vnd.openxmlformats-officedocument.wordprocessingml.document', 'file_size': 23825, 'creation_date': '2024-09-26', 'last_modified_date': '2024-09-26'}, excluded_embed_metadata_keys=['file_name', 'file_type', 'file_size', 'creation_date', 'last_modified_date', 'last_accessed_date'], excluded_llm_metadata_keys=['file_name', 'file_type', 'file_size', 'creation_date', 'last_modified_date', 'last_accessed_date'], relationships={<NodeRelationship.SOURCE: '1'>: RelatedNodeInfo(node_id='c7c3c212-2782-46b7-8316-225fc7334f79', node_type=<ObjectType.DOCUMENT: '4'>, metadata={'file_name': 'faq_document.docx', 'file_path': '/Users/bobrandt/workspaces/broker_bot_dev/data/faq_document.docx', 'file_type': 'application/vnd.openxmlformats-officedocument.wordprocessingml.document', 'file_size': 23825, 'creation_date': '2024-09-26', 'last_modified_date': '2024-09-26'}, hash='d2bf8f9549a3ef8449cf0ad908a83a68946ca7700787bece0d4089e285010481'), <NodeRelationship.PREVIOUS: '2'>: RelatedNodeInfo(node_id='6cbcdc3b-48ac-47ee-a67c-55efa2090235', node_type=<ObjectType.TEXT: '1'>, metadata={'file_name': 'faq_document.docx', 'file_path': '/Users/bobrandt/workspaces/broker_bot_dev/data/faq_document.docx', 'file_type': 'application/vnd.openxmlformats-officedocument.wordprocessingml.document', 'file_size': 23825, 'creation_date': '2024-09-26', 'last_modified_date': '2024-09-26'}, hash='fbae7e7f3559b19d4c71e2b3f1b72516926bf7a70d549e25d3582333faf3b86d')}, text=\"The Forge Platform\\n\\nData and Analysis Tools. Learn about private companies by visiting their page on www.forgeglobal.com. View news, financings and cap table information and select valuation inputs to track their value over time.\\n\\nPrivate Securities Specialist. Forge personnel are FINRA registered representatives who are experts at trading private equity. They’re here to answer your questions and make sure your transactions are seamlessly executed. Consult your private market specialist to learn more about private market trading and start to receive Forge's market analysis and data insights\\n\\nMinimum Investment Amount. Forge’s standard minimum transaction size is $100,000 USD; however, we may allow you to buy or sell an amount less than the minimum, e.g., when an issuer allows smaller trade amounts or to receive a partial execution of a larger order.\\n\\nAccredited Investor. Purchasers must, at minimum, be an accredited investor.\\n\\nForge’s Fee. You will pay us a transaction fee every time you buy or sell a private company security. Typically, our transaction fee is 5%. You may pay a higher fee if the total dollar amount of the transaction is less than our minimum transaction amount of $100,000. The fee charged to you will be due upon settlement (closing) of your transaction. You may pay additional fees imposed by the issuer, such as legal opinions, transfer fees, or escrow.\\n\\nProof of Ownership. Sellers must provide proof of ownership in the private company.\\n\\nAnti-Money Laundering Review. U.S. federal laws requires all financial institutions to obtain, verify, and record information that identifies each person or entity with whom we conduct securities transactions. In addition to asking you for your name and address and other identifying information, Forge may also request other identifying information and documentation.\\n\\n\\n\\nTypical Transaction Process\\n\\nBuyers and sellers submit an indication of interest in buying/selling shares.\\n\\nThe buyer and seller agree on a price and a number of shares.\\n\\nForge assists the buyer and seller in completing terms sheets, executing client engagement and purchase agreements, and notices to the company. When purchasing interests in a Fund, Forge assist the buyer by providing applicable offering documents, such as a Private Placement Memorandum, Subscription Agreement, and Operating Agreement.\\n\\nForge works with the company to ensure the transaction follows its preferred Right of First Refusal (“ROFR”) or settlement process. The ROFR provides a company with the option to step in as buyer in a transaction.\\n\\nForge assists the buyer and seller in executing the company’s stock transfer agreement, and legal opinion (if required by the company).\\n\\nCap table changes are made by company at the closing of a transaction.\\n\\nThe typical transaction time is 45-60 days\\n\\n\\n\\nForge Pro\\n\\nForge Data provides investors with same-day bids/asks, live pricing information, and closed trade prices and volumes to make investment decisions and mark portfolios to market.\\n\\nComprehensive secondary market order entry features, trade management tools, and market analytics \\n\\nNew live order book from active Forge trading clients plus notifications with pricing updates on watched companies \\n\\nRisk and compliance features from Forge (NYSE: FRGE), the only public company focused on private secondaries markets \\n\\n\\n\\nTrade Management \\n\\nSubmit indications of interest (IOIs) to buy/sell private company share\\n\\nSpecify common vs. preferred stock, direct vs. SPV, etc.\\n\\nTrack trade status and execute transaction documents \\n\\n\\n\\nLive IOI book with bid/ask prices, volumes, and spreads \\n\\n900+ companies with live indications of interest \\n\\nHistoric order book with completed trade data and VWAP\\n\\nDerived pricing based on Forge’s proprietary data \\n\\n\\n\\nValuation and Firmographic Data \\n\\n18,000private company mutual fund marks across 350+ companies and 150+ funds \\n\\nIPO/M&A exit scenarios, public company/private company comparisons, and sector insights\\n\\nFunding round data, valuation history and investor terms for 2,300 companies\\n\\nSource documents, including fundraising and legal filings \\n\\n\\n\\nWhat is my stock worth in [Company?\\n\\nDirect the client to last closed transaction price/date, VWAP, or bid/ask spread. If there has never been a transaction in that company, let client know that\\n\\n\\n\\nWhat price can I buy stock in [Company]?\\n\\nDirect the client to last closed transaction, VWAP, or bid/ask spread.  If there is an Opportunity in [Company], direct buyer to that Opportunity\", mimetype='text/plain', start_char_idx=4509, end_char_idx=9018, text_template='{metadata_str}\\n\\n{content}', metadata_template='{key}: {value}', metadata_seperator='\\n'), score=0.7906636679191036)], metadata={'6cbcdc3b-48ac-47ee-a67c-55efa2090235': {'file_name': 'faq_document.docx', 'file_path': '/Users/bobrandt/workspaces/broker_bot_dev/data/faq_document.docx', 'file_type': 'application/vnd.openxmlformats-officedocument.wordprocessingml.document', 'file_size': 23825, 'creation_date': '2024-09-26', 'last_modified_date': '2024-09-26'}, '38b59fdc-6414-4195-8372-647ec89f9bef': {'file_name': 'faq_document.docx', 'file_path': '/Users/bobrandt/workspaces/broker_bot_dev/data/faq_document.docx', 'file_type': 'application/vnd.openxmlformats-officedocument.wordprocessingml.document', 'file_size': 23825, 'creation_date': '2024-09-26', 'last_modified_date': '2024-09-26'}}), is_error=False)], source_nodes=[NodeWithScore(node=TextNode(id_='6cbcdc3b-48ac-47ee-a67c-55efa2090235', embedding=None, metadata={'file_name': 'faq_document.docx', 'file_path': '/Users/bobrandt/workspaces/broker_bot_dev/data/faq_document.docx', 'file_type': 'application/vnd.openxmlformats-officedocument.wordprocessingml.document', 'file_size': 23825, 'creation_date': '2024-09-26', 'last_modified_date': '2024-09-26'}, excluded_embed_metadata_keys=['file_name', 'file_type', 'file_size', 'creation_date', 'last_modified_date', 'last_accessed_date'], excluded_llm_metadata_keys=['file_name', 'file_type', 'file_size', 'creation_date', 'last_modified_date', 'last_accessed_date'], relationships={<NodeRelationship.SOURCE: '1'>: RelatedNodeInfo(node_id='c7c3c212-2782-46b7-8316-225fc7334f79', node_type=<ObjectType.DOCUMENT: '4'>, metadata={'file_name': 'faq_document.docx', 'file_path': '/Users/bobrandt/workspaces/broker_bot_dev/data/faq_document.docx', 'file_type': 'application/vnd.openxmlformats-officedocument.wordprocessingml.document', 'file_size': 23825, 'creation_date': '2024-09-26', 'last_modified_date': '2024-09-26'}, hash='d2bf8f9549a3ef8449cf0ad908a83a68946ca7700787bece0d4089e285010481'), <NodeRelationship.NEXT: '3'>: RelatedNodeInfo(node_id='38b59fdc-6414-4195-8372-647ec89f9bef', node_type=<ObjectType.TEXT: '1'>, metadata={}, hash='e5d8d1a8cbd2586c84770c082ce14969d33b34d4ed9a1f18d9aebffe62c03f17')}, text=\"Details about Forge\\n\\n\\n\\nForge Global, Inc. (“Forge”) serves the complex and emerging needs of the private market ecosystem by forging new connections through our technology, data and expertise. \\n\\nFounded in 2014, Forge empowers investors and shareholders by facilitating liquidity in the private markets.\\n\\nSecurities related services are offered through Forge Securities LLC, a broker-dealer registered with the Securities and Exchange Commission, a member of the Financial Industry Regulatory Authority, and wholly owned subsidiary of Forge. \\n\\nForge Securities operates an alternative trading system for trading of restricted securities. Forge Securities offers brokerage services by acting as your agent in buying or selling unregistered non-public company securities, which include preferred and common stock, structured investments, and membership interests in affiliated and unaffiliated private fund interests. We also act as placement agent for issuers in direct private company securities offerings to investors.\\n\\nForge's secondary market platform gives institutional investors access to buying and selling opportunities outside of primary funding rounds, tender offers, and exit events.\\n\\n\\n\\nPublic Market vs Private Market\\n\\nThe ‘public market’ refers to investing in issuers (companies) that are publicly traded on a national exchange such as Nasdaq or the New York Stock Exchange.\\n\\nPublic companies’ shares are typically available for trading to the general public.\\n\\nCompanies traded in the public market must adhere to financial and performance disclosure requirements and as a result information is more readily available.\\n\\nInvestors trading in company shares in the public market do not need to meet any minimum financial threshold or level of investment sophistication.\\n\\nWhen buying or selling, the time between executing a trade to settlement (receiving funds or securities) is typically trade date plus one day. \\n\\n\\n\\nThe ‘private market’ refers to investing in companies that are not publicly traded, or in other words private companies.\\n\\nPrivate companies do not need to disclose financial and performance information, and information about the company may be more difficult to find.• Investors trading in the private market must typically be, at minimum, an “accredited investor.”\\n\\nWhen buying or selling a private company, the time between executing a trade to settlement (receiving funds or securities) could extend up to several months.\\n\\n\\n\\nAccredited Investor\\n\\nAn “accredited investor” is defined in Rule 501 of the SEC Regulation D, and in the context of a natural person, includes anyone who:\\n\\nEarned income that exceeded $200,000, or $300,000 together with a spouse, in each of the prior two years, and reasonably expects the same for the current year, or\\n\\nHas a net worth over $1 million, either alone or together with a spouse (excluding the value of their primary residence), or\\n\\nIndividuals who have certain professional certifications, designations or credentials, or Individuals who are “knowledgeable employees” as defined in Rule 3c-5(a)(4) under the Investment Company Act of 1940.\\n\\n\\n\\nRisks Inherent in the Private Markets\\n\\nInvesting in private company securities is not suitable for all investors.\\n\\nAn investment in private company securities is highly speculative and involves a high degree of risk.\\n\\nIt should only be considered as a long-term investment.\\n\\nYou must be prepared to withstand a total loss of your investment.\\n\\nPrivate company securities are also highly illiquid and there is no guarantee that a market will develop for such securities.\\n\\nSecurities laws generally prohibits the resale of restricted securities without an available exemption from registration which limits a holder’s ability to resale his or her private securities quickly. Such securities also may be subject to restrictions placed by the issuer in order to resale the securities.\\n\\nEach investment also carries its own specific risks, and you should complete your own independent due diligence regarding the investment, including obtaining additional information about the company, opinions, financial projections and legal or other investment advice. Information about private companies including its financials can also be limited and not readily available, as distinguished from public companies.\\n\\nAccordingly, investing in private company securities is appropriate only for those sophisticated investors who can also tolerate a high degree of risk and do not require a liquid investment.\", mimetype='text/plain', start_char_idx=0, end_char_idx=4505, text_template='{metadata_str}\\n\\n{content}', metadata_template='{key}: {value}', metadata_seperator='\\n'), score=0.8418712251686359), NodeWithScore(node=TextNode(id_='38b59fdc-6414-4195-8372-647ec89f9bef', embedding=None, metadata={'file_name': 'faq_document.docx', 'file_path': '/Users/bobrandt/workspaces/broker_bot_dev/data/faq_document.docx', 'file_type': 'application/vnd.openxmlformats-officedocument.wordprocessingml.document', 'file_size': 23825, 'creation_date': '2024-09-26', 'last_modified_date': '2024-09-26'}, excluded_embed_metadata_keys=['file_name', 'file_type', 'file_size', 'creation_date', 'last_modified_date', 'last_accessed_date'], excluded_llm_metadata_keys=['file_name', 'file_type', 'file_size', 'creation_date', 'last_modified_date', 'last_accessed_date'], relationships={<NodeRelationship.SOURCE: '1'>: RelatedNodeInfo(node_id='c7c3c212-2782-46b7-8316-225fc7334f79', node_type=<ObjectType.DOCUMENT: '4'>, metadata={'file_name': 'faq_document.docx', 'file_path': '/Users/bobrandt/workspaces/broker_bot_dev/data/faq_document.docx', 'file_type': 'application/vnd.openxmlformats-officedocument.wordprocessingml.document', 'file_size': 23825, 'creation_date': '2024-09-26', 'last_modified_date': '2024-09-26'}, hash='d2bf8f9549a3ef8449cf0ad908a83a68946ca7700787bece0d4089e285010481'), <NodeRelationship.PREVIOUS: '2'>: RelatedNodeInfo(node_id='6cbcdc3b-48ac-47ee-a67c-55efa2090235', node_type=<ObjectType.TEXT: '1'>, metadata={'file_name': 'faq_document.docx', 'file_path': '/Users/bobrandt/workspaces/broker_bot_dev/data/faq_document.docx', 'file_type': 'application/vnd.openxmlformats-officedocument.wordprocessingml.document', 'file_size': 23825, 'creation_date': '2024-09-26', 'last_modified_date': '2024-09-26'}, hash='fbae7e7f3559b19d4c71e2b3f1b72516926bf7a70d549e25d3582333faf3b86d')}, text=\"The Forge Platform\\n\\nData and Analysis Tools. Learn about private companies by visiting their page on www.forgeglobal.com. View news, financings and cap table information and select valuation inputs to track their value over time.\\n\\nPrivate Securities Specialist. Forge personnel are FINRA registered representatives who are experts at trading private equity. They’re here to answer your questions and make sure your transactions are seamlessly executed. Consult your private market specialist to learn more about private market trading and start to receive Forge's market analysis and data insights\\n\\nMinimum Investment Amount. Forge’s standard minimum transaction size is $100,000 USD; however, we may allow you to buy or sell an amount less than the minimum, e.g., when an issuer allows smaller trade amounts or to receive a partial execution of a larger order.\\n\\nAccredited Investor. Purchasers must, at minimum, be an accredited investor.\\n\\nForge’s Fee. You will pay us a transaction fee every time you buy or sell a private company security. Typically, our transaction fee is 5%. You may pay a higher fee if the total dollar amount of the transaction is less than our minimum transaction amount of $100,000. The fee charged to you will be due upon settlement (closing) of your transaction. You may pay additional fees imposed by the issuer, such as legal opinions, transfer fees, or escrow.\\n\\nProof of Ownership. Sellers must provide proof of ownership in the private company.\\n\\nAnti-Money Laundering Review. U.S. federal laws requires all financial institutions to obtain, verify, and record information that identifies each person or entity with whom we conduct securities transactions. In addition to asking you for your name and address and other identifying information, Forge may also request other identifying information and documentation.\\n\\n\\n\\nTypical Transaction Process\\n\\nBuyers and sellers submit an indication of interest in buying/selling shares.\\n\\nThe buyer and seller agree on a price and a number of shares.\\n\\nForge assists the buyer and seller in completing terms sheets, executing client engagement and purchase agreements, and notices to the company. When purchasing interests in a Fund, Forge assist the buyer by providing applicable offering documents, such as a Private Placement Memorandum, Subscription Agreement, and Operating Agreement.\\n\\nForge works with the company to ensure the transaction follows its preferred Right of First Refusal (“ROFR”) or settlement process. The ROFR provides a company with the option to step in as buyer in a transaction.\\n\\nForge assists the buyer and seller in executing the company’s stock transfer agreement, and legal opinion (if required by the company).\\n\\nCap table changes are made by company at the closing of a transaction.\\n\\nThe typical transaction time is 45-60 days\\n\\n\\n\\nForge Pro\\n\\nForge Data provides investors with same-day bids/asks, live pricing information, and closed trade prices and volumes to make investment decisions and mark portfolios to market.\\n\\nComprehensive secondary market order entry features, trade management tools, and market analytics \\n\\nNew live order book from active Forge trading clients plus notifications with pricing updates on watched companies \\n\\nRisk and compliance features from Forge (NYSE: FRGE), the only public company focused on private secondaries markets \\n\\n\\n\\nTrade Management \\n\\nSubmit indications of interest (IOIs) to buy/sell private company share\\n\\nSpecify common vs. preferred stock, direct vs. SPV, etc.\\n\\nTrack trade status and execute transaction documents \\n\\n\\n\\nLive IOI book with bid/ask prices, volumes, and spreads \\n\\n900+ companies with live indications of interest \\n\\nHistoric order book with completed trade data and VWAP\\n\\nDerived pricing based on Forge’s proprietary data \\n\\n\\n\\nValuation and Firmographic Data \\n\\n18,000private company mutual fund marks across 350+ companies and 150+ funds \\n\\nIPO/M&A exit scenarios, public company/private company comparisons, and sector insights\\n\\nFunding round data, valuation history and investor terms for 2,300 companies\\n\\nSource documents, including fundraising and legal filings \\n\\n\\n\\nWhat is my stock worth in [Company?\\n\\nDirect the client to last closed transaction price/date, VWAP, or bid/ask spread. If there has never been a transaction in that company, let client know that\\n\\n\\n\\nWhat price can I buy stock in [Company]?\\n\\nDirect the client to last closed transaction, VWAP, or bid/ask spread.  If there is an Opportunity in [Company], direct buyer to that Opportunity\", mimetype='text/plain', start_char_idx=4509, end_char_idx=9018, text_template='{metadata_str}\\n\\n{content}', metadata_template='{key}: {value}', metadata_seperator='\\n'), score=0.7906636679191036)], is_dummy_stream=False, metadata=None)"
      ]
     },
     "execution_count": 22,
     "metadata": {},
     "output_type": "execute_result"
    }
   ],
   "source": [
    "import weave\n",
    "from llama_index.llms.openai import OpenAI\n",
    "\n",
    "# import json\n",
    "# from openai import OpenAI\n",
    "\n",
    "\n",
    "@weave.op()  # 🐝\n",
    "def extract_faq(question: str) -> dict:\n",
    "    llm = OpenAI(model=\"gpt-4o-mini\")\n",
    "    data = SimpleDirectoryReader(input_dir=\"./data/\").load_data()\n",
    "    index = VectorStoreIndex.from_documents(data)\n",
    "\n",
    "    chat_engine = index.as_chat_engine(chat_mode=\"best\", llm=llm, verbose=True)\n",
    "\n",
    "    response = chat_engine.chat(question)\n",
    "    return response\n",
    "\n",
    "\n",
    "weave.init(\"intro-example\")\n",
    "question = \"What is the difference between public and private markets?\"\n",
    "extract_faq(question)"
   ]
  },
  {
   "cell_type": "code",
   "execution_count": 23,
   "metadata": {},
   "outputs": [
    {
     "name": "stdout",
     "output_type": "stream",
     "text": [
      "🍩 https://wandb.ai/forgeglobal/intro-example/r/call/0192341d-ec00-7cc0-9d12-4229aad63d03\n"
     ]
    },
    {
     "data": {
      "text/plain": [
       "AgentChatResponse(response='The main difference between public and private markets lies in the type of companies involved and the level of accessibility to investors:\\n\\n1. **Public Market**:\\n   - **Companies**: Public markets involve companies that are publicly traded on national exchanges like Nasdaq or the New York Stock Exchange.\\n   - **Accessibility**: Shares of public companies are available for trading to the general public.\\n   - **Disclosure**: Public companies must adhere to financial and performance disclosure requirements, making information readily available.\\n   - **Investor Requirements**: Investors trading in the public market do not need to meet specific financial thresholds or levels of investment sophistication.\\n   - **Settlement Time**: The time between executing a trade to settlement is typically trade date plus one day.\\n\\n2. **Private Market**:\\n   - **Companies**: Private markets involve companies that are not publicly traded, i.e., private companies.\\n   - **Accessibility**: Shares of private companies are not available for trading to the general public.\\n   - **Disclosure**: Private companies do not need to disclose financial and performance information, making information harder to find.\\n   - **Investor Requirements**: Investors trading in the private market typically need to be accredited investors.\\n   - **Settlement Time**: The time between executing a trade to settlement could extend up to several months.\\n\\nIn summary, public markets involve publicly traded companies with readily available information and accessible trading, while private markets involve non-publicly traded companies with limited information and restricted trading access.', sources=[ToolOutput(content='[NodeWithScore(node=TextNode(id_=\\'da1b2706-b996-470c-9654-8e81b3d3cb68\\', embedding=None, metadata={\\'file_name\\': \\'faq_document.docx\\', \\'file_path\\': \\'/Users/bobrandt/workspaces/broker_bot_dev/data/faq_document.docx\\', \\'file_type\\': \\'application/vnd.openxmlformats-officedocument.wordprocessingml.document\\', \\'file_size\\': 23825, \\'creation_date\\': \\'2024-09-26\\', \\'last_modified_date\\': \\'2024-09-26\\'}, excluded_embed_metadata_keys=[\\'file_name\\', \\'file_type\\', \\'file_size\\', \\'creation_date\\', \\'last_modified_date\\', \\'last_accessed_date\\'], excluded_llm_metadata_keys=[\\'file_name\\', \\'file_type\\', \\'file_size\\', \\'creation_date\\', \\'last_modified_date\\', \\'last_accessed_date\\'], relationships={<NodeRelationship.SOURCE: \\'1\\'>: RelatedNodeInfo(node_id=\\'3c96cfff-3b48-439e-ab86-f95145ddc289\\', node_type=<ObjectType.DOCUMENT: \\'4\\'>, metadata={\\'file_name\\': \\'faq_document.docx\\', \\'file_path\\': \\'/Users/bobrandt/workspaces/broker_bot_dev/data/faq_document.docx\\', \\'file_type\\': \\'application/vnd.openxmlformats-officedocument.wordprocessingml.document\\', \\'file_size\\': 23825, \\'creation_date\\': \\'2024-09-26\\', \\'last_modified_date\\': \\'2024-09-26\\'}, hash=\\'d2bf8f9549a3ef8449cf0ad908a83a68946ca7700787bece0d4089e285010481\\'), <NodeRelationship.NEXT: \\'3\\'>: RelatedNodeInfo(node_id=\\'9275747c-2b2d-4b29-a177-2830fb915ec2\\', node_type=<ObjectType.TEXT: \\'1\\'>, metadata={}, hash=\\'e5d8d1a8cbd2586c84770c082ce14969d33b34d4ed9a1f18d9aebffe62c03f17\\')}, text=\"Details about Forge\\\\n\\\\n\\\\n\\\\nForge Global, Inc. (“Forge”) serves the complex and emerging needs of the private market ecosystem by forging new connections through our technology, data and expertise. \\\\n\\\\nFounded in 2014, Forge empowers investors and shareholders by facilitating liquidity in the private markets.\\\\n\\\\nSecurities related services are offered through Forge Securities LLC, a broker-dealer registered with the Securities and Exchange Commission, a member of the Financial Industry Regulatory Authority, and wholly owned subsidiary of Forge. \\\\n\\\\nForge Securities operates an alternative trading system for trading of restricted securities. Forge Securities offers brokerage services by acting as your agent in buying or selling unregistered non-public company securities, which include preferred and common stock, structured investments, and membership interests in affiliated and unaffiliated private fund interests. We also act as placement agent for issuers in direct private company securities offerings to investors.\\\\n\\\\nForge\\'s secondary market platform gives institutional investors access to buying and selling opportunities outside of primary funding rounds, tender offers, and exit events.\\\\n\\\\n\\\\n\\\\nPublic Market vs Private Market\\\\n\\\\nThe ‘public market’ refers to investing in issuers (companies) that are publicly traded on a national exchange such as Nasdaq or the New York Stock Exchange.\\\\n\\\\nPublic companies’ shares are typically available for trading to the general public.\\\\n\\\\nCompanies traded in the public market must adhere to financial and performance disclosure requirements and as a result information is more readily available.\\\\n\\\\nInvestors trading in company shares in the public market do not need to meet any minimum financial threshold or level of investment sophistication.\\\\n\\\\nWhen buying or selling, the time between executing a trade to settlement (receiving funds or securities) is typically trade date plus one day. \\\\n\\\\n\\\\n\\\\nThe ‘private market’ refers to investing in companies that are not publicly traded, or in other words private companies.\\\\n\\\\nPrivate companies do not need to disclose financial and performance information, and information about the company may be more difficult to find.• Investors trading in the private market must typically be, at minimum, an “accredited investor.”\\\\n\\\\nWhen buying or selling a private company, the time between executing a trade to settlement (receiving funds or securities) could extend up to several months.\\\\n\\\\n\\\\n\\\\nAccredited Investor\\\\n\\\\nAn “accredited investor” is defined in Rule 501 of the SEC Regulation D, and in the context of a natural person, includes anyone who:\\\\n\\\\nEarned income that exceeded $200,000, or $300,000 together with a spouse, in each of the prior two years, and reasonably expects the same for the current year, or\\\\n\\\\nHas a net worth over $1 million, either alone or together with a spouse (excluding the value of their primary residence), or\\\\n\\\\nIndividuals who have certain professional certifications, designations or credentials, or Individuals who are “knowledgeable employees” as defined in Rule 3c-5(a)(4) under the Investment Company Act of 1940.\\\\n\\\\n\\\\n\\\\nRisks Inherent in the Private Markets\\\\n\\\\nInvesting in private company securities is not suitable for all investors.\\\\n\\\\nAn investment in private company securities is highly speculative and involves a high degree of risk.\\\\n\\\\nIt should only be considered as a long-term investment.\\\\n\\\\nYou must be prepared to withstand a total loss of your investment.\\\\n\\\\nPrivate company securities are also highly illiquid and there is no guarantee that a market will develop for such securities.\\\\n\\\\nSecurities laws generally prohibits the resale of restricted securities without an available exemption from registration which limits a holder’s ability to resale his or her private securities quickly. Such securities also may be subject to restrictions placed by the issuer in order to resale the securities.\\\\n\\\\nEach investment also carries its own specific risks, and you should complete your own independent due diligence regarding the investment, including obtaining additional information about the company, opinions, financial projections and legal or other investment advice. Information about private companies including its financials can also be limited and not readily available, as distinguished from public companies.\\\\n\\\\nAccordingly, investing in private company securities is appropriate only for those sophisticated investors who can also tolerate a high degree of risk and do not require a liquid investment.\", mimetype=\\'text/plain\\', start_char_idx=0, end_char_idx=4505, text_template=\\'{metadata_str}\\\\n\\\\n{content}\\', metadata_template=\\'{key}: {value}\\', metadata_seperator=\\'\\\\n\\'), score=0.8418712251686359), NodeWithScore(node=TextNode(id_=\\'9275747c-2b2d-4b29-a177-2830fb915ec2\\', embedding=None, metadata={\\'file_name\\': \\'faq_document.docx\\', \\'file_path\\': \\'/Users/bobrandt/workspaces/broker_bot_dev/data/faq_document.docx\\', \\'file_type\\': \\'application/vnd.openxmlformats-officedocument.wordprocessingml.document\\', \\'file_size\\': 23825, \\'creation_date\\': \\'2024-09-26\\', \\'last_modified_date\\': \\'2024-09-26\\'}, excluded_embed_metadata_keys=[\\'file_name\\', \\'file_type\\', \\'file_size\\', \\'creation_date\\', \\'last_modified_date\\', \\'last_accessed_date\\'], excluded_llm_metadata_keys=[\\'file_name\\', \\'file_type\\', \\'file_size\\', \\'creation_date\\', \\'last_modified_date\\', \\'last_accessed_date\\'], relationships={<NodeRelationship.SOURCE: \\'1\\'>: RelatedNodeInfo(node_id=\\'3c96cfff-3b48-439e-ab86-f95145ddc289\\', node_type=<ObjectType.DOCUMENT: \\'4\\'>, metadata={\\'file_name\\': \\'faq_document.docx\\', \\'file_path\\': \\'/Users/bobrandt/workspaces/broker_bot_dev/data/faq_document.docx\\', \\'file_type\\': \\'application/vnd.openxmlformats-officedocument.wordprocessingml.document\\', \\'file_size\\': 23825, \\'creation_date\\': \\'2024-09-26\\', \\'last_modified_date\\': \\'2024-09-26\\'}, hash=\\'d2bf8f9549a3ef8449cf0ad908a83a68946ca7700787bece0d4089e285010481\\'), <NodeRelationship.PREVIOUS: \\'2\\'>: RelatedNodeInfo(node_id=\\'da1b2706-b996-470c-9654-8e81b3d3cb68\\', node_type=<ObjectType.TEXT: \\'1\\'>, metadata={\\'file_name\\': \\'faq_document.docx\\', \\'file_path\\': \\'/Users/bobrandt/workspaces/broker_bot_dev/data/faq_document.docx\\', \\'file_type\\': \\'application/vnd.openxmlformats-officedocument.wordprocessingml.document\\', \\'file_size\\': 23825, \\'creation_date\\': \\'2024-09-26\\', \\'last_modified_date\\': \\'2024-09-26\\'}, hash=\\'fbae7e7f3559b19d4c71e2b3f1b72516926bf7a70d549e25d3582333faf3b86d\\')}, text=\"The Forge Platform\\\\n\\\\nData and Analysis Tools. Learn about private companies by visiting their page on www.forgeglobal.com. View news, financings and cap table information and select valuation inputs to track their value over time.\\\\n\\\\nPrivate Securities Specialist. Forge personnel are FINRA registered representatives who are experts at trading private equity. They’re here to answer your questions and make sure your transactions are seamlessly executed. Consult your private market specialist to learn more about private market trading and start to receive Forge\\'s market analysis and data insights\\\\n\\\\nMinimum Investment Amount. Forge’s standard minimum transaction size is $100,000 USD; however, we may allow you to buy or sell an amount less than the minimum, e.g., when an issuer allows smaller trade amounts or to receive a partial execution of a larger order.\\\\n\\\\nAccredited Investor. Purchasers must, at minimum, be an accredited investor.\\\\n\\\\nForge’s Fee. You will pay us a transaction fee every time you buy or sell a private company security. Typically, our transaction fee is 5%. You may pay a higher fee if the total dollar amount of the transaction is less than our minimum transaction amount of $100,000. The fee charged to you will be due upon settlement (closing) of your transaction. You may pay additional fees imposed by the issuer, such as legal opinions, transfer fees, or escrow.\\\\n\\\\nProof of Ownership. Sellers must provide proof of ownership in the private company.\\\\n\\\\nAnti-Money Laundering Review. U.S. federal laws requires all financial institutions to obtain, verify, and record information that identifies each person or entity with whom we conduct securities transactions. In addition to asking you for your name and address and other identifying information, Forge may also request other identifying information and documentation.\\\\n\\\\n\\\\n\\\\nTypical Transaction Process\\\\n\\\\nBuyers and sellers submit an indication of interest in buying/selling shares.\\\\n\\\\nThe buyer and seller agree on a price and a number of shares.\\\\n\\\\nForge assists the buyer and seller in completing terms sheets, executing client engagement and purchase agreements, and notices to the company. When purchasing interests in a Fund, Forge assist the buyer by providing applicable offering documents, such as a Private Placement Memorandum, Subscription Agreement, and Operating Agreement.\\\\n\\\\nForge works with the company to ensure the transaction follows its preferred Right of First Refusal (“ROFR”) or settlement process. The ROFR provides a company with the option to step in as buyer in a transaction.\\\\n\\\\nForge assists the buyer and seller in executing the company’s stock transfer agreement, and legal opinion (if required by the company).\\\\n\\\\nCap table changes are made by company at the closing of a transaction.\\\\n\\\\nThe typical transaction time is 45-60 days\\\\n\\\\n\\\\n\\\\nForge Pro\\\\n\\\\nForge Data provides investors with same-day bids/asks, live pricing information, and closed trade prices and volumes to make investment decisions and mark portfolios to market.\\\\n\\\\nComprehensive secondary market order entry features, trade management tools, and market analytics \\\\n\\\\nNew live order book from active Forge trading clients plus notifications with pricing updates on watched companies \\\\n\\\\nRisk and compliance features from Forge (NYSE: FRGE), the only public company focused on private secondaries markets \\\\n\\\\n\\\\n\\\\nTrade Management \\\\n\\\\nSubmit indications of interest (IOIs) to buy/sell private company share\\\\n\\\\nSpecify common vs. preferred stock, direct vs. SPV, etc.\\\\n\\\\nTrack trade status and execute transaction documents \\\\n\\\\n\\\\n\\\\nLive IOI book with bid/ask prices, volumes, and spreads \\\\n\\\\n900+ companies with live indications of interest \\\\n\\\\nHistoric order book with completed trade data and VWAP\\\\n\\\\nDerived pricing based on Forge’s proprietary data \\\\n\\\\n\\\\n\\\\nValuation and Firmographic Data \\\\n\\\\n18,000private company mutual fund marks across 350+ companies and 150+ funds \\\\n\\\\nIPO/M&A exit scenarios, public company/private company comparisons, and sector insights\\\\n\\\\nFunding round data, valuation history and investor terms for 2,300 companies\\\\n\\\\nSource documents, including fundraising and legal filings \\\\n\\\\n\\\\n\\\\nWhat is my stock worth in [Company?\\\\n\\\\nDirect the client to last closed transaction price/date, VWAP, or bid/ask spread. If there has never been a transaction in that company, let client know that\\\\n\\\\n\\\\n\\\\nWhat price can I buy stock in [Company]?\\\\n\\\\nDirect the client to last closed transaction, VWAP, or bid/ask spread.  If there is an Opportunity in [Company], direct buyer to that Opportunity\", mimetype=\\'text/plain\\', start_char_idx=4509, end_char_idx=9018, text_template=\\'{metadata_str}\\\\n\\\\n{content}\\', metadata_template=\\'{key}: {value}\\', metadata_seperator=\\'\\\\n\\'), score=0.7906636679191036)]', tool_name='retriever', raw_input={'message': 'What is the difference between public and private markets?'}, raw_output=[NodeWithScore(node=TextNode(id_='da1b2706-b996-470c-9654-8e81b3d3cb68', embedding=None, metadata={'file_name': 'faq_document.docx', 'file_path': '/Users/bobrandt/workspaces/broker_bot_dev/data/faq_document.docx', 'file_type': 'application/vnd.openxmlformats-officedocument.wordprocessingml.document', 'file_size': 23825, 'creation_date': '2024-09-26', 'last_modified_date': '2024-09-26'}, excluded_embed_metadata_keys=['file_name', 'file_type', 'file_size', 'creation_date', 'last_modified_date', 'last_accessed_date'], excluded_llm_metadata_keys=['file_name', 'file_type', 'file_size', 'creation_date', 'last_modified_date', 'last_accessed_date'], relationships={<NodeRelationship.SOURCE: '1'>: RelatedNodeInfo(node_id='3c96cfff-3b48-439e-ab86-f95145ddc289', node_type=<ObjectType.DOCUMENT: '4'>, metadata={'file_name': 'faq_document.docx', 'file_path': '/Users/bobrandt/workspaces/broker_bot_dev/data/faq_document.docx', 'file_type': 'application/vnd.openxmlformats-officedocument.wordprocessingml.document', 'file_size': 23825, 'creation_date': '2024-09-26', 'last_modified_date': '2024-09-26'}, hash='d2bf8f9549a3ef8449cf0ad908a83a68946ca7700787bece0d4089e285010481'), <NodeRelationship.NEXT: '3'>: RelatedNodeInfo(node_id='9275747c-2b2d-4b29-a177-2830fb915ec2', node_type=<ObjectType.TEXT: '1'>, metadata={}, hash='e5d8d1a8cbd2586c84770c082ce14969d33b34d4ed9a1f18d9aebffe62c03f17')}, text=\"Details about Forge\\n\\n\\n\\nForge Global, Inc. (“Forge”) serves the complex and emerging needs of the private market ecosystem by forging new connections through our technology, data and expertise. \\n\\nFounded in 2014, Forge empowers investors and shareholders by facilitating liquidity in the private markets.\\n\\nSecurities related services are offered through Forge Securities LLC, a broker-dealer registered with the Securities and Exchange Commission, a member of the Financial Industry Regulatory Authority, and wholly owned subsidiary of Forge. \\n\\nForge Securities operates an alternative trading system for trading of restricted securities. Forge Securities offers brokerage services by acting as your agent in buying or selling unregistered non-public company securities, which include preferred and common stock, structured investments, and membership interests in affiliated and unaffiliated private fund interests. We also act as placement agent for issuers in direct private company securities offerings to investors.\\n\\nForge's secondary market platform gives institutional investors access to buying and selling opportunities outside of primary funding rounds, tender offers, and exit events.\\n\\n\\n\\nPublic Market vs Private Market\\n\\nThe ‘public market’ refers to investing in issuers (companies) that are publicly traded on a national exchange such as Nasdaq or the New York Stock Exchange.\\n\\nPublic companies’ shares are typically available for trading to the general public.\\n\\nCompanies traded in the public market must adhere to financial and performance disclosure requirements and as a result information is more readily available.\\n\\nInvestors trading in company shares in the public market do not need to meet any minimum financial threshold or level of investment sophistication.\\n\\nWhen buying or selling, the time between executing a trade to settlement (receiving funds or securities) is typically trade date plus one day. \\n\\n\\n\\nThe ‘private market’ refers to investing in companies that are not publicly traded, or in other words private companies.\\n\\nPrivate companies do not need to disclose financial and performance information, and information about the company may be more difficult to find.• Investors trading in the private market must typically be, at minimum, an “accredited investor.”\\n\\nWhen buying or selling a private company, the time between executing a trade to settlement (receiving funds or securities) could extend up to several months.\\n\\n\\n\\nAccredited Investor\\n\\nAn “accredited investor” is defined in Rule 501 of the SEC Regulation D, and in the context of a natural person, includes anyone who:\\n\\nEarned income that exceeded $200,000, or $300,000 together with a spouse, in each of the prior two years, and reasonably expects the same for the current year, or\\n\\nHas a net worth over $1 million, either alone or together with a spouse (excluding the value of their primary residence), or\\n\\nIndividuals who have certain professional certifications, designations or credentials, or Individuals who are “knowledgeable employees” as defined in Rule 3c-5(a)(4) under the Investment Company Act of 1940.\\n\\n\\n\\nRisks Inherent in the Private Markets\\n\\nInvesting in private company securities is not suitable for all investors.\\n\\nAn investment in private company securities is highly speculative and involves a high degree of risk.\\n\\nIt should only be considered as a long-term investment.\\n\\nYou must be prepared to withstand a total loss of your investment.\\n\\nPrivate company securities are also highly illiquid and there is no guarantee that a market will develop for such securities.\\n\\nSecurities laws generally prohibits the resale of restricted securities without an available exemption from registration which limits a holder’s ability to resale his or her private securities quickly. Such securities also may be subject to restrictions placed by the issuer in order to resale the securities.\\n\\nEach investment also carries its own specific risks, and you should complete your own independent due diligence regarding the investment, including obtaining additional information about the company, opinions, financial projections and legal or other investment advice. Information about private companies including its financials can also be limited and not readily available, as distinguished from public companies.\\n\\nAccordingly, investing in private company securities is appropriate only for those sophisticated investors who can also tolerate a high degree of risk and do not require a liquid investment.\", mimetype='text/plain', start_char_idx=0, end_char_idx=4505, text_template='{metadata_str}\\n\\n{content}', metadata_template='{key}: {value}', metadata_seperator='\\n'), score=0.8418712251686359), NodeWithScore(node=TextNode(id_='9275747c-2b2d-4b29-a177-2830fb915ec2', embedding=None, metadata={'file_name': 'faq_document.docx', 'file_path': '/Users/bobrandt/workspaces/broker_bot_dev/data/faq_document.docx', 'file_type': 'application/vnd.openxmlformats-officedocument.wordprocessingml.document', 'file_size': 23825, 'creation_date': '2024-09-26', 'last_modified_date': '2024-09-26'}, excluded_embed_metadata_keys=['file_name', 'file_type', 'file_size', 'creation_date', 'last_modified_date', 'last_accessed_date'], excluded_llm_metadata_keys=['file_name', 'file_type', 'file_size', 'creation_date', 'last_modified_date', 'last_accessed_date'], relationships={<NodeRelationship.SOURCE: '1'>: RelatedNodeInfo(node_id='3c96cfff-3b48-439e-ab86-f95145ddc289', node_type=<ObjectType.DOCUMENT: '4'>, metadata={'file_name': 'faq_document.docx', 'file_path': '/Users/bobrandt/workspaces/broker_bot_dev/data/faq_document.docx', 'file_type': 'application/vnd.openxmlformats-officedocument.wordprocessingml.document', 'file_size': 23825, 'creation_date': '2024-09-26', 'last_modified_date': '2024-09-26'}, hash='d2bf8f9549a3ef8449cf0ad908a83a68946ca7700787bece0d4089e285010481'), <NodeRelationship.PREVIOUS: '2'>: RelatedNodeInfo(node_id='da1b2706-b996-470c-9654-8e81b3d3cb68', node_type=<ObjectType.TEXT: '1'>, metadata={'file_name': 'faq_document.docx', 'file_path': '/Users/bobrandt/workspaces/broker_bot_dev/data/faq_document.docx', 'file_type': 'application/vnd.openxmlformats-officedocument.wordprocessingml.document', 'file_size': 23825, 'creation_date': '2024-09-26', 'last_modified_date': '2024-09-26'}, hash='fbae7e7f3559b19d4c71e2b3f1b72516926bf7a70d549e25d3582333faf3b86d')}, text=\"The Forge Platform\\n\\nData and Analysis Tools. Learn about private companies by visiting their page on www.forgeglobal.com. View news, financings and cap table information and select valuation inputs to track their value over time.\\n\\nPrivate Securities Specialist. Forge personnel are FINRA registered representatives who are experts at trading private equity. They’re here to answer your questions and make sure your transactions are seamlessly executed. Consult your private market specialist to learn more about private market trading and start to receive Forge's market analysis and data insights\\n\\nMinimum Investment Amount. Forge’s standard minimum transaction size is $100,000 USD; however, we may allow you to buy or sell an amount less than the minimum, e.g., when an issuer allows smaller trade amounts or to receive a partial execution of a larger order.\\n\\nAccredited Investor. Purchasers must, at minimum, be an accredited investor.\\n\\nForge’s Fee. You will pay us a transaction fee every time you buy or sell a private company security. Typically, our transaction fee is 5%. You may pay a higher fee if the total dollar amount of the transaction is less than our minimum transaction amount of $100,000. The fee charged to you will be due upon settlement (closing) of your transaction. You may pay additional fees imposed by the issuer, such as legal opinions, transfer fees, or escrow.\\n\\nProof of Ownership. Sellers must provide proof of ownership in the private company.\\n\\nAnti-Money Laundering Review. U.S. federal laws requires all financial institutions to obtain, verify, and record information that identifies each person or entity with whom we conduct securities transactions. In addition to asking you for your name and address and other identifying information, Forge may also request other identifying information and documentation.\\n\\n\\n\\nTypical Transaction Process\\n\\nBuyers and sellers submit an indication of interest in buying/selling shares.\\n\\nThe buyer and seller agree on a price and a number of shares.\\n\\nForge assists the buyer and seller in completing terms sheets, executing client engagement and purchase agreements, and notices to the company. When purchasing interests in a Fund, Forge assist the buyer by providing applicable offering documents, such as a Private Placement Memorandum, Subscription Agreement, and Operating Agreement.\\n\\nForge works with the company to ensure the transaction follows its preferred Right of First Refusal (“ROFR”) or settlement process. The ROFR provides a company with the option to step in as buyer in a transaction.\\n\\nForge assists the buyer and seller in executing the company’s stock transfer agreement, and legal opinion (if required by the company).\\n\\nCap table changes are made by company at the closing of a transaction.\\n\\nThe typical transaction time is 45-60 days\\n\\n\\n\\nForge Pro\\n\\nForge Data provides investors with same-day bids/asks, live pricing information, and closed trade prices and volumes to make investment decisions and mark portfolios to market.\\n\\nComprehensive secondary market order entry features, trade management tools, and market analytics \\n\\nNew live order book from active Forge trading clients plus notifications with pricing updates on watched companies \\n\\nRisk and compliance features from Forge (NYSE: FRGE), the only public company focused on private secondaries markets \\n\\n\\n\\nTrade Management \\n\\nSubmit indications of interest (IOIs) to buy/sell private company share\\n\\nSpecify common vs. preferred stock, direct vs. SPV, etc.\\n\\nTrack trade status and execute transaction documents \\n\\n\\n\\nLive IOI book with bid/ask prices, volumes, and spreads \\n\\n900+ companies with live indications of interest \\n\\nHistoric order book with completed trade data and VWAP\\n\\nDerived pricing based on Forge’s proprietary data \\n\\n\\n\\nValuation and Firmographic Data \\n\\n18,000private company mutual fund marks across 350+ companies and 150+ funds \\n\\nIPO/M&A exit scenarios, public company/private company comparisons, and sector insights\\n\\nFunding round data, valuation history and investor terms for 2,300 companies\\n\\nSource documents, including fundraising and legal filings \\n\\n\\n\\nWhat is my stock worth in [Company?\\n\\nDirect the client to last closed transaction price/date, VWAP, or bid/ask spread. If there has never been a transaction in that company, let client know that\\n\\n\\n\\nWhat price can I buy stock in [Company]?\\n\\nDirect the client to last closed transaction, VWAP, or bid/ask spread.  If there is an Opportunity in [Company], direct buyer to that Opportunity\", mimetype='text/plain', start_char_idx=4509, end_char_idx=9018, text_template='{metadata_str}\\n\\n{content}', metadata_template='{key}: {value}', metadata_seperator='\\n'), score=0.7906636679191036)], is_error=False)], source_nodes=[NodeWithScore(node=TextNode(id_='da1b2706-b996-470c-9654-8e81b3d3cb68', embedding=None, metadata={'file_name': 'faq_document.docx', 'file_path': '/Users/bobrandt/workspaces/broker_bot_dev/data/faq_document.docx', 'file_type': 'application/vnd.openxmlformats-officedocument.wordprocessingml.document', 'file_size': 23825, 'creation_date': '2024-09-26', 'last_modified_date': '2024-09-26'}, excluded_embed_metadata_keys=['file_name', 'file_type', 'file_size', 'creation_date', 'last_modified_date', 'last_accessed_date'], excluded_llm_metadata_keys=['file_name', 'file_type', 'file_size', 'creation_date', 'last_modified_date', 'last_accessed_date'], relationships={<NodeRelationship.SOURCE: '1'>: RelatedNodeInfo(node_id='3c96cfff-3b48-439e-ab86-f95145ddc289', node_type=<ObjectType.DOCUMENT: '4'>, metadata={'file_name': 'faq_document.docx', 'file_path': '/Users/bobrandt/workspaces/broker_bot_dev/data/faq_document.docx', 'file_type': 'application/vnd.openxmlformats-officedocument.wordprocessingml.document', 'file_size': 23825, 'creation_date': '2024-09-26', 'last_modified_date': '2024-09-26'}, hash='d2bf8f9549a3ef8449cf0ad908a83a68946ca7700787bece0d4089e285010481'), <NodeRelationship.NEXT: '3'>: RelatedNodeInfo(node_id='9275747c-2b2d-4b29-a177-2830fb915ec2', node_type=<ObjectType.TEXT: '1'>, metadata={}, hash='e5d8d1a8cbd2586c84770c082ce14969d33b34d4ed9a1f18d9aebffe62c03f17')}, text=\"Details about Forge\\n\\n\\n\\nForge Global, Inc. (“Forge”) serves the complex and emerging needs of the private market ecosystem by forging new connections through our technology, data and expertise. \\n\\nFounded in 2014, Forge empowers investors and shareholders by facilitating liquidity in the private markets.\\n\\nSecurities related services are offered through Forge Securities LLC, a broker-dealer registered with the Securities and Exchange Commission, a member of the Financial Industry Regulatory Authority, and wholly owned subsidiary of Forge. \\n\\nForge Securities operates an alternative trading system for trading of restricted securities. Forge Securities offers brokerage services by acting as your agent in buying or selling unregistered non-public company securities, which include preferred and common stock, structured investments, and membership interests in affiliated and unaffiliated private fund interests. We also act as placement agent for issuers in direct private company securities offerings to investors.\\n\\nForge's secondary market platform gives institutional investors access to buying and selling opportunities outside of primary funding rounds, tender offers, and exit events.\\n\\n\\n\\nPublic Market vs Private Market\\n\\nThe ‘public market’ refers to investing in issuers (companies) that are publicly traded on a national exchange such as Nasdaq or the New York Stock Exchange.\\n\\nPublic companies’ shares are typically available for trading to the general public.\\n\\nCompanies traded in the public market must adhere to financial and performance disclosure requirements and as a result information is more readily available.\\n\\nInvestors trading in company shares in the public market do not need to meet any minimum financial threshold or level of investment sophistication.\\n\\nWhen buying or selling, the time between executing a trade to settlement (receiving funds or securities) is typically trade date plus one day. \\n\\n\\n\\nThe ‘private market’ refers to investing in companies that are not publicly traded, or in other words private companies.\\n\\nPrivate companies do not need to disclose financial and performance information, and information about the company may be more difficult to find.• Investors trading in the private market must typically be, at minimum, an “accredited investor.”\\n\\nWhen buying or selling a private company, the time between executing a trade to settlement (receiving funds or securities) could extend up to several months.\\n\\n\\n\\nAccredited Investor\\n\\nAn “accredited investor” is defined in Rule 501 of the SEC Regulation D, and in the context of a natural person, includes anyone who:\\n\\nEarned income that exceeded $200,000, or $300,000 together with a spouse, in each of the prior two years, and reasonably expects the same for the current year, or\\n\\nHas a net worth over $1 million, either alone or together with a spouse (excluding the value of their primary residence), or\\n\\nIndividuals who have certain professional certifications, designations or credentials, or Individuals who are “knowledgeable employees” as defined in Rule 3c-5(a)(4) under the Investment Company Act of 1940.\\n\\n\\n\\nRisks Inherent in the Private Markets\\n\\nInvesting in private company securities is not suitable for all investors.\\n\\nAn investment in private company securities is highly speculative and involves a high degree of risk.\\n\\nIt should only be considered as a long-term investment.\\n\\nYou must be prepared to withstand a total loss of your investment.\\n\\nPrivate company securities are also highly illiquid and there is no guarantee that a market will develop for such securities.\\n\\nSecurities laws generally prohibits the resale of restricted securities without an available exemption from registration which limits a holder’s ability to resale his or her private securities quickly. Such securities also may be subject to restrictions placed by the issuer in order to resale the securities.\\n\\nEach investment also carries its own specific risks, and you should complete your own independent due diligence regarding the investment, including obtaining additional information about the company, opinions, financial projections and legal or other investment advice. Information about private companies including its financials can also be limited and not readily available, as distinguished from public companies.\\n\\nAccordingly, investing in private company securities is appropriate only for those sophisticated investors who can also tolerate a high degree of risk and do not require a liquid investment.\", mimetype='text/plain', start_char_idx=0, end_char_idx=4505, text_template='{metadata_str}\\n\\n{content}', metadata_template='{key}: {value}', metadata_seperator='\\n'), score=0.8418712251686359), NodeWithScore(node=TextNode(id_='9275747c-2b2d-4b29-a177-2830fb915ec2', embedding=None, metadata={'file_name': 'faq_document.docx', 'file_path': '/Users/bobrandt/workspaces/broker_bot_dev/data/faq_document.docx', 'file_type': 'application/vnd.openxmlformats-officedocument.wordprocessingml.document', 'file_size': 23825, 'creation_date': '2024-09-26', 'last_modified_date': '2024-09-26'}, excluded_embed_metadata_keys=['file_name', 'file_type', 'file_size', 'creation_date', 'last_modified_date', 'last_accessed_date'], excluded_llm_metadata_keys=['file_name', 'file_type', 'file_size', 'creation_date', 'last_modified_date', 'last_accessed_date'], relationships={<NodeRelationship.SOURCE: '1'>: RelatedNodeInfo(node_id='3c96cfff-3b48-439e-ab86-f95145ddc289', node_type=<ObjectType.DOCUMENT: '4'>, metadata={'file_name': 'faq_document.docx', 'file_path': '/Users/bobrandt/workspaces/broker_bot_dev/data/faq_document.docx', 'file_type': 'application/vnd.openxmlformats-officedocument.wordprocessingml.document', 'file_size': 23825, 'creation_date': '2024-09-26', 'last_modified_date': '2024-09-26'}, hash='d2bf8f9549a3ef8449cf0ad908a83a68946ca7700787bece0d4089e285010481'), <NodeRelationship.PREVIOUS: '2'>: RelatedNodeInfo(node_id='da1b2706-b996-470c-9654-8e81b3d3cb68', node_type=<ObjectType.TEXT: '1'>, metadata={'file_name': 'faq_document.docx', 'file_path': '/Users/bobrandt/workspaces/broker_bot_dev/data/faq_document.docx', 'file_type': 'application/vnd.openxmlformats-officedocument.wordprocessingml.document', 'file_size': 23825, 'creation_date': '2024-09-26', 'last_modified_date': '2024-09-26'}, hash='fbae7e7f3559b19d4c71e2b3f1b72516926bf7a70d549e25d3582333faf3b86d')}, text=\"The Forge Platform\\n\\nData and Analysis Tools. Learn about private companies by visiting their page on www.forgeglobal.com. View news, financings and cap table information and select valuation inputs to track their value over time.\\n\\nPrivate Securities Specialist. Forge personnel are FINRA registered representatives who are experts at trading private equity. They’re here to answer your questions and make sure your transactions are seamlessly executed. Consult your private market specialist to learn more about private market trading and start to receive Forge's market analysis and data insights\\n\\nMinimum Investment Amount. Forge’s standard minimum transaction size is $100,000 USD; however, we may allow you to buy or sell an amount less than the minimum, e.g., when an issuer allows smaller trade amounts or to receive a partial execution of a larger order.\\n\\nAccredited Investor. Purchasers must, at minimum, be an accredited investor.\\n\\nForge’s Fee. You will pay us a transaction fee every time you buy or sell a private company security. Typically, our transaction fee is 5%. You may pay a higher fee if the total dollar amount of the transaction is less than our minimum transaction amount of $100,000. The fee charged to you will be due upon settlement (closing) of your transaction. You may pay additional fees imposed by the issuer, such as legal opinions, transfer fees, or escrow.\\n\\nProof of Ownership. Sellers must provide proof of ownership in the private company.\\n\\nAnti-Money Laundering Review. U.S. federal laws requires all financial institutions to obtain, verify, and record information that identifies each person or entity with whom we conduct securities transactions. In addition to asking you for your name and address and other identifying information, Forge may also request other identifying information and documentation.\\n\\n\\n\\nTypical Transaction Process\\n\\nBuyers and sellers submit an indication of interest in buying/selling shares.\\n\\nThe buyer and seller agree on a price and a number of shares.\\n\\nForge assists the buyer and seller in completing terms sheets, executing client engagement and purchase agreements, and notices to the company. When purchasing interests in a Fund, Forge assist the buyer by providing applicable offering documents, such as a Private Placement Memorandum, Subscription Agreement, and Operating Agreement.\\n\\nForge works with the company to ensure the transaction follows its preferred Right of First Refusal (“ROFR”) or settlement process. The ROFR provides a company with the option to step in as buyer in a transaction.\\n\\nForge assists the buyer and seller in executing the company’s stock transfer agreement, and legal opinion (if required by the company).\\n\\nCap table changes are made by company at the closing of a transaction.\\n\\nThe typical transaction time is 45-60 days\\n\\n\\n\\nForge Pro\\n\\nForge Data provides investors with same-day bids/asks, live pricing information, and closed trade prices and volumes to make investment decisions and mark portfolios to market.\\n\\nComprehensive secondary market order entry features, trade management tools, and market analytics \\n\\nNew live order book from active Forge trading clients plus notifications with pricing updates on watched companies \\n\\nRisk and compliance features from Forge (NYSE: FRGE), the only public company focused on private secondaries markets \\n\\n\\n\\nTrade Management \\n\\nSubmit indications of interest (IOIs) to buy/sell private company share\\n\\nSpecify common vs. preferred stock, direct vs. SPV, etc.\\n\\nTrack trade status and execute transaction documents \\n\\n\\n\\nLive IOI book with bid/ask prices, volumes, and spreads \\n\\n900+ companies with live indications of interest \\n\\nHistoric order book with completed trade data and VWAP\\n\\nDerived pricing based on Forge’s proprietary data \\n\\n\\n\\nValuation and Firmographic Data \\n\\n18,000private company mutual fund marks across 350+ companies and 150+ funds \\n\\nIPO/M&A exit scenarios, public company/private company comparisons, and sector insights\\n\\nFunding round data, valuation history and investor terms for 2,300 companies\\n\\nSource documents, including fundraising and legal filings \\n\\n\\n\\nWhat is my stock worth in [Company?\\n\\nDirect the client to last closed transaction price/date, VWAP, or bid/ask spread. If there has never been a transaction in that company, let client know that\\n\\n\\n\\nWhat price can I buy stock in [Company]?\\n\\nDirect the client to last closed transaction, VWAP, or bid/ask spread.  If there is an Opportunity in [Company], direct buyer to that Opportunity\", mimetype='text/plain', start_char_idx=4509, end_char_idx=9018, text_template='{metadata_str}\\n\\n{content}', metadata_template='{key}: {value}', metadata_seperator='\\n'), score=0.7906636679191036)], is_dummy_stream=False, metadata=None)"
      ]
     },
     "execution_count": 23,
     "metadata": {},
     "output_type": "execute_result"
    }
   ],
   "source": [
    "from llama_index.core.memory import ChatMemoryBuffer\n",
    "\n",
    "\n",
    "@weave.op()  # 🐝\n",
    "def extract_faq_memory(question: str) -> dict:\n",
    "    memory = ChatMemoryBuffer.from_defaults(token_limit=1500)\n",
    "    llm = OpenAI(model=\"gpt-4o-mini\")\n",
    "    data = SimpleDirectoryReader(input_dir=\"./data/\").load_data()\n",
    "    index = VectorStoreIndex.from_documents(data)\n",
    "\n",
    "    chat_engine = index.as_chat_engine(\n",
    "        llm=llm,\n",
    "        chat_mode=\"context\",\n",
    "        memory=memory,\n",
    "        system_prompt=(\n",
    "            \"You are a chatbot who can discuss Forge Global and the related FAQs.\"\n",
    "        ),\n",
    "    )\n",
    "\n",
    "    response = chat_engine.chat(question)\n",
    "    return response\n",
    "\n",
    "\n",
    "weave.init(\"intro-example\")  # 🐝\n",
    "question = \"What is the difference between public and private markets?\"\n",
    "extract_faq_memory(question)\n",
    "\n",
    "response = chat_engine.chat(\"What did Paul Graham do growing up?\")"
   ]
  },
  {
   "cell_type": "code",
   "execution_count": 19,
   "metadata": {},
   "outputs": [
    {
     "name": "stdout",
     "output_type": "stream",
     "text": [
      "Logged in as Weights & Biases user: bo-brandt.\n",
      "View Weave data at https://wandb.ai/forgeglobal/intro-example/weave\n",
      "🍩 https://wandb.ai/forgeglobal/intro-example/r/call/019233f2-e095-7813-8954-0f1d0f3a291f\n"
     ]
    },
    {
     "data": {
      "text/plain": [
       "{'fruit': 'neoskizzles', 'color': 'purple', 'flavor': 'candy'}"
      ]
     },
     "execution_count": 19,
     "metadata": {},
     "output_type": "execute_result"
    }
   ],
   "source": [
    "import weave\n",
    "import json\n",
    "from openai import OpenAI\n",
    "\n",
    "@weave.op() # 🐝\n",
    "def extract_fruit(sentence: str) -> dict:\n",
    "    client = OpenAI()\n",
    "\n",
    "    response = client.chat.completions.create(\n",
    "    model=\"gpt-3.5-turbo-1106\",\n",
    "    messages=[\n",
    "        {\n",
    "            \"role\": \"system\",\n",
    "            \"content\": \"You will be provided with unstructured data, and your task is to parse it one JSON dictionary with fruit, color and flavor as keys.\"\n",
    "        },\n",
    "        {\n",
    "            \"role\": \"user\",\n",
    "            \"content\": sentence\n",
    "        }\n",
    "        ],\n",
    "        temperature=0.7,\n",
    "        response_format={ \"type\": \"json_object\" }\n",
    "    )\n",
    "    extracted = response.choices[0].message.content\n",
    "    return json.loads(extracted)\n",
    "\n",
    "weave.init('intro-example') # 🐝\n",
    "sentence = \"There are many fruits that were found on the recently discovered planet Goocrux. There are neoskizzles that grow there, which are purple and taste like candy.\"\n",
    "extract_fruit(sentence)"
   ]
  },
  {
   "cell_type": "markdown",
   "metadata": {},
   "source": [
    "## Question generator"
   ]
  },
  {
   "cell_type": "code",
   "execution_count": 36,
   "metadata": {},
   "outputs": [],
   "source": [
    "from llama_index.core.evaluation import DatasetGenerator, RelevancyEvaluator\n",
    "from llama_index.core import SimpleDirectoryReader, VectorStoreIndex, Response\n",
    "from llama_index.llms.openai import OpenAI\n",
    "import nest_asyncio\n",
    "nest_asyncio.apply()"
   ]
  },
  {
   "cell_type": "code",
   "execution_count": 37,
   "metadata": {},
   "outputs": [
    {
     "name": "stderr",
     "output_type": "stream",
     "text": [
      "/Users/bobrandt/workspaces/broker_bot_dev/.venv/lib/python3.9/site-packages/llama_index/core/evaluation/dataset_generation.py:200: DeprecationWarning: Call to deprecated class DatasetGenerator. (Deprecated in favor of `RagDatasetGenerator` which should be used instead.)\n",
      "  return cls(\n"
     ]
    },
    {
     "name": "stdout",
     "output_type": "stream",
     "text": [
      "🍩 https://wandb.ai/forgeglobal/intro-example/r/call/01923510-965d-7791-a0a7-0fc88a939111\n",
      "🍩 https://wandb.ai/forgeglobal/intro-example/r/call/01923510-9651-70d2-82de-7bdde87e75b6\n"
     ]
    },
    {
     "name": "stderr",
     "output_type": "stream",
     "text": [
      "/Users/bobrandt/workspaces/broker_bot_dev/.venv/lib/python3.9/site-packages/llama_index/core/evaluation/dataset_generation.py:296: DeprecationWarning: Call to deprecated class QueryResponseDataset. (Deprecated in favor of `LabelledRagDataset` which should be used instead.)\n",
      "  return QueryResponseDataset(queries=queries, responses=responses_dict)\n"
     ]
    }
   ],
   "source": [
    "llm = OpenAI(model=\"gpt-4o-mini\")\n",
    "reader = SimpleDirectoryReader(input_dir=\"./data/\")\n",
    "documents = reader.load_data()\n",
    "\n",
    "data_generator = DatasetGenerator.from_documents(documents)\n",
    "\n",
    "\n",
    "eval_questions = data_generator.generate_questions_from_nodes()"
   ]
  },
  {
   "cell_type": "code",
   "execution_count": 38,
   "metadata": {},
   "outputs": [
    {
     "data": {
      "text/plain": [
       "['What services does Forge Global, Inc. offer in the private market ecosystem?',\n",
       " 'What are the key differences between the public market and the private market?',\n",
       " 'What criteria define an \"accredited investor\" according to SEC Regulation D?',\n",
       " 'What risks are inherent in investing in private company securities?',\n",
       " 'How does Forge Securities LLC facilitate liquidity in the private markets?',\n",
       " 'What are the disclosure requirements for companies traded in the public market?',\n",
       " 'What types of securities does Forge Securities LLC offer brokerage services for?',\n",
       " 'What is the role of Forge Securities as a placement agent for issuers in direct private company securities offerings?',\n",
       " 'How does the time between executing a trade and settlement differ between the public market and the private market?',\n",
       " 'Why is investing in private company securities considered suitable only for sophisticated investors who can tolerate a high degree of risk?',\n",
       " 'What is the minimum investment amount required for transactions on the Forge platform?',\n",
       " 'What is the typical transaction fee charged by Forge for buying or selling private company securities?',\n",
       " 'What is the role of an accredited investor in transactions on the Forge platform?',\n",
       " 'What documentation is required for sellers to provide proof of ownership in a private company?',\n",
       " 'What is the purpose of the Anti-Money Laundering Review conducted by Forge?',\n",
       " 'Describe the typical transaction process for buyers and sellers on the Forge platform.',\n",
       " 'How does Forge assist buyers in purchasing interests in a Fund?',\n",
       " 'What are some of the features provided by Forge Pro for investors in the secondary market?',\n",
       " 'How can investors track trade status and execute transaction documents on the Forge platform?',\n",
       " 'How does Forge provide valuation and firmographic data to investors on the platform?']"
      ]
     },
     "execution_count": 38,
     "metadata": {},
     "output_type": "execute_result"
    }
   ],
   "source": [
    "eval_questions"
   ]
  },
  {
   "cell_type": "code",
   "execution_count": 39,
   "metadata": {},
   "outputs": [],
   "source": [
    "x = 2"
   ]
  },
  {
   "cell_type": "code",
   "execution_count": 44,
   "metadata": {},
   "outputs": [
    {
     "data": {
      "text/html": [
       "<div>\n",
       "<style scoped>\n",
       "    .dataframe tbody tr th:only-of-type {\n",
       "        vertical-align: middle;\n",
       "    }\n",
       "\n",
       "    .dataframe tbody tr th {\n",
       "        vertical-align: top;\n",
       "    }\n",
       "\n",
       "    .dataframe thead th {\n",
       "        text-align: right;\n",
       "    }\n",
       "</style>\n",
       "<table border=\"1\" class=\"dataframe\">\n",
       "  <thead>\n",
       "    <tr style=\"text-align: right;\">\n",
       "      <th></th>\n",
       "      <th>question</th>\n",
       "      <th>gpt-4o-mini</th>\n",
       "      <th>meta.llama3-70b-instruct-v1:0</th>\n",
       "    </tr>\n",
       "  </thead>\n",
       "  <tbody>\n",
       "    <tr>\n",
       "      <th>0</th>\n",
       "      <td>What services does Forge Global, Inc. offer in...</td>\n",
       "      <td>Forge Global, Inc. offers services in the priv...</td>\n",
       "      <td>Forge Global, Inc. offers services in the priv...</td>\n",
       "    </tr>\n",
       "  </tbody>\n",
       "</table>\n",
       "</div>"
      ],
      "text/plain": [
       "                                            question  \\\n",
       "0  What services does Forge Global, Inc. offer in...   \n",
       "\n",
       "                                         gpt-4o-mini  \\\n",
       "0  Forge Global, Inc. offers services in the priv...   \n",
       "\n",
       "                       meta.llama3-70b-instruct-v1:0  \n",
       "0  Forge Global, Inc. offers services in the priv...  "
      ]
     },
     "execution_count": 44,
     "metadata": {},
     "output_type": "execute_result"
    }
   ],
   "source": [
    "import pandas as pd\n",
    "\n",
    "d = {\n",
    "    \"What services does Forge Global, Inc. offer in the private market ecosystem?\": {\n",
    "        \"gpt-4o-mini\": \"Forge Global, Inc. offers services in the private market ecosystem by facilitating liquidity in the private markets. They empower investors and shareholders by providing the following services:\\n\\n1. Securities related services through Forge Securities LLC, a broker-dealer registered with the Securities and Exchange Commission.\\n2. Operating an alternative trading system for trading restricted securities.\\n3. Offering brokerage services for buying or selling unregistered non-public company securities.\\n4. Acting as a placement agent for issuers in direct private company securities offerings to investors.\\n5. Providing a secondary market platform for institutional investors to access buying and selling opportunities outside of primary funding rounds, tender offers, and exit events.\",\n",
    "        \"meta.llama3-70b-instruct-v1:0\": \"Forge Global, Inc. offers services in the private market ecosystem by facilitating liquidity in the private markets. They empower investors and shareholders by providing the following services:\\n\\n1. Operating an alternative trading system for trading restricted securities.\\n2. Offering brokerage services for buying or selling unregistered non-public company securities.\\n3. Acting as a placement agent for issuers in direct private company securities offerings to investors.\\n4. Providing a secondary market platform for institutional investors to access buying and selling opportunities outside of primary funding rounds, tender offers, and exit events.\",\n",
    "    }\n",
    "}\n",
    "pd.DataFrame.from_dict(d, orient=\"index\").reset_index().rename(columns={'index':'question'})"
   ]
  },
  {
   "cell_type": "code",
   "execution_count": null,
   "metadata": {},
   "outputs": [],
   "source": []
  }
 ],
 "metadata": {
  "kernelspec": {
   "display_name": ".venv",
   "language": "python",
   "name": "python3"
  },
  "language_info": {
   "codemirror_mode": {
    "name": "ipython",
    "version": 3
   },
   "file_extension": ".py",
   "mimetype": "text/x-python",
   "name": "python",
   "nbconvert_exporter": "python",
   "pygments_lexer": "ipython3",
   "version": "3.9.6"
  }
 },
 "nbformat": 4,
 "nbformat_minor": 2
}
