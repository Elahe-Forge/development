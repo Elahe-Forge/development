{
 "cells": [
  {
   "cell_type": "markdown",
   "metadata": {},
   "source": [
    "## Feature engineering notebook for sector classification\n",
    "- Loads ICMS data\n",
    "- EDA and feature engineering\n",
    "- Train/Val/Test split\n",
    "- Datasets stored in S3"
   ]
  },
  {
   "cell_type": "markdown",
   "metadata": {},
   "source": [
    "#### Load dataset"
   ]
  },
  {
   "cell_type": "code",
   "execution_count": 1,
   "metadata": {},
   "outputs": [
    {
     "name": "stderr",
     "output_type": "stream",
     "text": [
      "/Users/bobrandt/workspaces/sector_classification_dev/venv_sector_class_dev/lib/python3.10/site-packages/fsspec/registry.py:279: UserWarning: Your installed version of s3fs is very old and known to cause\n",
      "severe performance issues, see also https://github.com/dask/dask/issues/10276\n",
      "\n",
      "To fix, you should specify a lower version bound on s3fs, or\n",
      "update the current installation.\n",
      "\n",
      "  warnings.warn(s3_msg)\n"
     ]
    }
   ],
   "source": [
    "# input data is simply csv of below query:\n",
    "    # SELECT * \n",
    "    # FROM datalake-curated-production.icms_issuer \n",
    "    # where 1=1`\n",
    "\n",
    "import pandas as pd\n",
    "\n",
    "bucket='sector-classification-aiml'\n",
    "data_key = 'input/icms_issuers_data.csv'\n",
    "data_location = 's3://{}/{}'.format(bucket, data_key)\n",
    "\n",
    "data = pd.read_csv(data_location)"
   ]
  },
  {
   "cell_type": "code",
   "execution_count": 2,
   "metadata": {},
   "outputs": [
    {
     "data": {
      "text/html": [
       "<div>\n",
       "<style scoped>\n",
       "    .dataframe tbody tr th:only-of-type {\n",
       "        vertical-align: middle;\n",
       "    }\n",
       "\n",
       "    .dataframe tbody tr th {\n",
       "        vertical-align: top;\n",
       "    }\n",
       "\n",
       "    .dataframe thead th {\n",
       "        text-align: right;\n",
       "    }\n",
       "</style>\n",
       "<table border=\"1\" class=\"dataframe\">\n",
       "  <thead>\n",
       "    <tr style=\"text-align: right;\">\n",
       "      <th></th>\n",
       "      <th>id</th>\n",
       "      <th>subsector_id</th>\n",
       "      <th>crunchbase_url</th>\n",
       "      <th>description</th>\n",
       "      <th>override_valuation_dollars</th>\n",
       "      <th>year_founded</th>\n",
       "      <th>lifecycle_status</th>\n",
       "      <th>exclude_from_data_products</th>\n",
       "      <th>archived_at</th>\n",
       "      <th>total_funding_dollars</th>\n",
       "      <th>...</th>\n",
       "      <th>name</th>\n",
       "      <th>cap_iq_id</th>\n",
       "      <th>updated_at</th>\n",
       "      <th>sharex_id</th>\n",
       "      <th>sector</th>\n",
       "      <th>sub_sector</th>\n",
       "      <th>legal_address</th>\n",
       "      <th>phone_number</th>\n",
       "      <th>domicile_code</th>\n",
       "      <th>distribute_forge_price</th>\n",
       "    </tr>\n",
       "  </thead>\n",
       "  <tbody>\n",
       "    <tr>\n",
       "      <th>0</th>\n",
       "      <td>4993</td>\n",
       "      <td>NaN</td>\n",
       "      <td>https://www.crunchbase.com/organization/accomp...</td>\n",
       "      <td>Accompany Health is a company aiming to combin...</td>\n",
       "      <td>NaN</td>\n",
       "      <td>2022.0</td>\n",
       "      <td>NaN</td>\n",
       "      <td>True</td>\n",
       "      <td>NaN</td>\n",
       "      <td>NaN</td>\n",
       "      <td>...</td>\n",
       "      <td>Accompany Health</td>\n",
       "      <td>NaN</td>\n",
       "      <td>2024-03-26 16:46:18.321</td>\n",
       "      <td>100005186.0</td>\n",
       "      <td>Healthcare</td>\n",
       "      <td>Digital Health</td>\n",
       "      <td>NaN</td>\n",
       "      <td>NaN</td>\n",
       "      <td>NaN</td>\n",
       "      <td>False</td>\n",
       "    </tr>\n",
       "    <tr>\n",
       "      <th>1</th>\n",
       "      <td>3158</td>\n",
       "      <td>NaN</td>\n",
       "      <td>https://www.crunchbase.com/organization/tether...</td>\n",
       "      <td>Developer of drugs for the treatment of inflam...</td>\n",
       "      <td>NaN</td>\n",
       "      <td>2002.0</td>\n",
       "      <td>NaN</td>\n",
       "      <td>False</td>\n",
       "      <td>NaN</td>\n",
       "      <td>NaN</td>\n",
       "      <td>...</td>\n",
       "      <td>Tetherex Pharmaceuticals</td>\n",
       "      <td>5292859.0</td>\n",
       "      <td>2024-02-02 22:13:09.925</td>\n",
       "      <td>100001336.0</td>\n",
       "      <td>Healthcare</td>\n",
       "      <td>BioTech &amp; Pharma</td>\n",
       "      <td>NaN</td>\n",
       "      <td>NaN</td>\n",
       "      <td>NaN</td>\n",
       "      <td>False</td>\n",
       "    </tr>\n",
       "    <tr>\n",
       "      <th>2</th>\n",
       "      <td>4491</td>\n",
       "      <td>NaN</td>\n",
       "      <td>https://www.crunchbase.com/organization/laser-...</td>\n",
       "      <td>Laser Light Communications is a telecommunicat...</td>\n",
       "      <td>NaN</td>\n",
       "      <td>2012.0</td>\n",
       "      <td>NaN</td>\n",
       "      <td>False</td>\n",
       "      <td>NaN</td>\n",
       "      <td>NaN</td>\n",
       "      <td>...</td>\n",
       "      <td>Laser Light Communications</td>\n",
       "      <td>0.0</td>\n",
       "      <td>2024-02-02 22:12:57.243</td>\n",
       "      <td>100004694.0</td>\n",
       "      <td>Enterprise Software</td>\n",
       "      <td>Cloud/Networking Infrastructure</td>\n",
       "      <td>NaN</td>\n",
       "      <td>NaN</td>\n",
       "      <td>NaN</td>\n",
       "      <td>False</td>\n",
       "    </tr>\n",
       "    <tr>\n",
       "      <th>3</th>\n",
       "      <td>1199</td>\n",
       "      <td>NaN</td>\n",
       "      <td>https://www.crunchbase.com/organization/finastra</td>\n",
       "      <td>Finastra is a fintech company focused on build...</td>\n",
       "      <td>NaN</td>\n",
       "      <td>2017.0</td>\n",
       "      <td>NaN</td>\n",
       "      <td>True</td>\n",
       "      <td>NaN</td>\n",
       "      <td>NaN</td>\n",
       "      <td>...</td>\n",
       "      <td>Finastra</td>\n",
       "      <td>NaN</td>\n",
       "      <td>2024-03-07 23:01:22.334</td>\n",
       "      <td>100001924.0</td>\n",
       "      <td>FinTech</td>\n",
       "      <td>Other Fintech</td>\n",
       "      <td>NaN</td>\n",
       "      <td>NaN</td>\n",
       "      <td>NaN</td>\n",
       "      <td>False</td>\n",
       "    </tr>\n",
       "    <tr>\n",
       "      <th>4</th>\n",
       "      <td>3209</td>\n",
       "      <td>NaN</td>\n",
       "      <td>https://www.crunchbase.com/organization/tigerg...</td>\n",
       "      <td>TigerGraph, founded in 2012, is the developer ...</td>\n",
       "      <td>NaN</td>\n",
       "      <td>2012.0</td>\n",
       "      <td>NaN</td>\n",
       "      <td>False</td>\n",
       "      <td>NaN</td>\n",
       "      <td>NaN</td>\n",
       "      <td>...</td>\n",
       "      <td>TigerGraph</td>\n",
       "      <td>0.0</td>\n",
       "      <td>2024-01-18 00:00:00.000</td>\n",
       "      <td>100001713.0</td>\n",
       "      <td>Enterprise Software</td>\n",
       "      <td>Data Intelligence</td>\n",
       "      <td>NaN</td>\n",
       "      <td>NaN</td>\n",
       "      <td>NaN</td>\n",
       "      <td>True</td>\n",
       "    </tr>\n",
       "  </tbody>\n",
       "</table>\n",
       "<p>5 rows × 37 columns</p>\n",
       "</div>"
      ],
      "text/plain": [
       "     id  subsector_id                                     crunchbase_url  \\\n",
       "0  4993           NaN  https://www.crunchbase.com/organization/accomp...   \n",
       "1  3158           NaN  https://www.crunchbase.com/organization/tether...   \n",
       "2  4491           NaN  https://www.crunchbase.com/organization/laser-...   \n",
       "3  1199           NaN   https://www.crunchbase.com/organization/finastra   \n",
       "4  3209           NaN  https://www.crunchbase.com/organization/tigerg...   \n",
       "\n",
       "                                         description  \\\n",
       "0  Accompany Health is a company aiming to combin...   \n",
       "1  Developer of drugs for the treatment of inflam...   \n",
       "2  Laser Light Communications is a telecommunicat...   \n",
       "3  Finastra is a fintech company focused on build...   \n",
       "4  TigerGraph, founded in 2012, is the developer ...   \n",
       "\n",
       "   override_valuation_dollars  year_founded lifecycle_status  \\\n",
       "0                         NaN        2022.0              NaN   \n",
       "1                         NaN        2002.0              NaN   \n",
       "2                         NaN        2012.0              NaN   \n",
       "3                         NaN        2017.0              NaN   \n",
       "4                         NaN        2012.0              NaN   \n",
       "\n",
       "   exclude_from_data_products archived_at  total_funding_dollars  ...  \\\n",
       "0                        True         NaN                    NaN  ...   \n",
       "1                       False         NaN                    NaN  ...   \n",
       "2                       False         NaN                    NaN  ...   \n",
       "3                        True         NaN                    NaN  ...   \n",
       "4                       False         NaN                    NaN  ...   \n",
       "\n",
       "                         name  cap_iq_id               updated_at  \\\n",
       "0            Accompany Health        NaN  2024-03-26 16:46:18.321   \n",
       "1    Tetherex Pharmaceuticals  5292859.0  2024-02-02 22:13:09.925   \n",
       "2  Laser Light Communications        0.0  2024-02-02 22:12:57.243   \n",
       "3                    Finastra        NaN  2024-03-07 23:01:22.334   \n",
       "4                  TigerGraph        0.0  2024-01-18 00:00:00.000   \n",
       "\n",
       "     sharex_id               sector                       sub_sector  \\\n",
       "0  100005186.0           Healthcare                   Digital Health   \n",
       "1  100001336.0           Healthcare                 BioTech & Pharma   \n",
       "2  100004694.0  Enterprise Software  Cloud/Networking Infrastructure   \n",
       "3  100001924.0              FinTech                    Other Fintech   \n",
       "4  100001713.0  Enterprise Software                Data Intelligence   \n",
       "\n",
       "  legal_address  phone_number domicile_code distribute_forge_price  \n",
       "0           NaN           NaN           NaN                  False  \n",
       "1           NaN           NaN           NaN                  False  \n",
       "2           NaN           NaN           NaN                  False  \n",
       "3           NaN           NaN           NaN                  False  \n",
       "4           NaN           NaN           NaN                   True  \n",
       "\n",
       "[5 rows x 37 columns]"
      ]
     },
     "execution_count": 2,
     "metadata": {},
     "output_type": "execute_result"
    }
   ],
   "source": [
    "data.head()"
   ]
  },
  {
   "cell_type": "code",
   "execution_count": 3,
   "metadata": {},
   "outputs": [
    {
     "data": {
      "text/html": [
       "<div>\n",
       "<style scoped>\n",
       "    .dataframe tbody tr th:only-of-type {\n",
       "        vertical-align: middle;\n",
       "    }\n",
       "\n",
       "    .dataframe tbody tr th {\n",
       "        vertical-align: top;\n",
       "    }\n",
       "\n",
       "    .dataframe thead th {\n",
       "        text-align: right;\n",
       "    }\n",
       "</style>\n",
       "<table border=\"1\" class=\"dataframe\">\n",
       "  <thead>\n",
       "    <tr style=\"text-align: right;\">\n",
       "      <th></th>\n",
       "      <th>issuerKey</th>\n",
       "    </tr>\n",
       "  </thead>\n",
       "  <tbody>\n",
       "    <tr>\n",
       "      <th>0</th>\n",
       "      <td>6sense</td>\n",
       "    </tr>\n",
       "    <tr>\n",
       "      <th>1</th>\n",
       "      <td>abra</td>\n",
       "    </tr>\n",
       "    <tr>\n",
       "      <th>2</th>\n",
       "      <td>acorns</td>\n",
       "    </tr>\n",
       "    <tr>\n",
       "      <th>3</th>\n",
       "      <td>addepar</td>\n",
       "    </tr>\n",
       "    <tr>\n",
       "      <th>4</th>\n",
       "      <td>adroll</td>\n",
       "    </tr>\n",
       "  </tbody>\n",
       "</table>\n",
       "</div>"
      ],
      "text/plain": [
       "  issuerKey\n",
       "0    6sense\n",
       "1      abra\n",
       "2    acorns\n",
       "3   addepar\n",
       "4    adroll"
      ]
     },
     "execution_count": 3,
     "metadata": {},
     "output_type": "execute_result"
    }
   ],
   "source": [
    "# list of priority 1 issuers\n",
    "bucket='sector-classification-aiml'\n",
    "data_key = 'input/top_tier_issuer_list.csv'\n",
    "data_location = 's3://{}/{}'.format(bucket, data_key)\n",
    "\n",
    "top_issuers = pd.read_csv(data_location)\n",
    "top_issuers.head()"
   ]
  },
  {
   "cell_type": "code",
   "execution_count": 4,
   "metadata": {},
   "outputs": [],
   "source": [
    "# merge data with priority 1 issuers\n",
    "data = data.merge(top_issuers, how='left', left_on=['slug'], right_on=['issuerKey'])\n",
    "data['top_issuer'] = data['issuerKey'].apply(lambda x: 0 if pd.isnull(x) else 1)"
   ]
  },
  {
   "cell_type": "markdown",
   "metadata": {},
   "source": [
    "#### Dropping instances where description == NULL"
   ]
  },
  {
   "cell_type": "code",
   "execution_count": 5,
   "metadata": {},
   "outputs": [
    {
     "name": "stdout",
     "output_type": "stream",
     "text": [
      "(4886, 6)\n"
     ]
    },
    {
     "data": {
      "text/plain": [
       "name            1\n",
       "slug            0\n",
       "description    96\n",
       "sector          0\n",
       "sub_sector      0\n",
       "top_issuer      0\n",
       "dtype: int64"
      ]
     },
     "execution_count": 5,
     "metadata": {},
     "output_type": "execute_result"
    }
   ],
   "source": [
    "# identify issuers with null description\n",
    "data_b = data[['name', 'slug', 'description', 'sector', 'sub_sector', 'top_issuer']].copy()\n",
    "print(data_b.shape)\n",
    "pd.isnull(data_b).sum()\n"
   ]
  },
  {
   "cell_type": "code",
   "execution_count": 6,
   "metadata": {},
   "outputs": [
    {
     "name": "stdout",
     "output_type": "stream",
     "text": [
      "(4486, 6)\n"
     ]
    },
    {
     "data": {
      "text/plain": [
       "name           0\n",
       "slug           0\n",
       "description    0\n",
       "sector         0\n",
       "sub_sector     0\n",
       "top_issuer     0\n",
       "dtype: int64"
      ]
     },
     "execution_count": 6,
     "metadata": {},
     "output_type": "execute_result"
    }
   ],
   "source": [
    "# remove instances without description and sector/sub sector information missing\n",
    "df = data_b[ ~(\n",
    "            (pd.isnull(data[\"description\"]))\n",
    "            | (data[\"sector\"] == \"Missing\")\n",
    "            | (data[\"sub_sector\"] == \"Missing\")\n",
    "        )].reset_index(drop=True).copy()\n",
    "\n",
    "print(df.shape)\n",
    "pd.isnull(df).sum()\n"
   ]
  },
  {
   "cell_type": "markdown",
   "metadata": {},
   "source": [
    "#### Dropping instances where duplicate descriptions"
   ]
  },
  {
   "cell_type": "code",
   "execution_count": 7,
   "metadata": {},
   "outputs": [
    {
     "data": {
      "text/html": [
       "<div>\n",
       "<style scoped>\n",
       "    .dataframe tbody tr th:only-of-type {\n",
       "        vertical-align: middle;\n",
       "    }\n",
       "\n",
       "    .dataframe tbody tr th {\n",
       "        vertical-align: top;\n",
       "    }\n",
       "\n",
       "    .dataframe thead th {\n",
       "        text-align: right;\n",
       "    }\n",
       "</style>\n",
       "<table border=\"1\" class=\"dataframe\">\n",
       "  <thead>\n",
       "    <tr style=\"text-align: right;\">\n",
       "      <th></th>\n",
       "      <th>description</th>\n",
       "      <th>descr_count</th>\n",
       "    </tr>\n",
       "  </thead>\n",
       "  <tbody>\n",
       "    <tr>\n",
       "      <th>2512</th>\n",
       "      <td>Moon Active, is a growing mobile game companie...</td>\n",
       "      <td>4</td>\n",
       "    </tr>\n",
       "    <tr>\n",
       "      <th>933</th>\n",
       "      <td>Contineum is a clinical stage biopharmaceutica...</td>\n",
       "      <td>2</td>\n",
       "    </tr>\n",
       "    <tr>\n",
       "      <th>1455</th>\n",
       "      <td>Figure AI is a humanoid robotics developer wit...</td>\n",
       "      <td>2</td>\n",
       "    </tr>\n",
       "    <tr>\n",
       "      <th>2960</th>\n",
       "      <td>Permutive offers a privacy-centric audience pl...</td>\n",
       "      <td>2</td>\n",
       "    </tr>\n",
       "    <tr>\n",
       "      <th>3845</th>\n",
       "      <td>Teamshares is an employee ownership platform t...</td>\n",
       "      <td>2</td>\n",
       "    </tr>\n",
       "  </tbody>\n",
       "</table>\n",
       "</div>"
      ],
      "text/plain": [
       "                                            description  descr_count\n",
       "2512  Moon Active, is a growing mobile game companie...            4\n",
       "933   Contineum is a clinical stage biopharmaceutica...            2\n",
       "1455  Figure AI is a humanoid robotics developer wit...            2\n",
       "2960  Permutive offers a privacy-centric audience pl...            2\n",
       "3845  Teamshares is an employee ownership platform t...            2"
      ]
     },
     "execution_count": 7,
     "metadata": {},
     "output_type": "execute_result"
    }
   ],
   "source": [
    "desc_group = df.groupby('description')['slug'].count().reset_index().rename(columns={'slug':'descr_count'})\\\n",
    ".sort_values('descr_count', ascending=False)\n",
    "\n",
    "desc_group.head()"
   ]
  },
  {
   "cell_type": "code",
   "execution_count": 8,
   "metadata": {},
   "outputs": [
    {
     "data": {
      "text/plain": [
       "(4454, 7)"
      ]
     },
     "execution_count": 8,
     "metadata": {},
     "output_type": "execute_result"
    }
   ],
   "source": [
    "dfm = df.merge(desc_group, how=\"left\", on=\"description\")\n",
    "\n",
    "dff = dfm[dfm.descr_count == 1].reset_index(drop=True).copy()\n",
    "dff.shape"
   ]
  },
  {
   "cell_type": "markdown",
   "metadata": {},
   "source": [
    "#### Relabeling subsector to OTHER if proportion <= 1% to reduce class label size"
   ]
  },
  {
   "cell_type": "code",
   "execution_count": 9,
   "metadata": {},
   "outputs": [],
   "source": [
    "# # distribution of sector label\n",
    "dff['sector_label'] = dff.apply(lambda row: f\"{row['sector']} | {row['sub_sector']}\", axis=1)\n",
    "\n",
    "sector_value_counts_dict = dff['sector_label'].value_counts(normalize=True).to_dict()\n",
    "\n",
    "def relabel(sector_label, min_proportion)->str:\n",
    "    \"\"\"Relabel based on a minimum proportion. If less than min proportion relabel as [Sector] | Other [Sector]\"\"\"\n",
    "    if sector_value_counts_dict[sector_label] <= min_proportion:\n",
    "        return f\"{sector_label.split('|')[0]} | Other {sector_label.split('|')[0]}\"\n",
    "    else:\n",
    "        return sector_label\n",
    "    \n",
    "\n",
    "dff['sector_relabel'] = dff['sector_label'].apply(lambda x: relabel(x,.01))"
   ]
  },
  {
   "cell_type": "markdown",
   "metadata": {},
   "source": [
    "#### Encoding categorical labels"
   ]
  },
  {
   "cell_type": "code",
   "execution_count": 10,
   "metadata": {},
   "outputs": [
    {
     "data": {
      "text/html": [
       "<div>\n",
       "<style scoped>\n",
       "    .dataframe tbody tr th:only-of-type {\n",
       "        vertical-align: middle;\n",
       "    }\n",
       "\n",
       "    .dataframe tbody tr th {\n",
       "        vertical-align: top;\n",
       "    }\n",
       "\n",
       "    .dataframe thead th {\n",
       "        text-align: right;\n",
       "    }\n",
       "</style>\n",
       "<table border=\"1\" class=\"dataframe\">\n",
       "  <thead>\n",
       "    <tr style=\"text-align: right;\">\n",
       "      <th></th>\n",
       "      <th>description</th>\n",
       "      <th>sector_relabel</th>\n",
       "      <th>top_issuer</th>\n",
       "      <th>encoded_labels</th>\n",
       "    </tr>\n",
       "  </thead>\n",
       "  <tbody>\n",
       "    <tr>\n",
       "      <th>0</th>\n",
       "      <td>Accompany Health is a company aiming to combin...</td>\n",
       "      <td>Healthcare | Digital Health</td>\n",
       "      <td>0</td>\n",
       "      <td>32</td>\n",
       "    </tr>\n",
       "    <tr>\n",
       "      <th>1</th>\n",
       "      <td>Developer of drugs for the treatment of inflam...</td>\n",
       "      <td>Healthcare | BioTech &amp; Pharma</td>\n",
       "      <td>0</td>\n",
       "      <td>31</td>\n",
       "    </tr>\n",
       "    <tr>\n",
       "      <th>2</th>\n",
       "      <td>Laser Light Communications is a telecommunicat...</td>\n",
       "      <td>Enterprise Software | Cloud/Networking Infrast...</td>\n",
       "      <td>0</td>\n",
       "      <td>12</td>\n",
       "    </tr>\n",
       "    <tr>\n",
       "      <th>3</th>\n",
       "      <td>Finastra is a fintech company focused on build...</td>\n",
       "      <td>FinTech | Other Fintech</td>\n",
       "      <td>0</td>\n",
       "      <td>27</td>\n",
       "    </tr>\n",
       "    <tr>\n",
       "      <th>4</th>\n",
       "      <td>TigerGraph, founded in 2012, is the developer ...</td>\n",
       "      <td>Enterprise Software | Data Intelligence</td>\n",
       "      <td>1</td>\n",
       "      <td>15</td>\n",
       "    </tr>\n",
       "  </tbody>\n",
       "</table>\n",
       "</div>"
      ],
      "text/plain": [
       "                                         description  \\\n",
       "0  Accompany Health is a company aiming to combin...   \n",
       "1  Developer of drugs for the treatment of inflam...   \n",
       "2  Laser Light Communications is a telecommunicat...   \n",
       "3  Finastra is a fintech company focused on build...   \n",
       "4  TigerGraph, founded in 2012, is the developer ...   \n",
       "\n",
       "                                      sector_relabel  top_issuer  \\\n",
       "0                        Healthcare | Digital Health           0   \n",
       "1                      Healthcare | BioTech & Pharma           0   \n",
       "2  Enterprise Software | Cloud/Networking Infrast...           0   \n",
       "3                            FinTech | Other Fintech           0   \n",
       "4            Enterprise Software | Data Intelligence           1   \n",
       "\n",
       "   encoded_labels  \n",
       "0              32  \n",
       "1              31  \n",
       "2              12  \n",
       "3              27  \n",
       "4              15  "
      ]
     },
     "execution_count": 10,
     "metadata": {},
     "output_type": "execute_result"
    }
   ],
   "source": [
    "# set dataframe for prediction at subsector level\n",
    "dfs = dff[['description', 'sector_relabel', 'top_issuer']].copy()\n",
    "\n",
    "dfs['encoded_labels'] = dfs['sector_relabel'].astype('category').cat.codes\n",
    "\n",
    "data_texts = dfs['description'].to_list()\n",
    "data_labels = dfs['encoded_labels'].to_list()\n",
    "\n",
    "dfs.head()"
   ]
  },
  {
   "cell_type": "markdown",
   "metadata": {},
   "source": [
    "#### Splitting and stratifying dataset into train, validation, and test sets"
   ]
  },
  {
   "cell_type": "code",
   "execution_count": 11,
   "metadata": {},
   "outputs": [],
   "source": [
    "# Stratify dataset when splitting\n",
    "from sklearn.model_selection import train_test_split\n",
    "\n",
    "train_texts, val_texts, train_labels, val_labels = train_test_split(data_texts, data_labels, test_size = 0.2, random_state=23, stratify=data_labels)\n",
    "train_texts, test_texts, train_labels, test_labels = train_test_split(train_texts, train_labels, test_size = 0.1, random_state=23, stratify=train_labels)"
   ]
  },
  {
   "cell_type": "code",
   "execution_count": 12,
   "metadata": {},
   "outputs": [],
   "source": [
    "dfi = dfs[dfs['top_issuer']==1].reset_index(drop=True).copy()\n",
    "top_issuers_texts = dfi['description'].to_list()\n",
    "top_issuers_labels = dfi['encoded_labels'].to_list()"
   ]
  },
  {
   "cell_type": "markdown",
   "metadata": {},
   "source": [
    "#### Generating Dataset"
   ]
  },
  {
   "cell_type": "code",
   "execution_count": 13,
   "metadata": {},
   "outputs": [
    {
     "name": "stderr",
     "output_type": "stream",
     "text": [
      "/Users/bobrandt/workspaces/sector_classification_dev/venv_sector_class_dev/lib/python3.10/site-packages/tqdm/auto.py:21: TqdmWarning: IProgress not found. Please update jupyter and ipywidgets. See https://ipywidgets.readthedocs.io/en/stable/user_install.html\n",
      "  from .autonotebook import tqdm as notebook_tqdm\n"
     ]
    }
   ],
   "source": [
    "from datasets.dataset_dict import DatasetDict\n",
    "from datasets import Dataset\n",
    "\n",
    "d = {'train':Dataset.from_dict({'label':train_labels,'text':train_texts}),\n",
    "     'val':Dataset.from_dict({'label':val_labels,'text':val_texts}),\n",
    "     'test':Dataset.from_dict({'label':test_labels,'text':test_texts}),\n",
    "     'top_issuers':Dataset.from_dict({'label':top_issuers_labels,'text':top_issuers_texts})\n",
    "     }\n",
    "\n",
    "sectors = DatasetDict(d)"
   ]
  },
  {
   "cell_type": "markdown",
   "metadata": {},
   "source": [
    "#### Saving Dataset on S3"
   ]
  },
  {
   "cell_type": "code",
   "execution_count": 14,
   "metadata": {},
   "outputs": [
    {
     "name": "stderr",
     "output_type": "stream",
     "text": [
      "                                                                                             \r"
     ]
    }
   ],
   "source": [
    "# saving sector data to S3\n",
    "import os\n",
    "\n",
    "s3_root_folder = f\"s3://team-orange-datasets\"\n",
    "data_path = os.path.join(s3_root_folder, \"subsector-classification\")\n",
    "sectors.save_to_disk(data_path)"
   ]
  }
 ],
 "metadata": {
  "kernelspec": {
   "display_name": "venv_sector_class_dev",
   "language": "python",
   "name": "python3"
  },
  "language_info": {
   "codemirror_mode": {
    "name": "ipython",
    "version": 3
   },
   "file_extension": ".py",
   "mimetype": "text/x-python",
   "name": "python",
   "nbconvert_exporter": "python",
   "pygments_lexer": "ipython3",
   "version": "3.10.0"
  }
 },
 "nbformat": 4,
 "nbformat_minor": 2
}
