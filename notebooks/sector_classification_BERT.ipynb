{
 "cells": [
  {
   "cell_type": "code",
   "execution_count": 2,
   "id": "063b4e9f-0b5f-4279-8607-bc3b6af9ffbe",
   "metadata": {
    "tags": []
   },
   "outputs": [],
   "source": [
    "!pip3 install tensorflow --quiet\n",
    "!pip3 install datasets --quiet\n",
    "!pip3 install transformers --quiet\n",
    "!pip3 install tf_keras --quiet"
   ]
  },
  {
   "cell_type": "code",
   "execution_count": 3,
   "id": "b59b3e58-9aae-4e34-8583-70beaa067581",
   "metadata": {
    "tags": []
   },
   "outputs": [
    {
     "name": "stderr",
     "output_type": "stream",
     "text": [
      "Matplotlib is building the font cache; this may take a moment.\n"
     ]
    }
   ],
   "source": [
    "import pandas as pd\n",
    "import numpy as np\n",
    "\n",
    "import boto3\n",
    "import matplotlib.pyplot as plt"
   ]
  },
  {
   "cell_type": "code",
   "execution_count": 4,
   "id": "463c74b0-c6ab-4b0a-9726-7f4ca164e4b5",
   "metadata": {
    "tags": []
   },
   "outputs": [
    {
     "data": {
      "text/plain": [
       "True"
      ]
     },
     "execution_count": 4,
     "metadata": {},
     "output_type": "execute_result"
    }
   ],
   "source": [
    "import torch\n",
    "\n",
    "# GPU available\n",
    "torch.cuda.is_available()"
   ]
  },
  {
   "cell_type": "code",
   "execution_count": 5,
   "id": "5eecf799-2003-4909-a744-cd40bc2d2689",
   "metadata": {
    "tags": []
   },
   "outputs": [
    {
     "name": "stderr",
     "output_type": "stream",
     "text": [
      "/home/ec2-user/anaconda3/envs/pytorch_p310/lib/python3.10/site-packages/fsspec/registry.py:273: UserWarning: Your installed version of s3fs is very old and known to cause\n",
      "severe performance issues, see also https://github.com/dask/dask/issues/10276\n",
      "\n",
      "To fix, you should specify a lower version bound on s3fs, or\n",
      "update the current installation.\n",
      "\n",
      "  warnings.warn(s3_msg)\n"
     ]
    }
   ],
   "source": [
    "bucket='sector-classification-aiml'\n",
    "data_key = 'input/icms_issuers_data.csv'\n",
    "data_location = 's3://{}/{}'.format(bucket, data_key)\n",
    "\n",
    "data = pd.read_csv(data_location)"
   ]
  },
  {
   "cell_type": "code",
   "execution_count": 6,
   "id": "0a01c460-cb33-4e1e-bb00-d7d2d4566ca5",
   "metadata": {
    "tags": []
   },
   "outputs": [
    {
     "data": {
      "text/html": [
       "<div>\n",
       "<style scoped>\n",
       "    .dataframe tbody tr th:only-of-type {\n",
       "        vertical-align: middle;\n",
       "    }\n",
       "\n",
       "    .dataframe tbody tr th {\n",
       "        vertical-align: top;\n",
       "    }\n",
       "\n",
       "    .dataframe thead th {\n",
       "        text-align: right;\n",
       "    }\n",
       "</style>\n",
       "<table border=\"1\" class=\"dataframe\">\n",
       "  <thead>\n",
       "    <tr style=\"text-align: right;\">\n",
       "      <th></th>\n",
       "      <th>id</th>\n",
       "      <th>subsector_id</th>\n",
       "      <th>crunchbase_url</th>\n",
       "      <th>description</th>\n",
       "      <th>override_valuation_dollars</th>\n",
       "      <th>year_founded</th>\n",
       "      <th>lifecycle_status</th>\n",
       "      <th>exclude_from_data_products</th>\n",
       "      <th>archived_at</th>\n",
       "      <th>total_funding_dollars</th>\n",
       "      <th>...</th>\n",
       "      <th>name</th>\n",
       "      <th>cap_iq_id</th>\n",
       "      <th>updated_at</th>\n",
       "      <th>sharex_id</th>\n",
       "      <th>sector</th>\n",
       "      <th>sub_sector</th>\n",
       "      <th>legal_address</th>\n",
       "      <th>phone_number</th>\n",
       "      <th>domicile_code</th>\n",
       "      <th>distribute_forge_price</th>\n",
       "    </tr>\n",
       "  </thead>\n",
       "  <tbody>\n",
       "    <tr>\n",
       "      <th>0</th>\n",
       "      <td>4993</td>\n",
       "      <td>NaN</td>\n",
       "      <td>https://www.crunchbase.com/organization/accomp...</td>\n",
       "      <td>Accompany Health is a company aiming to combin...</td>\n",
       "      <td>NaN</td>\n",
       "      <td>2022.0</td>\n",
       "      <td>NaN</td>\n",
       "      <td>True</td>\n",
       "      <td>NaN</td>\n",
       "      <td>NaN</td>\n",
       "      <td>...</td>\n",
       "      <td>Accompany Health</td>\n",
       "      <td>NaN</td>\n",
       "      <td>2024-03-26 16:46:18.321</td>\n",
       "      <td>100005186.0</td>\n",
       "      <td>Healthcare</td>\n",
       "      <td>Digital Health</td>\n",
       "      <td>NaN</td>\n",
       "      <td>NaN</td>\n",
       "      <td>NaN</td>\n",
       "      <td>False</td>\n",
       "    </tr>\n",
       "    <tr>\n",
       "      <th>1</th>\n",
       "      <td>3158</td>\n",
       "      <td>NaN</td>\n",
       "      <td>https://www.crunchbase.com/organization/tether...</td>\n",
       "      <td>Developer of drugs for the treatment of inflam...</td>\n",
       "      <td>NaN</td>\n",
       "      <td>2002.0</td>\n",
       "      <td>NaN</td>\n",
       "      <td>False</td>\n",
       "      <td>NaN</td>\n",
       "      <td>NaN</td>\n",
       "      <td>...</td>\n",
       "      <td>Tetherex Pharmaceuticals</td>\n",
       "      <td>5292859.0</td>\n",
       "      <td>2024-02-02 22:13:09.925</td>\n",
       "      <td>100001336.0</td>\n",
       "      <td>Healthcare</td>\n",
       "      <td>BioTech &amp; Pharma</td>\n",
       "      <td>NaN</td>\n",
       "      <td>NaN</td>\n",
       "      <td>NaN</td>\n",
       "      <td>False</td>\n",
       "    </tr>\n",
       "    <tr>\n",
       "      <th>2</th>\n",
       "      <td>4491</td>\n",
       "      <td>NaN</td>\n",
       "      <td>https://www.crunchbase.com/organization/laser-...</td>\n",
       "      <td>Laser Light Communications is a telecommunicat...</td>\n",
       "      <td>NaN</td>\n",
       "      <td>2012.0</td>\n",
       "      <td>NaN</td>\n",
       "      <td>False</td>\n",
       "      <td>NaN</td>\n",
       "      <td>NaN</td>\n",
       "      <td>...</td>\n",
       "      <td>Laser Light Communications</td>\n",
       "      <td>0.0</td>\n",
       "      <td>2024-02-02 22:12:57.243</td>\n",
       "      <td>100004694.0</td>\n",
       "      <td>Enterprise Software</td>\n",
       "      <td>Cloud/Networking Infrastructure</td>\n",
       "      <td>NaN</td>\n",
       "      <td>NaN</td>\n",
       "      <td>NaN</td>\n",
       "      <td>False</td>\n",
       "    </tr>\n",
       "    <tr>\n",
       "      <th>3</th>\n",
       "      <td>1199</td>\n",
       "      <td>NaN</td>\n",
       "      <td>https://www.crunchbase.com/organization/finastra</td>\n",
       "      <td>Finastra is a fintech company focused on build...</td>\n",
       "      <td>NaN</td>\n",
       "      <td>2017.0</td>\n",
       "      <td>NaN</td>\n",
       "      <td>True</td>\n",
       "      <td>NaN</td>\n",
       "      <td>NaN</td>\n",
       "      <td>...</td>\n",
       "      <td>Finastra</td>\n",
       "      <td>NaN</td>\n",
       "      <td>2024-03-07 23:01:22.334</td>\n",
       "      <td>100001924.0</td>\n",
       "      <td>FinTech</td>\n",
       "      <td>Other Fintech</td>\n",
       "      <td>NaN</td>\n",
       "      <td>NaN</td>\n",
       "      <td>NaN</td>\n",
       "      <td>False</td>\n",
       "    </tr>\n",
       "    <tr>\n",
       "      <th>4</th>\n",
       "      <td>3209</td>\n",
       "      <td>NaN</td>\n",
       "      <td>https://www.crunchbase.com/organization/tigerg...</td>\n",
       "      <td>TigerGraph, founded in 2012, is the developer ...</td>\n",
       "      <td>NaN</td>\n",
       "      <td>2012.0</td>\n",
       "      <td>NaN</td>\n",
       "      <td>False</td>\n",
       "      <td>NaN</td>\n",
       "      <td>NaN</td>\n",
       "      <td>...</td>\n",
       "      <td>TigerGraph</td>\n",
       "      <td>0.0</td>\n",
       "      <td>2024-01-18 00:00:00.000</td>\n",
       "      <td>100001713.0</td>\n",
       "      <td>Enterprise Software</td>\n",
       "      <td>Data Intelligence</td>\n",
       "      <td>NaN</td>\n",
       "      <td>NaN</td>\n",
       "      <td>NaN</td>\n",
       "      <td>True</td>\n",
       "    </tr>\n",
       "  </tbody>\n",
       "</table>\n",
       "<p>5 rows × 37 columns</p>\n",
       "</div>"
      ],
      "text/plain": [
       "     id  subsector_id                                     crunchbase_url  \\\n",
       "0  4993           NaN  https://www.crunchbase.com/organization/accomp...   \n",
       "1  3158           NaN  https://www.crunchbase.com/organization/tether...   \n",
       "2  4491           NaN  https://www.crunchbase.com/organization/laser-...   \n",
       "3  1199           NaN   https://www.crunchbase.com/organization/finastra   \n",
       "4  3209           NaN  https://www.crunchbase.com/organization/tigerg...   \n",
       "\n",
       "                                         description  \\\n",
       "0  Accompany Health is a company aiming to combin...   \n",
       "1  Developer of drugs for the treatment of inflam...   \n",
       "2  Laser Light Communications is a telecommunicat...   \n",
       "3  Finastra is a fintech company focused on build...   \n",
       "4  TigerGraph, founded in 2012, is the developer ...   \n",
       "\n",
       "   override_valuation_dollars  year_founded lifecycle_status  \\\n",
       "0                         NaN        2022.0              NaN   \n",
       "1                         NaN        2002.0              NaN   \n",
       "2                         NaN        2012.0              NaN   \n",
       "3                         NaN        2017.0              NaN   \n",
       "4                         NaN        2012.0              NaN   \n",
       "\n",
       "   exclude_from_data_products archived_at  total_funding_dollars  ...  \\\n",
       "0                        True         NaN                    NaN  ...   \n",
       "1                       False         NaN                    NaN  ...   \n",
       "2                       False         NaN                    NaN  ...   \n",
       "3                        True         NaN                    NaN  ...   \n",
       "4                       False         NaN                    NaN  ...   \n",
       "\n",
       "                         name  cap_iq_id               updated_at  \\\n",
       "0            Accompany Health        NaN  2024-03-26 16:46:18.321   \n",
       "1    Tetherex Pharmaceuticals  5292859.0  2024-02-02 22:13:09.925   \n",
       "2  Laser Light Communications        0.0  2024-02-02 22:12:57.243   \n",
       "3                    Finastra        NaN  2024-03-07 23:01:22.334   \n",
       "4                  TigerGraph        0.0  2024-01-18 00:00:00.000   \n",
       "\n",
       "     sharex_id               sector                       sub_sector  \\\n",
       "0  100005186.0           Healthcare                   Digital Health   \n",
       "1  100001336.0           Healthcare                 BioTech & Pharma   \n",
       "2  100004694.0  Enterprise Software  Cloud/Networking Infrastructure   \n",
       "3  100001924.0              FinTech                    Other Fintech   \n",
       "4  100001713.0  Enterprise Software                Data Intelligence   \n",
       "\n",
       "  legal_address  phone_number domicile_code distribute_forge_price  \n",
       "0           NaN           NaN           NaN                  False  \n",
       "1           NaN           NaN           NaN                  False  \n",
       "2           NaN           NaN           NaN                  False  \n",
       "3           NaN           NaN           NaN                  False  \n",
       "4           NaN           NaN           NaN                   True  \n",
       "\n",
       "[5 rows x 37 columns]"
      ]
     },
     "execution_count": 6,
     "metadata": {},
     "output_type": "execute_result"
    }
   ],
   "source": [
    "data.head()"
   ]
  },
  {
   "cell_type": "code",
   "execution_count": 7,
   "id": "82208958",
   "metadata": {
    "tags": []
   },
   "outputs": [],
   "source": [
    "bucket='sector-classification-aiml'\n",
    "data_key = 'input/top_tier_issuer_list.csv'\n",
    "data_location = 's3://{}/{}'.format(bucket, data_key)\n",
    "\n",
    "top_issuers = pd.read_csv(data_location)"
   ]
  },
  {
   "cell_type": "code",
   "execution_count": 8,
   "id": "a71b2ae1",
   "metadata": {
    "tags": []
   },
   "outputs": [
    {
     "data": {
      "text/html": [
       "<div>\n",
       "<style scoped>\n",
       "    .dataframe tbody tr th:only-of-type {\n",
       "        vertical-align: middle;\n",
       "    }\n",
       "\n",
       "    .dataframe tbody tr th {\n",
       "        vertical-align: top;\n",
       "    }\n",
       "\n",
       "    .dataframe thead th {\n",
       "        text-align: right;\n",
       "    }\n",
       "</style>\n",
       "<table border=\"1\" class=\"dataframe\">\n",
       "  <thead>\n",
       "    <tr style=\"text-align: right;\">\n",
       "      <th></th>\n",
       "      <th>issuerKey</th>\n",
       "    </tr>\n",
       "  </thead>\n",
       "  <tbody>\n",
       "    <tr>\n",
       "      <th>0</th>\n",
       "      <td>6sense</td>\n",
       "    </tr>\n",
       "    <tr>\n",
       "      <th>1</th>\n",
       "      <td>abra</td>\n",
       "    </tr>\n",
       "    <tr>\n",
       "      <th>2</th>\n",
       "      <td>acorns</td>\n",
       "    </tr>\n",
       "    <tr>\n",
       "      <th>3</th>\n",
       "      <td>addepar</td>\n",
       "    </tr>\n",
       "    <tr>\n",
       "      <th>4</th>\n",
       "      <td>adroll</td>\n",
       "    </tr>\n",
       "  </tbody>\n",
       "</table>\n",
       "</div>"
      ],
      "text/plain": [
       "  issuerKey\n",
       "0    6sense\n",
       "1      abra\n",
       "2    acorns\n",
       "3   addepar\n",
       "4    adroll"
      ]
     },
     "execution_count": 8,
     "metadata": {},
     "output_type": "execute_result"
    }
   ],
   "source": [
    "top_issuers.head()"
   ]
  },
  {
   "cell_type": "code",
   "execution_count": 9,
   "id": "a3bbf17e",
   "metadata": {
    "tags": []
   },
   "outputs": [],
   "source": [
    "data = data.merge(top_issuers, how='left', left_on=['slug'], right_on=['issuerKey'])\n",
    "data['top_issuer'] = data['issuerKey'].apply(lambda x: 0 if pd.isnull(x) else 1)"
   ]
  },
  {
   "cell_type": "markdown",
   "id": "83d8b10e",
   "metadata": {},
   "source": [
    "### EDA"
   ]
  },
  {
   "cell_type": "code",
   "execution_count": 10,
   "id": "47140972-fb5a-4ff9-9215-02bec71adada",
   "metadata": {
    "tags": []
   },
   "outputs": [
    {
     "name": "stdout",
     "output_type": "stream",
     "text": [
      "(4886, 6)\n"
     ]
    },
    {
     "data": {
      "text/plain": [
       "name            1\n",
       "slug            0\n",
       "description    96\n",
       "sector          0\n",
       "sub_sector      0\n",
       "top_issuer      0\n",
       "dtype: int64"
      ]
     },
     "execution_count": 10,
     "metadata": {},
     "output_type": "execute_result"
    }
   ],
   "source": [
    "data_b = data[['name', 'slug', 'description', 'sector', 'sub_sector', 'top_issuer']].copy()\n",
    "print(data_b.shape)\n",
    "pd.isnull(data_b).sum()\n"
   ]
  },
  {
   "cell_type": "code",
   "execution_count": 12,
   "id": "a209de34-3bda-46ac-a66b-39f20f17b862",
   "metadata": {
    "tags": []
   },
   "outputs": [
    {
     "name": "stdout",
     "output_type": "stream",
     "text": [
      "(4486, 6)\n"
     ]
    },
    {
     "data": {
      "text/plain": [
       "name           0\n",
       "slug           0\n",
       "description    0\n",
       "sector         0\n",
       "sub_sector     0\n",
       "top_issuer     0\n",
       "dtype: int64"
      ]
     },
     "execution_count": 12,
     "metadata": {},
     "output_type": "execute_result"
    }
   ],
   "source": [
    "# remove instances without description and sector/sub sector information missing\n",
    "df = data_b[ ~(\n",
    "            (pd.isnull(data[\"description\"]))\n",
    "            | (data[\"sector\"] == \"Missing\")\n",
    "            | (data[\"sub_sector\"] == \"Missing\")\n",
    "        )].reset_index(drop=True).copy()\n",
    "\n",
    "print(df.shape)\n",
    "pd.isnull(df).sum()\n"
   ]
  },
  {
   "cell_type": "code",
   "execution_count": 23,
   "id": "0b1c98bb-9975-466c-b951-bcd194cd8dde",
   "metadata": {
    "tags": []
   },
   "outputs": [
    {
     "data": {
      "text/html": [
       "<div>\n",
       "<style scoped>\n",
       "    .dataframe tbody tr th:only-of-type {\n",
       "        vertical-align: middle;\n",
       "    }\n",
       "\n",
       "    .dataframe tbody tr th {\n",
       "        vertical-align: top;\n",
       "    }\n",
       "\n",
       "    .dataframe thead th {\n",
       "        text-align: right;\n",
       "    }\n",
       "</style>\n",
       "<table border=\"1\" class=\"dataframe\">\n",
       "  <thead>\n",
       "    <tr style=\"text-align: right;\">\n",
       "      <th></th>\n",
       "      <th>description</th>\n",
       "      <th>descr_count</th>\n",
       "    </tr>\n",
       "  </thead>\n",
       "  <tbody>\n",
       "    <tr>\n",
       "      <th>2512</th>\n",
       "      <td>Moon Active, is a growing mobile game companie...</td>\n",
       "      <td>4</td>\n",
       "    </tr>\n",
       "    <tr>\n",
       "      <th>1455</th>\n",
       "      <td>Figure AI is a humanoid robotics developer wit...</td>\n",
       "      <td>2</td>\n",
       "    </tr>\n",
       "    <tr>\n",
       "      <th>2960</th>\n",
       "      <td>Permutive offers a privacy-centric audience pl...</td>\n",
       "      <td>2</td>\n",
       "    </tr>\n",
       "    <tr>\n",
       "      <th>3845</th>\n",
       "      <td>Teamshares is an employee ownership platform t...</td>\n",
       "      <td>2</td>\n",
       "    </tr>\n",
       "    <tr>\n",
       "      <th>1311</th>\n",
       "      <td>Emerald Cloud Lab (ECL) is a unique, remotely ...</td>\n",
       "      <td>2</td>\n",
       "    </tr>\n",
       "  </tbody>\n",
       "</table>\n",
       "</div>"
      ],
      "text/plain": [
       "                                            description  descr_count\n",
       "2512  Moon Active, is a growing mobile game companie...            4\n",
       "1455  Figure AI is a humanoid robotics developer wit...            2\n",
       "2960  Permutive offers a privacy-centric audience pl...            2\n",
       "3845  Teamshares is an employee ownership platform t...            2\n",
       "1311  Emerald Cloud Lab (ECL) is a unique, remotely ...            2"
      ]
     },
     "execution_count": 23,
     "metadata": {},
     "output_type": "execute_result"
    }
   ],
   "source": [
    "desc_group = df.groupby('description')['slug'].count().reset_index().rename(columns={'slug':'descr_count'})\\\n",
    ".sort_values('descr_count', ascending=False)\n",
    "\n",
    "desc_group.head()"
   ]
  },
  {
   "cell_type": "code",
   "execution_count": 24,
   "id": "ef0898a0-5704-4947-9ec0-312436816807",
   "metadata": {
    "tags": []
   },
   "outputs": [
    {
     "data": {
      "text/html": [
       "<div>\n",
       "<style scoped>\n",
       "    .dataframe tbody tr th:only-of-type {\n",
       "        vertical-align: middle;\n",
       "    }\n",
       "\n",
       "    .dataframe tbody tr th {\n",
       "        vertical-align: top;\n",
       "    }\n",
       "\n",
       "    .dataframe thead th {\n",
       "        text-align: right;\n",
       "    }\n",
       "</style>\n",
       "<table border=\"1\" class=\"dataframe\">\n",
       "  <thead>\n",
       "    <tr style=\"text-align: right;\">\n",
       "      <th></th>\n",
       "      <th>descr_count</th>\n",
       "      <th>count</th>\n",
       "    </tr>\n",
       "  </thead>\n",
       "  <tbody>\n",
       "    <tr>\n",
       "      <th>0</th>\n",
       "      <td>1</td>\n",
       "      <td>4454</td>\n",
       "    </tr>\n",
       "    <tr>\n",
       "      <th>1</th>\n",
       "      <td>2</td>\n",
       "      <td>14</td>\n",
       "    </tr>\n",
       "    <tr>\n",
       "      <th>2</th>\n",
       "      <td>4</td>\n",
       "      <td>1</td>\n",
       "    </tr>\n",
       "  </tbody>\n",
       "</table>\n",
       "</div>"
      ],
      "text/plain": [
       "   descr_count  count\n",
       "0            1   4454\n",
       "1            2     14\n",
       "2            4      1"
      ]
     },
     "execution_count": 24,
     "metadata": {},
     "output_type": "execute_result"
    }
   ],
   "source": [
    "desc_group.groupby('descr_count').count().reset_index().rename(columns={'description':'count'})"
   ]
  },
  {
   "cell_type": "code",
   "execution_count": 28,
   "id": "14c298ed-7307-42cd-8a25-80e15ff95eac",
   "metadata": {
    "tags": []
   },
   "outputs": [
    {
     "data": {
      "text/plain": [
       "(4454, 7)"
      ]
     },
     "execution_count": 28,
     "metadata": {},
     "output_type": "execute_result"
    }
   ],
   "source": [
    "dfm = df.merge(desc_group, how=\"left\", on=\"description\")\n",
    "\n",
    "dff = dfm[dfm.descr_count == 1].reset_index(drop=True).copy()\n",
    "dff.shape"
   ]
  },
  {
   "cell_type": "code",
   "execution_count": 29,
   "id": "49433b09-48ce-4bfe-9ba9-13f768c4445e",
   "metadata": {
    "tags": []
   },
   "outputs": [
    {
     "name": "stdout",
     "output_type": "stream",
     "text": [
      "Index(['index', 'sector_label'], dtype='object')\n"
     ]
    },
    {
     "data": {
      "image/png": "[encoded data removed]",
      "text/plain": [
       "<Figure size 640x480 with 1 Axes>"
      ]
     },
     "metadata": {},
     "output_type": "display_data"
    }
   ],
   "source": [
    "# distribution of sector label\n",
    "dff['sector_label'] = dff.apply(lambda row: f\"{row['sector']} | {row['sub_sector']}\", axis=1)\n",
    "\n",
    "v_counts = dff['sector_label'].value_counts(normalize=True).reset_index()\n",
    "print(v_counts.columns)\n",
    "plt.bar(x=v_counts[v_counts.columns[0]], height=v_counts[v_counts.columns[1]])\n",
    "\n",
    "plt.show()"
   ]
  },
  {
   "cell_type": "code",
   "execution_count": 30,
   "id": "1bc72473-e389-438a-a3f5-f4f5f5f15446",
   "metadata": {
    "tags": []
   },
   "outputs": [],
   "source": [
    "sector_value_counts_dict = dff['sector_label'].value_counts(normalize=True).to_dict()\n",
    "\n",
    "def relabel(sector_label, min_proportion)->str:\n",
    "    \"\"\"Relabel based on a minimum proportion. If less than min proportion relabel as [Sector] | Other [Sector]\"\"\"\n",
    "    if sector_value_counts_dict[sector_label] <= min_proportion:\n",
    "        return f\"{sector_label.split('|')[0]} | Other {sector_label.split('|')[0]}\"\n",
    "    else:\n",
    "        return sector_label\n",
    "    \n",
    "\n",
    "dff['sector_relabel'] = dff['sector_label'].apply(lambda x: relabel(x,.01))"
   ]
  },
  {
   "cell_type": "code",
   "execution_count": 31,
   "id": "35d1d1ba-4ede-4e4a-891f-c623c7264de7",
   "metadata": {
    "tags": []
   },
   "outputs": [
    {
     "data": {
      "text/plain": [
       "Healthcare | BioTech & Pharma                                   401\n",
       "Enterprise Software | Data Intelligence                         243\n",
       "Enterprise Software | Sales & Marketing / Adtech                229\n",
       "Consumer & Lifestyle  | Other Consumer & Lifestyle              227\n",
       "Enterprise Software | Cybersecurity                             221\n",
       "Industrial  | Other Industrial                                  180\n",
       "FinTech  | Other FinTech                                        158\n",
       "Consumer & Lifestyle | E-commerce                               145\n",
       "Enterprise Software | Business Operations                       136\n",
       "Transportation  | Other Transportation                          124\n",
       "Healthcare | Digital Health                                     112\n",
       "Enterprise Software | Other Enterprise Software                 104\n",
       "Real Estate  | Other Real Estate                                 94\n",
       "Enterprise Software | Data Management/Storage                    93\n",
       "FinTech | Other Fintech                                          89\n",
       "FinTech | Payments                                               86\n",
       "Healthcare | Healthcare providers & services                     85\n",
       "Education  | Other Education                                     83\n",
       "Healthcare | Healthcare software                                 82\n",
       "Enterprise Software | Cloud/Networking Infrastructure            80\n",
       "Healthcare | Medical Devices                                     77\n",
       "FinTech | Blockchain                                             75\n",
       "Enterprise Software | Human Resources                            75\n",
       "Energy | Clean Energy                                            71\n",
       "Enterprise Software | Communication & Collaboration software     68\n",
       "Enterprise Software | Software Development                       68\n",
       "Enterprise Software | Productivity                               66\n",
       "Consumer & Lifestyle | Entertainment                             66\n",
       "Consumer & Lifestyle | Gaming                                    66\n",
       "Consumer & Lifestyle | Consumer Applications                     65\n",
       "Healthcare | Other Healthcare                                    63\n",
       "FoodTech | Food Products & Services                              61\n",
       "Consumer & Lifestyle | Clothing, Fashion, Beauty & Apparel       60\n",
       "FinTech | Insurance                                              59\n",
       "FinTech | Lending                                                58\n",
       "Consumer & Lifestyle | Consumer Electronics                      57\n",
       "Energy  | Other Energy                                           56\n",
       "Technology Hardware | Computing hardware                         53\n",
       "Industrial | Aerospace & Defense                                 53\n",
       "Transportation | Autonomous Vehicles                             52\n",
       "FinTech | Capital Markets                                        50\n",
       "Consumer & Lifestyle | Social                                    49\n",
       "FoodTech  | Other FoodTech                                       48\n",
       "Industrial | Industrial software                                 45\n",
       "Technology Hardware  | Other Technology Hardware                 21\n",
       "Name: sector_relabel, dtype: int64"
      ]
     },
     "execution_count": 31,
     "metadata": {},
     "output_type": "execute_result"
    }
   ],
   "source": [
    "dff['sector_relabel'].value_counts()"
   ]
  },
  {
   "cell_type": "code",
   "execution_count": 32,
   "id": "f320bc91-9d4f-4032-8a81-d159269d815d",
   "metadata": {
    "tags": []
   },
   "outputs": [
    {
     "data": {
      "text/html": [
       "<div>\n",
       "<style scoped>\n",
       "    .dataframe tbody tr th:only-of-type {\n",
       "        vertical-align: middle;\n",
       "    }\n",
       "\n",
       "    .dataframe tbody tr th {\n",
       "        vertical-align: top;\n",
       "    }\n",
       "\n",
       "    .dataframe thead th {\n",
       "        text-align: right;\n",
       "    }\n",
       "</style>\n",
       "<table border=\"1\" class=\"dataframe\">\n",
       "  <thead>\n",
       "    <tr style=\"text-align: right;\">\n",
       "      <th></th>\n",
       "      <th>description</th>\n",
       "      <th>sector_relabel</th>\n",
       "      <th>top_issuer</th>\n",
       "      <th>encoded_labels</th>\n",
       "    </tr>\n",
       "  </thead>\n",
       "  <tbody>\n",
       "    <tr>\n",
       "      <th>0</th>\n",
       "      <td>Accompany Health is a company aiming to combin...</td>\n",
       "      <td>Healthcare | Digital Health</td>\n",
       "      <td>0</td>\n",
       "      <td>32</td>\n",
       "    </tr>\n",
       "    <tr>\n",
       "      <th>1</th>\n",
       "      <td>Developer of drugs for the treatment of inflam...</td>\n",
       "      <td>Healthcare | BioTech &amp; Pharma</td>\n",
       "      <td>0</td>\n",
       "      <td>31</td>\n",
       "    </tr>\n",
       "    <tr>\n",
       "      <th>2</th>\n",
       "      <td>Laser Light Communications is a telecommunicat...</td>\n",
       "      <td>Enterprise Software | Cloud/Networking Infrast...</td>\n",
       "      <td>0</td>\n",
       "      <td>12</td>\n",
       "    </tr>\n",
       "    <tr>\n",
       "      <th>3</th>\n",
       "      <td>Finastra is a fintech company focused on build...</td>\n",
       "      <td>FinTech | Other Fintech</td>\n",
       "      <td>0</td>\n",
       "      <td>27</td>\n",
       "    </tr>\n",
       "    <tr>\n",
       "      <th>4</th>\n",
       "      <td>TigerGraph, founded in 2012, is the developer ...</td>\n",
       "      <td>Enterprise Software | Data Intelligence</td>\n",
       "      <td>1</td>\n",
       "      <td>15</td>\n",
       "    </tr>\n",
       "  </tbody>\n",
       "</table>\n",
       "</div>"
      ],
      "text/plain": [
       "                                         description  \\\n",
       "0  Accompany Health is a company aiming to combin...   \n",
       "1  Developer of drugs for the treatment of inflam...   \n",
       "2  Laser Light Communications is a telecommunicat...   \n",
       "3  Finastra is a fintech company focused on build...   \n",
       "4  TigerGraph, founded in 2012, is the developer ...   \n",
       "\n",
       "                                      sector_relabel  top_issuer  \\\n",
       "0                        Healthcare | Digital Health           0   \n",
       "1                      Healthcare | BioTech & Pharma           0   \n",
       "2  Enterprise Software | Cloud/Networking Infrast...           0   \n",
       "3                            FinTech | Other Fintech           0   \n",
       "4            Enterprise Software | Data Intelligence           1   \n",
       "\n",
       "   encoded_labels  \n",
       "0              32  \n",
       "1              31  \n",
       "2              12  \n",
       "3              27  \n",
       "4              15  "
      ]
     },
     "execution_count": 32,
     "metadata": {},
     "output_type": "execute_result"
    }
   ],
   "source": [
    "# set dataframe for prediction at sub sector level\n",
    "dfs = dff[['description', 'sector_relabel', 'top_issuer']].copy()\n",
    "\n",
    "dfs['encoded_labels'] = dfs['sector_relabel'].astype('category').cat.codes\n",
    "\n",
    "data_texts = dfs['description'].to_list()\n",
    "data_labels = dfs['encoded_labels'].to_list()\n",
    "\n",
    "dfs.head()"
   ]
  },
  {
   "cell_type": "code",
   "execution_count": 33,
   "id": "989ddf84-ca99-4f26-bcb1-78085897bb85",
   "metadata": {
    "tags": []
   },
   "outputs": [],
   "source": [
    "# Stratify dataset when splitting\n",
    "from sklearn.model_selection import train_test_split\n",
    "\n",
    "train_texts, val_texts, train_labels, val_labels = train_test_split(data_texts, data_labels, test_size = 0.2, random_state=23, stratify=data_labels)\n",
    "train_texts, test_texts, train_labels, test_labels = train_test_split(train_texts, train_labels, test_size = 0.1, random_state=23, stratify=train_labels)"
   ]
  },
  {
   "cell_type": "code",
   "execution_count": 133,
   "id": "fc394088-89ad-4eb2-a3b0-57da48c93f71",
   "metadata": {
    "tags": []
   },
   "outputs": [],
   "source": [
    "train_dict = {'train_labels': train_labels, 'train_texts': train_texts}\n",
    "\n",
    "# Create DataFrame without specifying column names\n",
    "data_train_output = pd.DataFrame(train_dict)\n",
    "\n",
    "# data to use for training model in Sagemaker Jumpstart\n",
    "data_train_output.to_csv('data.csv', header=None, index=False)"
   ]
  },
  {
   "cell_type": "code",
   "execution_count": 34,
   "id": "a2fe921a",
   "metadata": {
    "tags": []
   },
   "outputs": [],
   "source": [
    "dfi = dfs[dfs['top_issuer']==1].reset_index(drop=True).copy()\n",
    "top_issuers_texts = dfi['description'].to_list()\n",
    "top_issuers_labels = dfi['encoded_labels'].to_list()"
   ]
  },
  {
   "cell_type": "code",
   "execution_count": 35,
   "id": "df7ccfc2-a886-4666-bb9c-2d332397bbd0",
   "metadata": {
    "tags": []
   },
   "outputs": [],
   "source": [
    "import tqdm as notebook_tqdm\n",
    "from datasets.dataset_dict import DatasetDict\n",
    "from datasets import Dataset\n",
    "\n",
    "d = {'train':Dataset.from_dict({'label':train_labels,'text':train_texts}),\n",
    "     'val':Dataset.from_dict({'label':val_labels,'text':val_texts}),\n",
    "     'test':Dataset.from_dict({'label':test_labels,'text':test_texts}),\n",
    "     'top_issuers':Dataset.from_dict({'label':top_issuers_labels,'text':top_issuers_texts})\n",
    "     }\n",
    "\n",
    "sectors = DatasetDict(d)"
   ]
  },
  {
   "cell_type": "code",
   "execution_count": 36,
   "id": "ef10a060-fc04-4243-8238-cba94d2cab78",
   "metadata": {
    "tags": []
   },
   "outputs": [
    {
     "name": "stderr",
     "output_type": "stream",
     "text": [
      "2024-04-23 14:27:39.790070: I tensorflow/core/util/port.cc:113] oneDNN custom operations are on. You may see slightly different numerical results due to floating-point round-off errors from different computation orders. To turn them off, set the environment variable `TF_ENABLE_ONEDNN_OPTS=0`.\n",
      "2024-04-23 14:27:39.844998: I tensorflow/core/platform/cpu_feature_guard.cc:210] This TensorFlow binary is optimized to use available CPU instructions in performance-critical operations.\n",
      "To enable the following instructions: AVX2 AVX512F AVX512_VNNI FMA, in other operations, rebuild TensorFlow with the appropriate compiler flags.\n",
      "2024-04-23 14:27:41.013568: W tensorflow/compiler/tf2tensorrt/utils/py_utils.cc:38] TF-TRT Warning: Could not find TensorRT\n"
     ]
    }
   ],
   "source": [
    "import tensorflow as tf\n",
    "from transformers import TFAutoModel, AutoTokenizer"
   ]
  },
  {
   "cell_type": "code",
   "execution_count": 37,
   "id": "9f9222e0-710a-437b-8a3f-0319431af851",
   "metadata": {
    "tags": []
   },
   "outputs": [
    {
     "data": {
      "application/vnd.jupyter.widget-view+json": {
       "model_id": "c7dcfca7d82649568bb7c7773813978c",
       "version_major": 2,
       "version_minor": 0
      },
      "text/plain": [
       "config.json:   0%|          | 0.00/570 [00:00<?, ?B/s]"
      ]
     },
     "metadata": {},
     "output_type": "display_data"
    },
    {
     "data": {
      "application/vnd.jupyter.widget-view+json": {
       "model_id": "5dc07afd1f9645c89476063ffc7b250f",
       "version_major": 2,
       "version_minor": 0
      },
      "text/plain": [
       "model.safetensors:   0%|          | 0.00/440M [00:00<?, ?B/s]"
      ]
     },
     "metadata": {},
     "output_type": "display_data"
    },
    {
     "name": "stderr",
     "output_type": "stream",
     "text": [
      "2024-04-23 14:27:43.999609: I external/local_xla/xla/stream_executor/cuda/cuda_executor.cc:998] successful NUMA node read from SysFS had negative value (-1), but there must be at least one NUMA node, so returning NUMA node zero. See more at https://github.com/torvalds/linux/blob/v6.0/Documentation/ABI/testing/sysfs-bus-pci#L344-L355\n",
      "2024-04-23 14:27:44.472818: I external/local_xla/xla/stream_executor/cuda/cuda_executor.cc:998] successful NUMA node read from SysFS had negative value (-1), but there must be at least one NUMA node, so returning NUMA node zero. See more at https://github.com/torvalds/linux/blob/v6.0/Documentation/ABI/testing/sysfs-bus-pci#L344-L355\n",
      "2024-04-23 14:27:44.476462: I external/local_xla/xla/stream_executor/cuda/cuda_executor.cc:998] successful NUMA node read from SysFS had negative value (-1), but there must be at least one NUMA node, so returning NUMA node zero. See more at https://github.com/torvalds/linux/blob/v6.0/Documentation/ABI/testing/sysfs-bus-pci#L344-L355\n",
      "2024-04-23 14:27:44.480327: I external/local_xla/xla/stream_executor/cuda/cuda_executor.cc:998] successful NUMA node read from SysFS had negative value (-1), but there must be at least one NUMA node, so returning NUMA node zero. See more at https://github.com/torvalds/linux/blob/v6.0/Documentation/ABI/testing/sysfs-bus-pci#L344-L355\n",
      "2024-04-23 14:27:44.483763: I external/local_xla/xla/stream_executor/cuda/cuda_executor.cc:998] successful NUMA node read from SysFS had negative value (-1), but there must be at least one NUMA node, so returning NUMA node zero. See more at https://github.com/torvalds/linux/blob/v6.0/Documentation/ABI/testing/sysfs-bus-pci#L344-L355\n",
      "2024-04-23 14:27:44.486939: I external/local_xla/xla/stream_executor/cuda/cuda_executor.cc:998] successful NUMA node read from SysFS had negative value (-1), but there must be at least one NUMA node, so returning NUMA node zero. See more at https://github.com/torvalds/linux/blob/v6.0/Documentation/ABI/testing/sysfs-bus-pci#L344-L355\n",
      "2024-04-23 14:27:45.593542: I external/local_xla/xla/stream_executor/cuda/cuda_executor.cc:998] successful NUMA node read from SysFS had negative value (-1), but there must be at least one NUMA node, so returning NUMA node zero. See more at https://github.com/torvalds/linux/blob/v6.0/Documentation/ABI/testing/sysfs-bus-pci#L344-L355\n",
      "2024-04-23 14:27:45.594813: I external/local_xla/xla/stream_executor/cuda/cuda_executor.cc:998] successful NUMA node read from SysFS had negative value (-1), but there must be at least one NUMA node, so returning NUMA node zero. See more at https://github.com/torvalds/linux/blob/v6.0/Documentation/ABI/testing/sysfs-bus-pci#L344-L355\n",
      "2024-04-23 14:27:45.595939: I external/local_xla/xla/stream_executor/cuda/cuda_executor.cc:998] successful NUMA node read from SysFS had negative value (-1), but there must be at least one NUMA node, so returning NUMA node zero. See more at https://github.com/torvalds/linux/blob/v6.0/Documentation/ABI/testing/sysfs-bus-pci#L344-L355\n",
      "2024-04-23 14:27:45.597020: I tensorflow/core/common_runtime/gpu/gpu_device.cc:1928] Created device /job:localhost/replica:0/task:0/device:GPU:0 with 13775 MB memory:  -> device: 0, name: Tesla T4, pci bus id: 0000:00:1e.0, compute capability: 7.5\n",
      "Some weights of the PyTorch model were not used when initializing the TF 2.0 model TFBertModel: ['cls.predictions.transform.LayerNorm.bias', 'cls.predictions.transform.dense.bias', 'cls.seq_relationship.bias', 'cls.predictions.bias', 'cls.seq_relationship.weight', 'cls.predictions.transform.LayerNorm.weight', 'cls.predictions.transform.dense.weight']\n",
      "- This IS expected if you are initializing TFBertModel from a PyTorch model trained on another task or with another architecture (e.g. initializing a TFBertForSequenceClassification model from a BertForPreTraining model).\n",
      "- This IS NOT expected if you are initializing TFBertModel from a PyTorch model that you expect to be exactly identical (e.g. initializing a TFBertForSequenceClassification model from a BertForSequenceClassification model).\n",
      "All the weights of TFBertModel were initialized from the PyTorch model.\n",
      "If your task is similar to the task the model of the checkpoint was trained on, you can already use TFBertModel for predictions without further training.\n"
     ]
    },
    {
     "data": {
      "application/vnd.jupyter.widget-view+json": {
       "model_id": "4ca4a7d759bc48498f443b5b18f28432",
       "version_major": 2,
       "version_minor": 0
      },
      "text/plain": [
       "tokenizer_config.json:   0%|          | 0.00/48.0 [00:00<?, ?B/s]"
      ]
     },
     "metadata": {},
     "output_type": "display_data"
    },
    {
     "data": {
      "application/vnd.jupyter.widget-view+json": {
       "model_id": "e99656bd8903432c92e5b0dae91359c1",
       "version_major": 2,
       "version_minor": 0
      },
      "text/plain": [
       "vocab.txt:   0%|          | 0.00/232k [00:00<?, ?B/s]"
      ]
     },
     "metadata": {},
     "output_type": "display_data"
    },
    {
     "data": {
      "application/vnd.jupyter.widget-view+json": {
       "model_id": "75b9c5a936154b9ebbf7c7dafaa90167",
       "version_major": 2,
       "version_minor": 0
      },
      "text/plain": [
       "tokenizer.json:   0%|          | 0.00/466k [00:00<?, ?B/s]"
      ]
     },
     "metadata": {},
     "output_type": "display_data"
    }
   ],
   "source": [
    "model_id = \"bert-base-uncased\"\n",
    "# model_id = \"distilbert-base-uncased\"\n",
    "model = TFAutoModel.from_pretrained(model_id)\n",
    "tokenizer = AutoTokenizer.from_pretrained(model_id)"
   ]
  },
  {
   "cell_type": "code",
   "execution_count": 38,
   "id": "63f335ca-2c15-4681-8434-ea962cfae36c",
   "metadata": {
    "tags": []
   },
   "outputs": [],
   "source": [
    "def tokenize(batch):\n",
    "    return tokenizer(batch[\"text\"], padding=True, truncation=True)"
   ]
  },
  {
   "cell_type": "code",
   "execution_count": 39,
   "id": "692e9117-3059-4e38-9a91-6d7aca931c31",
   "metadata": {
    "tags": []
   },
   "outputs": [
    {
     "data": {
      "application/vnd.jupyter.widget-view+json": {
       "model_id": "4050d3e2c3cb497a9344c2cc90597ffb",
       "version_major": 2,
       "version_minor": 0
      },
      "text/plain": [
       "Map:   0%|          | 0/3206 [00:00<?, ? examples/s]"
      ]
     },
     "metadata": {},
     "output_type": "display_data"
    },
    {
     "data": {
      "application/vnd.jupyter.widget-view+json": {
       "model_id": "3554c3cdf96d4606acf9aa6b234a8ed3",
       "version_major": 2,
       "version_minor": 0
      },
      "text/plain": [
       "Map:   0%|          | 0/891 [00:00<?, ? examples/s]"
      ]
     },
     "metadata": {},
     "output_type": "display_data"
    },
    {
     "data": {
      "application/vnd.jupyter.widget-view+json": {
       "model_id": "bf1ffb2234a14286a40798d597a1b3c9",
       "version_major": 2,
       "version_minor": 0
      },
      "text/plain": [
       "Map:   0%|          | 0/357 [00:00<?, ? examples/s]"
      ]
     },
     "metadata": {},
     "output_type": "display_data"
    },
    {
     "data": {
      "application/vnd.jupyter.widget-view+json": {
       "model_id": "5ef3473e73b041e3bbfba3606b631575",
       "version_major": 2,
       "version_minor": 0
      },
      "text/plain": [
       "Map:   0%|          | 0/279 [00:00<?, ? examples/s]"
      ]
     },
     "metadata": {},
     "output_type": "display_data"
    },
    {
     "data": {
      "text/plain": [
       "DatasetDict({\n",
       "    train: Dataset({\n",
       "        features: ['label', 'text', 'input_ids', 'token_type_ids', 'attention_mask'],\n",
       "        num_rows: 3206\n",
       "    })\n",
       "    val: Dataset({\n",
       "        features: ['label', 'text', 'input_ids', 'token_type_ids', 'attention_mask'],\n",
       "        num_rows: 891\n",
       "    })\n",
       "    test: Dataset({\n",
       "        features: ['label', 'text', 'input_ids', 'token_type_ids', 'attention_mask'],\n",
       "        num_rows: 357\n",
       "    })\n",
       "    top_issuers: Dataset({\n",
       "        features: ['label', 'text', 'input_ids', 'token_type_ids', 'attention_mask'],\n",
       "        num_rows: 279\n",
       "    })\n",
       "})"
      ]
     },
     "execution_count": 39,
     "metadata": {},
     "output_type": "execute_result"
    }
   ],
   "source": [
    "sectors_encoded = sectors.map(tokenize, batched=True, batch_size=None)\n",
    "sectors_encoded"
   ]
  },
  {
   "cell_type": "code",
   "execution_count": 40,
   "id": "847d0381-322f-400f-b211-040d16440374",
   "metadata": {
    "tags": []
   },
   "outputs": [],
   "source": [
    "# setting 'input_ids', 'attention_mask', 'token_type_ids', and 'label'\n",
    "# to the tensorflow format. Now if you access this dataset you will get these\n",
    "# columns in `tf.Tensor` format\n",
    "\n",
    "sectors_encoded.set_format('tf',\n",
    "                            columns=['input_ids', 'attention_mask', 'token_type_ids', 'label'])\n",
    "\n",
    "# setting BATCH_SIZE to 64.\n",
    "BATCH_SIZE = 8\n",
    "\n",
    "def order(inp):\n",
    "    '''\n",
    "    This function will group all the inputs of BERT\n",
    "    into a single dictionary and then output it with\n",
    "    labels.\n",
    "    '''\n",
    "    data = list(inp.values())\n",
    "    return {\n",
    "        'input_ids': data[1],\n",
    "        'attention_mask': data[2],\n",
    "        'token_type_ids': data[3]\n",
    "    }, data[0]\n",
    "\n",
    "# converting train split of `emotions_encoded` to tensorflow format\n",
    "train_dataset = tf.data.Dataset.from_tensor_slices(sectors_encoded['train'][:])\n",
    "# train_dataset = tf.data.Dataset.from_tensor_slices(emotions_encoded['train'][:])\n",
    "# set batch_size and shuffle\n",
    "train_dataset = train_dataset.batch(BATCH_SIZE).shuffle(1000)\n",
    "train_dataset = train_dataset.map(order, num_parallel_calls=tf.data.AUTOTUNE) # map the `order` function\n",
    "\n",
    "# # ... doing the same for val set ...\n",
    "val_dataset = tf.data.Dataset.from_tensor_slices(sectors_encoded['val'][:])\n",
    "val_dataset = val_dataset.batch(BATCH_SIZE)\n",
    "val_dataset = val_dataset.map(order, num_parallel_calls=tf.data.AUTOTUNE)\n",
    "\n",
    "# ... doing the same for test set ...\n",
    "test_dataset = tf.data.Dataset.from_tensor_slices(sectors_encoded['test'][:])\n",
    "test_dataset = test_dataset.batch(BATCH_SIZE)\n",
    "test_dataset = test_dataset.map(order, num_parallel_calls=tf.data.AUTOTUNE)\n",
    "\n",
    "# ... doing the same for top issuers set ...\n",
    "top_issuers_dataset = tf.data.Dataset.from_tensor_slices(sectors_encoded['top_issuers'][:])\n",
    "top_issuers_dataset = top_issuers_dataset.batch(BATCH_SIZE)\n",
    "top_issuers_dataset = top_issuers_dataset.map(order, num_parallel_calls=tf.data.AUTOTUNE)"
   ]
  },
  {
   "cell_type": "code",
   "execution_count": 41,
   "id": "ce9a1e61-035a-436d-bc17-cfb73465a482",
   "metadata": {
    "tags": []
   },
   "outputs": [
    {
     "name": "stdout",
     "output_type": "stream",
     "text": [
      "{'input_ids': <tf.Tensor: shape=(8, 186), dtype=int64, numpy=\n",
      "array([[  101,  8559, 12046, ...,     0,     0,     0],\n",
      "       [  101, 10439,  5809, ...,     0,     0,     0],\n",
      "       [  101, 24203,  2229, ...,     0,     0,     0],\n",
      "       ...,\n",
      "       [  101,  2598, 16344, ...,     0,     0,     0],\n",
      "       [  101,  8292, 28228, ...,     0,     0,     0],\n",
      "       [  101,  5506, 13808, ...,     0,     0,     0]])>, 'attention_mask': <tf.Tensor: shape=(8, 186), dtype=int64, numpy=\n",
      "array([[0, 0, 0, ..., 0, 0, 0],\n",
      "       [0, 0, 0, ..., 0, 0, 0],\n",
      "       [0, 0, 0, ..., 0, 0, 0],\n",
      "       ...,\n",
      "       [0, 0, 0, ..., 0, 0, 0],\n",
      "       [0, 0, 0, ..., 0, 0, 0],\n",
      "       [0, 0, 0, ..., 0, 0, 0]])>, 'token_type_ids': <tf.Tensor: shape=(8, 186), dtype=int64, numpy=\n",
      "array([[1, 1, 1, ..., 0, 0, 0],\n",
      "       [1, 1, 1, ..., 0, 0, 0],\n",
      "       [1, 1, 1, ..., 0, 0, 0],\n",
      "       ...,\n",
      "       [1, 1, 1, ..., 0, 0, 0],\n",
      "       [1, 1, 1, ..., 0, 0, 0],\n",
      "       [1, 1, 1, ..., 0, 0, 0]])>} \n",
      "\n",
      " tf.Tensor([21 11  2 14 33 20 22 27], shape=(8,), dtype=int64)\n"
     ]
    }
   ],
   "source": [
    "inp, out = next(iter(train_dataset)) # a batch from train_dataset\n",
    "print(inp, '\\n\\n', out)"
   ]
  },
  {
   "cell_type": "code",
   "execution_count": 42,
   "id": "6b115c8f-5bd5-4f90-b691-9b61e41af052",
   "metadata": {
    "tags": []
   },
   "outputs": [],
   "source": [
    "class BERTForClassification(tf.keras.Model):\n",
    "\n",
    "    def __init__(self, bert_model, num_classes):\n",
    "        super().__init__()\n",
    "        self.bert = bert_model\n",
    "        self.fc = tf.keras.layers.Dense(num_classes, activation='softmax')\n",
    "\n",
    "    def call(self, inputs):\n",
    "        x = self.bert(inputs)[1]\n",
    "        return self.fc(x)"
   ]
  },
  {
   "cell_type": "code",
   "execution_count": 43,
   "id": "58a77d28-b66d-463b-8850-ea1e99d8db2f",
   "metadata": {
    "tags": []
   },
   "outputs": [],
   "source": [
    "num_classes = len(np.unique(dfs['sector_relabel']))\n",
    "classifier = BERTForClassification(model, num_classes=num_classes)\n",
    "\n",
    "classifier.compile(\n",
    "    # optimizer=tf.keras.optimizers.Adam(learning_rate=1e-5), # `tf.keras.optimizers.Adam` runs slowly on M1/M2 Macs\n",
    "    optimizer=tf.keras.optimizers.legacy.Adam(learning_rate=1e-5), # using the legacy TF-Keras optimizer instead\n",
    "    loss=tf.keras.losses.SparseCategoricalCrossentropy(),\n",
    "    metrics=['accuracy']\n",
    ")"
   ]
  },
  {
   "cell_type": "code",
   "execution_count": 44,
   "id": "791b613f-a2ec-4b9d-97cc-a06455ae98b9",
   "metadata": {
    "tags": []
   },
   "outputs": [
    {
     "name": "stdout",
     "output_type": "stream",
     "text": [
      "Epoch 1/3\n",
      "401/401 [==============================] - 177s 303ms/step - loss: 3.1343 - accuracy: 0.2202\n",
      "Epoch 2/3\n",
      "401/401 [==============================] - 122s 305ms/step - loss: 1.9503 - accuracy: 0.5006\n",
      "Epoch 3/3\n",
      "401/401 [==============================] - 122s 305ms/step - loss: 1.4655 - accuracy: 0.6104\n"
     ]
    }
   ],
   "source": [
    "history = classifier.fit(\n",
    "    train_dataset,\n",
    "    epochs=3\n",
    ")"
   ]
  },
  {
   "cell_type": "code",
   "execution_count": 45,
   "id": "7d25530d-9bee-4719-aa33-1ab3ac6ab074",
   "metadata": {
    "tags": []
   },
   "outputs": [],
   "source": [
    "# build encoded dict\n",
    "dfs['encoded_tuple'] = dfs.apply(lambda row: (row['encoded_labels'], row['sector_relabel']), axis=1)\n",
    "\n",
    "encoded_dict = {i[0]:i[1]  for i in np.unique(dfs['encoded_tuple'])}"
   ]
  },
  {
   "cell_type": "markdown",
   "id": "76d97f12",
   "metadata": {},
   "source": [
    "#### Test set"
   ]
  },
  {
   "cell_type": "code",
   "execution_count": 143,
   "id": "e0b98003-0b69-4393-8b55-301ec520fb07",
   "metadata": {
    "tags": []
   },
   "outputs": [
    {
     "name": "stdout",
     "output_type": "stream",
     "text": [
      "45/45 [==============================] - 3s 75ms/step\n"
     ]
    }
   ],
   "source": [
    "test_predictions = classifier.predict(test_dataset)"
   ]
  },
  {
   "cell_type": "code",
   "execution_count": 144,
   "id": "f374447e-19d3-4e9e-912a-cbc76234dbcd",
   "metadata": {
    "tags": []
   },
   "outputs": [],
   "source": [
    "k=5\n",
    "test_predictions_output = [tf.math.argmax(array).numpy() for array in test_predictions]\n",
    "test_pred_conf_output = [tf.nn.top_k(array, k=1).values.numpy()[0] for array in test_predictions]\n",
    "test_top_k_predictions_output = [tf.nn.top_k(array, k=k).indices.numpy() for array in test_predictions]\n",
    "test_top_k_predictions_conf_output = [tf.nn.top_k(array, k=k).values.numpy() for array in test_predictions]"
   ]
  },
  {
   "cell_type": "code",
   "execution_count": 160,
   "id": "92faa31d-b524-4545-aa38-d625800a805b",
   "metadata": {
    "tags": []
   },
   "outputs": [
    {
     "name": "stdout",
     "output_type": "stream",
     "text": [
      "Sub sector 0.5798319327731093\n",
      "Sector 0.8263305322128851\n",
      "Label in top 5 predictions: 0.8608305274971941\n",
      "Sub sector match (> 75% confidence): 0.8505747126436781\n",
      "Sector match (> 75% confidence): 0.9770114942528736\n",
      "87\n",
      "270\n"
     ]
    },
    {
     "data": {
      "text/html": [
       "<div>\n",
       "<style scoped>\n",
       "    .dataframe tbody tr th:only-of-type {\n",
       "        vertical-align: middle;\n",
       "    }\n",
       "\n",
       "    .dataframe tbody tr th {\n",
       "        vertical-align: top;\n",
       "    }\n",
       "\n",
       "    .dataframe thead th {\n",
       "        text-align: right;\n",
       "    }\n",
       "</style>\n",
       "<table border=\"1\" class=\"dataframe\">\n",
       "  <thead>\n",
       "    <tr style=\"text-align: right;\">\n",
       "      <th></th>\n",
       "      <th>description</th>\n",
       "      <th>encoded_label</th>\n",
       "      <th>encoded_pred</th>\n",
       "      <th>pred_conf</th>\n",
       "      <th>encoded_pred_list</th>\n",
       "      <th>pred_conf_list</th>\n",
       "      <th>pred_list</th>\n",
       "      <th>sub_sector_label</th>\n",
       "      <th>sub_sector_pred_label</th>\n",
       "      <th>sector_label</th>\n",
       "      <th>sector_pred_label</th>\n",
       "      <th>sub_sector_match</th>\n",
       "      <th>sector_match</th>\n",
       "      <th>label_top_k</th>\n",
       "    </tr>\n",
       "  </thead>\n",
       "  <tbody>\n",
       "    <tr>\n",
       "      <th>0</th>\n",
       "      <td>Checkerspot is a San Francisco-based biotechno...</td>\n",
       "      <td>37</td>\n",
       "      <td>31</td>\n",
       "      <td>0.762189</td>\n",
       "      <td>[31, 29, 30, 37, 36]</td>\n",
       "      <td>[0.7621888, 0.032272704, 0.023964187, 0.023616...</td>\n",
       "      <td>[Healthcare | BioTech &amp; Pharma, FoodTech  | Ot...</td>\n",
       "      <td>Industrial  | Other Industrial</td>\n",
       "      <td>Healthcare | BioTech &amp; Pharma</td>\n",
       "      <td>Industrial</td>\n",
       "      <td>Healthcare</td>\n",
       "      <td>False</td>\n",
       "      <td>False</td>\n",
       "      <td>1</td>\n",
       "    </tr>\n",
       "    <tr>\n",
       "      <th>1</th>\n",
       "      <td>CipherCloud is a provider of cloud security an...</td>\n",
       "      <td>14</td>\n",
       "      <td>14</td>\n",
       "      <td>0.824353</td>\n",
       "      <td>[14, 16, 18, 12, 15]</td>\n",
       "      <td>[0.82435274, 0.03507265, 0.024594445, 0.020741...</td>\n",
       "      <td>[Enterprise Software | Cybersecurity, Enterpri...</td>\n",
       "      <td>Enterprise Software | Cybersecurity</td>\n",
       "      <td>Enterprise Software | Cybersecurity</td>\n",
       "      <td>Enterprise Software</td>\n",
       "      <td>Enterprise Software</td>\n",
       "      <td>True</td>\n",
       "      <td>True</td>\n",
       "      <td>1</td>\n",
       "    </tr>\n",
       "    <tr>\n",
       "      <th>2</th>\n",
       "      <td>Imperfect Foods is a grocery delivery service ...</td>\n",
       "      <td>30</td>\n",
       "      <td>29</td>\n",
       "      <td>0.366682</td>\n",
       "      <td>[29, 30, 43, 4, 0]</td>\n",
       "      <td>[0.36668184, 0.32438862, 0.08087468, 0.0340783...</td>\n",
       "      <td>[FoodTech  | Other FoodTech , FoodTech | Food ...</td>\n",
       "      <td>FoodTech | Food Products &amp; Services</td>\n",
       "      <td>FoodTech  | Other FoodTech</td>\n",
       "      <td>FoodTech</td>\n",
       "      <td>FoodTech</td>\n",
       "      <td>False</td>\n",
       "      <td>True</td>\n",
       "      <td>1</td>\n",
       "    </tr>\n",
       "    <tr>\n",
       "      <th>3</th>\n",
       "      <td>GridGain Systems is revolutionizing real-time ...</td>\n",
       "      <td>18</td>\n",
       "      <td>16</td>\n",
       "      <td>0.329658</td>\n",
       "      <td>[16, 12, 21, 42, 19]</td>\n",
       "      <td>[0.32965773, 0.161718, 0.102092184, 0.08603163...</td>\n",
       "      <td>[Enterprise Software | Data Management/Storage...</td>\n",
       "      <td>Enterprise Software | Other Enterprise Software</td>\n",
       "      <td>Enterprise Software | Data Management/Storage</td>\n",
       "      <td>Enterprise Software</td>\n",
       "      <td>Enterprise Software</td>\n",
       "      <td>False</td>\n",
       "      <td>True</td>\n",
       "      <td>0</td>\n",
       "    </tr>\n",
       "    <tr>\n",
       "      <th>4</th>\n",
       "      <td>HealthJoy is a healthcare platform that serves...</td>\n",
       "      <td>34</td>\n",
       "      <td>33</td>\n",
       "      <td>0.388870</td>\n",
       "      <td>[33, 32, 34, 36, 17]</td>\n",
       "      <td>[0.3888696, 0.24361216, 0.18662362, 0.02448872...</td>\n",
       "      <td>[Healthcare | Healthcare providers &amp; services,...</td>\n",
       "      <td>Healthcare | Healthcare software</td>\n",
       "      <td>Healthcare | Healthcare providers &amp; services</td>\n",
       "      <td>Healthcare</td>\n",
       "      <td>Healthcare</td>\n",
       "      <td>False</td>\n",
       "      <td>True</td>\n",
       "      <td>1</td>\n",
       "    </tr>\n",
       "  </tbody>\n",
       "</table>\n",
       "</div>"
      ],
      "text/plain": [
       "                                         description  encoded_label  \\\n",
       "0  Checkerspot is a San Francisco-based biotechno...             37   \n",
       "1  CipherCloud is a provider of cloud security an...             14   \n",
       "2  Imperfect Foods is a grocery delivery service ...             30   \n",
       "3  GridGain Systems is revolutionizing real-time ...             18   \n",
       "4  HealthJoy is a healthcare platform that serves...             34   \n",
       "\n",
       "   encoded_pred  pred_conf     encoded_pred_list  \\\n",
       "0            31   0.762189  [31, 29, 30, 37, 36]   \n",
       "1            14   0.824353  [14, 16, 18, 12, 15]   \n",
       "2            29   0.366682    [29, 30, 43, 4, 0]   \n",
       "3            16   0.329658  [16, 12, 21, 42, 19]   \n",
       "4            33   0.388870  [33, 32, 34, 36, 17]   \n",
       "\n",
       "                                      pred_conf_list  \\\n",
       "0  [0.7621888, 0.032272704, 0.023964187, 0.023616...   \n",
       "1  [0.82435274, 0.03507265, 0.024594445, 0.020741...   \n",
       "2  [0.36668184, 0.32438862, 0.08087468, 0.0340783...   \n",
       "3  [0.32965773, 0.161718, 0.102092184, 0.08603163...   \n",
       "4  [0.3888696, 0.24361216, 0.18662362, 0.02448872...   \n",
       "\n",
       "                                           pred_list  \\\n",
       "0  [Healthcare | BioTech & Pharma, FoodTech  | Ot...   \n",
       "1  [Enterprise Software | Cybersecurity, Enterpri...   \n",
       "2  [FoodTech  | Other FoodTech , FoodTech | Food ...   \n",
       "3  [Enterprise Software | Data Management/Storage...   \n",
       "4  [Healthcare | Healthcare providers & services,...   \n",
       "\n",
       "                                  sub_sector_label  \\\n",
       "0                  Industrial  | Other Industrial    \n",
       "1              Enterprise Software | Cybersecurity   \n",
       "2              FoodTech | Food Products & Services   \n",
       "3  Enterprise Software | Other Enterprise Software   \n",
       "4                 Healthcare | Healthcare software   \n",
       "\n",
       "                           sub_sector_pred_label         sector_label  \\\n",
       "0                  Healthcare | BioTech & Pharma           Industrial   \n",
       "1            Enterprise Software | Cybersecurity  Enterprise Software   \n",
       "2                    FoodTech  | Other FoodTech              FoodTech   \n",
       "3  Enterprise Software | Data Management/Storage  Enterprise Software   \n",
       "4   Healthcare | Healthcare providers & services           Healthcare   \n",
       "\n",
       "     sector_pred_label  sub_sector_match  sector_match  label_top_k  \n",
       "0           Healthcare             False         False            1  \n",
       "1  Enterprise Software              True          True            1  \n",
       "2             FoodTech             False          True            1  \n",
       "3  Enterprise Software             False          True            0  \n",
       "4           Healthcare             False          True            1  "
      ]
     },
     "execution_count": 160,
     "metadata": {},
     "output_type": "execute_result"
    }
   ],
   "source": [
    "dft = pd.DataFrame.from_dict({'description': test_texts,\n",
    "                              'encoded_label': test_labels,\n",
    "                              'encoded_pred': test_predictions_output,\n",
    "                              'pred_conf': test_pred_conf_output,\n",
    "                              'encoded_pred_list': test_top_k_predictions_output,\n",
    "                              'pred_conf_list': test_top_k_predictions_conf_output\n",
    "                              })\n",
    "\n",
    "pred_list = []\n",
    "for idx, row in dft.iterrows():\n",
    "    int_pred_list = []\n",
    "    for pred in row['encoded_pred_list']:\n",
    "        int_pred_list.append(encoded_dict[pred])\n",
    "        \n",
    "    pred_list.append(int_pred_list)\n",
    "    \n",
    "    \n",
    "dft['pred_list'] = pred_list\n",
    "\n",
    "dft['sub_sector_label'] = dft['encoded_label'].apply(lambda x: encoded_dict[x])\n",
    "dft['sub_sector_pred_label'] = dft['encoded_pred'].apply(lambda x: encoded_dict[x])\n",
    "\n",
    "dft['sector_label'] = dft['sub_sector_label'].apply(lambda x: x.split('|')[0].strip())\n",
    "dft['sector_pred_label'] = dft['sub_sector_pred_label'].apply(lambda x: x.split('|')[0].strip())\n",
    "\n",
    "dft['sub_sector_match'] = dft['sub_sector_label']==dft['sub_sector_pred_label']\n",
    "dft['sector_match'] = dft['sector_label']==dft['sector_pred_label']\n",
    "\n",
    "dft['label_top_k'] = dft.apply(lambda row: 1 if row['encoded_label'] in row['encoded_pred_list'] else 0, axis=1)\n",
    "\n",
    "print('Sub sector', np.mean(dft['sub_sector_match']))\n",
    "print('Sector', np.mean(dft['sector_match']))\n",
    "print(f'Label in top {k} predictions:', np.mean(dfv['label_top_k']))\n",
    "conf_level = .75\n",
    "print(f'Sub sector match (> {int(conf_level*100)}% confidence):',\n",
    "      np.mean(dft[dft['pred_conf']>conf_level]['sub_sector_match']))\n",
    "print(f'Sector match (> {int(conf_level*100)}% confidence):',\n",
    "      np.mean(dft[dft['pred_conf']>conf_level]['sector_match']))\n",
    "\n",
    "print(len(dft[dft['pred_conf']>conf_level]))\n",
    "print(len(dft[dft['pred_conf']<=conf_level]))\n",
    "dft.head()"
   ]
  },
  {
   "cell_type": "markdown",
   "id": "95299748",
   "metadata": {},
   "source": [
    "#### Validation set"
   ]
  },
  {
   "cell_type": "code",
   "execution_count": 135,
   "id": "06e7608b-5d07-45d1-8fcd-bbb0cb0e5a35",
   "metadata": {
    "tags": []
   },
   "outputs": [
    {
     "name": "stdout",
     "output_type": "stream",
     "text": [
      "112/112 [==============================] - 9s 76ms/step\n"
     ]
    }
   ],
   "source": [
    "val_predictions = classifier.predict(val_dataset)"
   ]
  },
  {
   "cell_type": "code",
   "execution_count": 138,
   "id": "384de706-4dc3-4a3e-8333-325af51878f6",
   "metadata": {
    "tags": []
   },
   "outputs": [],
   "source": [
    "k=5\n",
    "val_predictions_output = [tf.math.argmax(array).numpy() for array in val_predictions]\n",
    "val_pred_conf_output = [tf.nn.top_k(array, k=1).values.numpy()[0] for array in val_predictions]\n",
    "val_top_k_predictions_output = [tf.nn.top_k(array, k=k).indices.numpy() for array in val_predictions]\n",
    "val_top_k_predictions_conf_output = [tf.nn.top_k(array, k=k).values.numpy() for array in val_predictions]"
   ]
  },
  {
   "cell_type": "code",
   "execution_count": 154,
   "id": "aac7a015-3321-4b15-a46b-ed5f47a64e55",
   "metadata": {
    "tags": []
   },
   "outputs": [
    {
     "name": "stdout",
     "output_type": "stream",
     "text": [
      "Sub sector 0.5600448933782267\n",
      "Sector 0.8069584736251403\n",
      "Label in top 5 predictions: 0.8608305274971941\n",
      "Sub sector match (> 70% confidence): 0.8518518518518519\n",
      "243\n",
      "648\n"
     ]
    },
    {
     "data": {
      "text/html": [
       "<div>\n",
       "<style scoped>\n",
       "    .dataframe tbody tr th:only-of-type {\n",
       "        vertical-align: middle;\n",
       "    }\n",
       "\n",
       "    .dataframe tbody tr th {\n",
       "        vertical-align: top;\n",
       "    }\n",
       "\n",
       "    .dataframe thead th {\n",
       "        text-align: right;\n",
       "    }\n",
       "</style>\n",
       "<table border=\"1\" class=\"dataframe\">\n",
       "  <thead>\n",
       "    <tr style=\"text-align: right;\">\n",
       "      <th></th>\n",
       "      <th>description</th>\n",
       "      <th>encoded_label</th>\n",
       "      <th>encoded_pred</th>\n",
       "      <th>pred_conf</th>\n",
       "      <th>encoded_pred_list</th>\n",
       "      <th>pred_conf_list</th>\n",
       "      <th>pred_list</th>\n",
       "      <th>sub_sector_label</th>\n",
       "      <th>sub_sector_pred_label</th>\n",
       "      <th>sector_label</th>\n",
       "      <th>sector_pred_label</th>\n",
       "      <th>sub_sector_match</th>\n",
       "      <th>sector_match</th>\n",
       "      <th>label_top_k</th>\n",
       "    </tr>\n",
       "  </thead>\n",
       "  <tbody>\n",
       "    <tr>\n",
       "      <th>0</th>\n",
       "      <td>Jobber is a platform that seeks to deliver eff...</td>\n",
       "      <td>39</td>\n",
       "      <td>17</td>\n",
       "      <td>0.226589</td>\n",
       "      <td>[17, 0, 20, 18, 11]</td>\n",
       "      <td>[0.22658862, 0.19437686, 0.107018344, 0.088923...</td>\n",
       "      <td>[Enterprise Software | Human Resources, Consum...</td>\n",
       "      <td>Industrial | Industrial software</td>\n",
       "      <td>Enterprise Software | Human Resources</td>\n",
       "      <td>Industrial</td>\n",
       "      <td>Enterprise Software</td>\n",
       "      <td>False</td>\n",
       "      <td>False</td>\n",
       "      <td>0</td>\n",
       "    </tr>\n",
       "    <tr>\n",
       "      <th>1</th>\n",
       "      <td>Cerapedics is a biotech company focused on dev...</td>\n",
       "      <td>31</td>\n",
       "      <td>31</td>\n",
       "      <td>0.726271</td>\n",
       "      <td>[31, 36, 35, 33, 34]</td>\n",
       "      <td>[0.72627115, 0.09509118, 0.065350376, 0.021645...</td>\n",
       "      <td>[Healthcare | BioTech &amp; Pharma, Healthcare | O...</td>\n",
       "      <td>Healthcare | BioTech &amp; Pharma</td>\n",
       "      <td>Healthcare | BioTech &amp; Pharma</td>\n",
       "      <td>Healthcare</td>\n",
       "      <td>Healthcare</td>\n",
       "      <td>True</td>\n",
       "      <td>True</td>\n",
       "      <td>1</td>\n",
       "    </tr>\n",
       "    <tr>\n",
       "      <th>2</th>\n",
       "      <td>Uhnder leads in digital perception radar techn...</td>\n",
       "      <td>44</td>\n",
       "      <td>44</td>\n",
       "      <td>0.242116</td>\n",
       "      <td>[44, 37, 3, 38, 39]</td>\n",
       "      <td>[0.24211554, 0.10646261, 0.101207264, 0.067788...</td>\n",
       "      <td>[Transportation | Autonomous Vehicles, Industr...</td>\n",
       "      <td>Transportation | Autonomous Vehicles</td>\n",
       "      <td>Transportation | Autonomous Vehicles</td>\n",
       "      <td>Transportation</td>\n",
       "      <td>Transportation</td>\n",
       "      <td>True</td>\n",
       "      <td>True</td>\n",
       "      <td>1</td>\n",
       "    </tr>\n",
       "    <tr>\n",
       "      <th>3</th>\n",
       "      <td>Hexagon Bio is a developer of a data-driven sy...</td>\n",
       "      <td>31</td>\n",
       "      <td>31</td>\n",
       "      <td>0.982170</td>\n",
       "      <td>[31, 34, 33, 36, 29]</td>\n",
       "      <td>[0.98216957, 0.0029243706, 0.001802174, 0.0016...</td>\n",
       "      <td>[Healthcare | BioTech &amp; Pharma, Healthcare | H...</td>\n",
       "      <td>Healthcare | BioTech &amp; Pharma</td>\n",
       "      <td>Healthcare | BioTech &amp; Pharma</td>\n",
       "      <td>Healthcare</td>\n",
       "      <td>Healthcare</td>\n",
       "      <td>True</td>\n",
       "      <td>True</td>\n",
       "      <td>1</td>\n",
       "    </tr>\n",
       "    <tr>\n",
       "      <th>4</th>\n",
       "      <td>Esperanto Technologies is the developer of hig...</td>\n",
       "      <td>15</td>\n",
       "      <td>42</td>\n",
       "      <td>0.444448</td>\n",
       "      <td>[42, 12, 3, 21, 9]</td>\n",
       "      <td>[0.44444793, 0.10386348, 0.10115489, 0.0359591...</td>\n",
       "      <td>[Technology Hardware | Computing hardware, Ent...</td>\n",
       "      <td>Enterprise Software | Data Intelligence</td>\n",
       "      <td>Technology Hardware | Computing hardware</td>\n",
       "      <td>Enterprise Software</td>\n",
       "      <td>Technology Hardware</td>\n",
       "      <td>False</td>\n",
       "      <td>False</td>\n",
       "      <td>0</td>\n",
       "    </tr>\n",
       "  </tbody>\n",
       "</table>\n",
       "</div>"
      ],
      "text/plain": [
       "                                         description  encoded_label  \\\n",
       "0  Jobber is a platform that seeks to deliver eff...             39   \n",
       "1  Cerapedics is a biotech company focused on dev...             31   \n",
       "2  Uhnder leads in digital perception radar techn...             44   \n",
       "3  Hexagon Bio is a developer of a data-driven sy...             31   \n",
       "4  Esperanto Technologies is the developer of hig...             15   \n",
       "\n",
       "   encoded_pred  pred_conf     encoded_pred_list  \\\n",
       "0            17   0.226589   [17, 0, 20, 18, 11]   \n",
       "1            31   0.726271  [31, 36, 35, 33, 34]   \n",
       "2            44   0.242116   [44, 37, 3, 38, 39]   \n",
       "3            31   0.982170  [31, 34, 33, 36, 29]   \n",
       "4            42   0.444448    [42, 12, 3, 21, 9]   \n",
       "\n",
       "                                      pred_conf_list  \\\n",
       "0  [0.22658862, 0.19437686, 0.107018344, 0.088923...   \n",
       "1  [0.72627115, 0.09509118, 0.065350376, 0.021645...   \n",
       "2  [0.24211554, 0.10646261, 0.101207264, 0.067788...   \n",
       "3  [0.98216957, 0.0029243706, 0.001802174, 0.0016...   \n",
       "4  [0.44444793, 0.10386348, 0.10115489, 0.0359591...   \n",
       "\n",
       "                                           pred_list  \\\n",
       "0  [Enterprise Software | Human Resources, Consum...   \n",
       "1  [Healthcare | BioTech & Pharma, Healthcare | O...   \n",
       "2  [Transportation | Autonomous Vehicles, Industr...   \n",
       "3  [Healthcare | BioTech & Pharma, Healthcare | H...   \n",
       "4  [Technology Hardware | Computing hardware, Ent...   \n",
       "\n",
       "                          sub_sector_label  \\\n",
       "0         Industrial | Industrial software   \n",
       "1            Healthcare | BioTech & Pharma   \n",
       "2     Transportation | Autonomous Vehicles   \n",
       "3            Healthcare | BioTech & Pharma   \n",
       "4  Enterprise Software | Data Intelligence   \n",
       "\n",
       "                      sub_sector_pred_label         sector_label  \\\n",
       "0     Enterprise Software | Human Resources           Industrial   \n",
       "1             Healthcare | BioTech & Pharma           Healthcare   \n",
       "2      Transportation | Autonomous Vehicles       Transportation   \n",
       "3             Healthcare | BioTech & Pharma           Healthcare   \n",
       "4  Technology Hardware | Computing hardware  Enterprise Software   \n",
       "\n",
       "     sector_pred_label  sub_sector_match  sector_match  label_top_k  \n",
       "0  Enterprise Software             False         False            0  \n",
       "1           Healthcare              True          True            1  \n",
       "2       Transportation              True          True            1  \n",
       "3           Healthcare              True          True            1  \n",
       "4  Technology Hardware             False         False            0  "
      ]
     },
     "execution_count": 154,
     "metadata": {},
     "output_type": "execute_result"
    }
   ],
   "source": [
    "dfv = pd.DataFrame.from_dict({'description': val_texts,\n",
    "                              'encoded_label': val_labels,\n",
    "                              'encoded_pred': val_predictions_output,\n",
    "                              'pred_conf': val_pred_conf_output,\n",
    "                              'encoded_pred_list': val_top_k_predictions_output,\n",
    "                              'pred_conf_list': val_top_k_predictions_conf_output\n",
    "                              })\n",
    "\n",
    "pred_list = []\n",
    "for idx, row in dfv.iterrows():\n",
    "    int_pred_list = []\n",
    "    for pred in row['encoded_pred_list']:\n",
    "        int_pred_list.append(encoded_dict[pred])\n",
    "        \n",
    "    pred_list.append(int_pred_list)\n",
    "    \n",
    "    \n",
    "dfv['pred_list'] = pred_list\n",
    "\n",
    "dfv['sub_sector_label'] = dfv['encoded_label'].apply(lambda x: encoded_dict[x])\n",
    "dfv['sub_sector_pred_label'] = dfv['encoded_pred'].apply(lambda x: encoded_dict[x])\n",
    "\n",
    "dfv['sector_label'] = dfv['sub_sector_label'].apply(lambda x: x.split('|')[0].strip())\n",
    "dfv['sector_pred_label'] = dfv['sub_sector_pred_label'].apply(lambda x: x.split('|')[0].strip())\n",
    "\n",
    "dfv['sub_sector_match'] = dfv['sub_sector_label']==dfv['sub_sector_pred_label']\n",
    "dfv['sector_match'] = dfv['sector_label']==dfv['sector_pred_label']\n",
    "\n",
    "dfv['label_top_k'] = dfv.apply(lambda row: 1 if row['encoded_label'] in row['encoded_pred_list'] else 0, axis=1)\n",
    "\n",
    "print('Sub sector', np.mean(dfv['sub_sector_match']))\n",
    "print('Sector', np.mean(dfv['sector_match']))\n",
    "print(f'Label in top {k} predictions:', np.mean(dfv['label_top_k']))\n",
    "conf_level = .7\n",
    "print(f'Sub sector match (> {int(conf_level*100)}% confidence):',\n",
    "      np.mean(dfv[dfv['pred_conf']>conf_level]['sub_sector_match']))\n",
    "\n",
    "print(len(dfv[dfv['pred_conf']>=conf_level]))\n",
    "print(len(dfv[dfv['pred_conf']<conf_level]))\n",
    "\n",
    "dfv.head()"
   ]
  },
  {
   "cell_type": "markdown",
   "id": "69abf0bf-12f4-4f67-8463-15bfc39a3346",
   "metadata": {},
   "source": [
    "### Priority 1 issuers"
   ]
  },
  {
   "cell_type": "code",
   "execution_count": 155,
   "id": "bd6d4e3c",
   "metadata": {
    "tags": []
   },
   "outputs": [
    {
     "name": "stdout",
     "output_type": "stream",
     "text": [
      "35/35 [==============================] - 3s 73ms/step\n"
     ]
    }
   ],
   "source": [
    "top_issuers_predictions = classifier.predict(top_issuers_dataset)"
   ]
  },
  {
   "cell_type": "code",
   "execution_count": 156,
   "id": "369f04a6-1a6c-495b-8625-3cd29dcf46e4",
   "metadata": {
    "tags": []
   },
   "outputs": [],
   "source": [
    "k=5\n",
    "top_issuers_predictions_output = [tf.math.argmax(array).numpy() for array in top_issuers_predictions]\n",
    "imp_issuers_pred_conf_output = [tf.nn.top_k(array, k=1).values.numpy()[0] for array in top_issuers_predictions]\n",
    "imp_issuers_top_k_predictions_output = [tf.nn.top_k(array, k=k).indices.numpy() for array in top_issuers_predictions]\n",
    "imp_issuers_top_k_predictions_conf_output = [tf.nn.top_k(array, k=k).values.numpy() for array in top_issuers_predictions]"
   ]
  },
  {
   "cell_type": "code",
   "execution_count": 162,
   "id": "ea0b1a57-2b0b-4890-8501-cffa1baac3eb",
   "metadata": {
    "tags": []
   },
   "outputs": [
    {
     "name": "stdout",
     "output_type": "stream",
     "text": [
      "Sub sector 0.7526881720430108\n",
      "Sector 0.910394265232975\n",
      "Label in top 5 predictions: 0.967741935483871\n",
      "Sub sector match (> 75% confidence): 0.9807692307692307\n",
      "Sector match (> 75% confidence): 0.9807692307692307\n",
      "52\n",
      "227\n"
     ]
    },
    {
     "data": {
      "text/html": [
       "<div>\n",
       "<style scoped>\n",
       "    .dataframe tbody tr th:only-of-type {\n",
       "        vertical-align: middle;\n",
       "    }\n",
       "\n",
       "    .dataframe tbody tr th {\n",
       "        vertical-align: top;\n",
       "    }\n",
       "\n",
       "    .dataframe thead th {\n",
       "        text-align: right;\n",
       "    }\n",
       "</style>\n",
       "<table border=\"1\" class=\"dataframe\">\n",
       "  <thead>\n",
       "    <tr style=\"text-align: right;\">\n",
       "      <th></th>\n",
       "      <th>description</th>\n",
       "      <th>encoded_label</th>\n",
       "      <th>encoded_pred</th>\n",
       "      <th>pred_conf</th>\n",
       "      <th>encoded_pred_list</th>\n",
       "      <th>pred_conf_list</th>\n",
       "      <th>pred_list</th>\n",
       "      <th>sub_sector_label</th>\n",
       "      <th>sub_sector_pred_label</th>\n",
       "      <th>sector_label</th>\n",
       "      <th>sector_pred_label</th>\n",
       "      <th>sub_sector_match</th>\n",
       "      <th>sector_match</th>\n",
       "      <th>label_top_k</th>\n",
       "    </tr>\n",
       "  </thead>\n",
       "  <tbody>\n",
       "    <tr>\n",
       "      <th>0</th>\n",
       "      <td>TigerGraph, founded in 2012, is the developer ...</td>\n",
       "      <td>15</td>\n",
       "      <td>15</td>\n",
       "      <td>0.749062</td>\n",
       "      <td>[15, 16, 11, 14, 18]</td>\n",
       "      <td>[0.7490622, 0.06679267, 0.03885333, 0.02464948...</td>\n",
       "      <td>[Enterprise Software | Data Intelligence, Ente...</td>\n",
       "      <td>Enterprise Software | Data Intelligence</td>\n",
       "      <td>Enterprise Software | Data Intelligence</td>\n",
       "      <td>Enterprise Software</td>\n",
       "      <td>Enterprise Software</td>\n",
       "      <td>True</td>\n",
       "      <td>True</td>\n",
       "      <td>1</td>\n",
       "    </tr>\n",
       "    <tr>\n",
       "      <th>1</th>\n",
       "      <td>Dandy, founded in 2020, is a health technology...</td>\n",
       "      <td>33</td>\n",
       "      <td>33</td>\n",
       "      <td>0.459383</td>\n",
       "      <td>[33, 32, 34, 35, 36]</td>\n",
       "      <td>[0.45938343, 0.20756637, 0.096909635, 0.051738...</td>\n",
       "      <td>[Healthcare | Healthcare providers &amp; services,...</td>\n",
       "      <td>Healthcare | Healthcare providers &amp; services</td>\n",
       "      <td>Healthcare | Healthcare providers &amp; services</td>\n",
       "      <td>Healthcare</td>\n",
       "      <td>Healthcare</td>\n",
       "      <td>True</td>\n",
       "      <td>True</td>\n",
       "      <td>1</td>\n",
       "    </tr>\n",
       "    <tr>\n",
       "      <th>2</th>\n",
       "      <td>Mapbox is a real-time location platform for lo...</td>\n",
       "      <td>21</td>\n",
       "      <td>21</td>\n",
       "      <td>0.160283</td>\n",
       "      <td>[21, 15, 19, 20, 18]</td>\n",
       "      <td>[0.16028343, 0.14721647, 0.08800843, 0.0832591...</td>\n",
       "      <td>[Enterprise Software | Software Development, E...</td>\n",
       "      <td>Enterprise Software | Software Development</td>\n",
       "      <td>Enterprise Software | Software Development</td>\n",
       "      <td>Enterprise Software</td>\n",
       "      <td>Enterprise Software</td>\n",
       "      <td>True</td>\n",
       "      <td>True</td>\n",
       "      <td>1</td>\n",
       "    </tr>\n",
       "    <tr>\n",
       "      <th>3</th>\n",
       "      <td>Color, founded in 2015, is a population health...</td>\n",
       "      <td>33</td>\n",
       "      <td>33</td>\n",
       "      <td>0.291066</td>\n",
       "      <td>[33, 32, 34, 31, 36]</td>\n",
       "      <td>[0.2910661, 0.2209243, 0.14571589, 0.14263979,...</td>\n",
       "      <td>[Healthcare | Healthcare providers &amp; services,...</td>\n",
       "      <td>Healthcare | Healthcare providers &amp; services</td>\n",
       "      <td>Healthcare | Healthcare providers &amp; services</td>\n",
       "      <td>Healthcare</td>\n",
       "      <td>Healthcare</td>\n",
       "      <td>True</td>\n",
       "      <td>True</td>\n",
       "      <td>1</td>\n",
       "    </tr>\n",
       "    <tr>\n",
       "      <th>4</th>\n",
       "      <td>Brex, founded in 2017 by Henrique Dubugras and...</td>\n",
       "      <td>26</td>\n",
       "      <td>22</td>\n",
       "      <td>0.461413</td>\n",
       "      <td>[22, 28, 27, 26, 11]</td>\n",
       "      <td>[0.46141288, 0.18916781, 0.102446444, 0.102124...</td>\n",
       "      <td>[FinTech  | Other FinTech , FinTech | Payments...</td>\n",
       "      <td>FinTech | Lending</td>\n",
       "      <td>FinTech  | Other FinTech</td>\n",
       "      <td>FinTech</td>\n",
       "      <td>FinTech</td>\n",
       "      <td>False</td>\n",
       "      <td>True</td>\n",
       "      <td>1</td>\n",
       "    </tr>\n",
       "  </tbody>\n",
       "</table>\n",
       "</div>"
      ],
      "text/plain": [
       "                                         description  encoded_label  \\\n",
       "0  TigerGraph, founded in 2012, is the developer ...             15   \n",
       "1  Dandy, founded in 2020, is a health technology...             33   \n",
       "2  Mapbox is a real-time location platform for lo...             21   \n",
       "3  Color, founded in 2015, is a population health...             33   \n",
       "4  Brex, founded in 2017 by Henrique Dubugras and...             26   \n",
       "\n",
       "   encoded_pred  pred_conf     encoded_pred_list  \\\n",
       "0            15   0.749062  [15, 16, 11, 14, 18]   \n",
       "1            33   0.459383  [33, 32, 34, 35, 36]   \n",
       "2            21   0.160283  [21, 15, 19, 20, 18]   \n",
       "3            33   0.291066  [33, 32, 34, 31, 36]   \n",
       "4            22   0.461413  [22, 28, 27, 26, 11]   \n",
       "\n",
       "                                      pred_conf_list  \\\n",
       "0  [0.7490622, 0.06679267, 0.03885333, 0.02464948...   \n",
       "1  [0.45938343, 0.20756637, 0.096909635, 0.051738...   \n",
       "2  [0.16028343, 0.14721647, 0.08800843, 0.0832591...   \n",
       "3  [0.2910661, 0.2209243, 0.14571589, 0.14263979,...   \n",
       "4  [0.46141288, 0.18916781, 0.102446444, 0.102124...   \n",
       "\n",
       "                                           pred_list  \\\n",
       "0  [Enterprise Software | Data Intelligence, Ente...   \n",
       "1  [Healthcare | Healthcare providers & services,...   \n",
       "2  [Enterprise Software | Software Development, E...   \n",
       "3  [Healthcare | Healthcare providers & services,...   \n",
       "4  [FinTech  | Other FinTech , FinTech | Payments...   \n",
       "\n",
       "                               sub_sector_label  \\\n",
       "0       Enterprise Software | Data Intelligence   \n",
       "1  Healthcare | Healthcare providers & services   \n",
       "2    Enterprise Software | Software Development   \n",
       "3  Healthcare | Healthcare providers & services   \n",
       "4                             FinTech | Lending   \n",
       "\n",
       "                          sub_sector_pred_label         sector_label  \\\n",
       "0       Enterprise Software | Data Intelligence  Enterprise Software   \n",
       "1  Healthcare | Healthcare providers & services           Healthcare   \n",
       "2    Enterprise Software | Software Development  Enterprise Software   \n",
       "3  Healthcare | Healthcare providers & services           Healthcare   \n",
       "4                     FinTech  | Other FinTech               FinTech   \n",
       "\n",
       "     sector_pred_label  sub_sector_match  sector_match  label_top_k  \n",
       "0  Enterprise Software              True          True            1  \n",
       "1           Healthcare              True          True            1  \n",
       "2  Enterprise Software              True          True            1  \n",
       "3           Healthcare              True          True            1  \n",
       "4              FinTech             False          True            1  "
      ]
     },
     "execution_count": 162,
     "metadata": {},
     "output_type": "execute_result"
    }
   ],
   "source": [
    "dfii = pd.DataFrame.from_dict({'description': top_issuers_texts,\n",
    "                              'encoded_label': top_issuers_labels,\n",
    "                              'encoded_pred': top_issuers_predictions_output,\n",
    "                              'pred_conf': imp_issuers_pred_conf_output,\n",
    "                              'encoded_pred_list': imp_issuers_top_k_predictions_output,\n",
    "                              'pred_conf_list': imp_issuers_top_k_predictions_conf_output\n",
    "                              })\n",
    "\n",
    "pred_list = []\n",
    "for idx, row in dfii.iterrows():\n",
    "    int_pred_list = []\n",
    "    for pred in row['encoded_pred_list']:\n",
    "        int_pred_list.append(encoded_dict[pred])\n",
    "        \n",
    "    pred_list.append(int_pred_list)\n",
    "    \n",
    "    \n",
    "dfii['pred_list'] = pred_list\n",
    "\n",
    "dfii['sub_sector_label'] = dfii['encoded_label'].apply(lambda x: encoded_dict[x])\n",
    "dfii['sub_sector_pred_label'] = dfii['encoded_pred'].apply(lambda x: encoded_dict[x])\n",
    "\n",
    "dfii['sector_label'] = dfii['sub_sector_label'].apply(lambda x: x.split('|')[0].strip())\n",
    "dfii['sector_pred_label'] = dfii['sub_sector_pred_label'].apply(lambda x: x.split('|')[0].strip())\n",
    "\n",
    "dfii['sub_sector_match'] = dfii['sub_sector_label']==dfii['sub_sector_pred_label']\n",
    "dfii['sector_match'] = dfii['sector_label']==dfii['sector_pred_label']\n",
    "\n",
    "dfii['label_top_k'] = dfii.apply(lambda row: 1 if row['encoded_label'] in row['encoded_pred_list'] else 0, axis=1)\n",
    "\n",
    "print('Sub sector', np.mean(dfii['sub_sector_match']))\n",
    "print('Sector', np.mean(dfii['sector_match']))\n",
    "print(f'Label in top {k} predictions:', np.mean(dfii['label_top_k']))\n",
    "conf_level = .75\n",
    "print(f'Sub sector match (> {int(conf_level*100)}% confidence):',\n",
    "      np.mean(dfii[dfii['pred_conf']>conf_level]['sub_sector_match']))\n",
    "print(f'Sector match (> {int(conf_level*100)}% confidence):',\n",
    "      np.mean(dfii[dfii['pred_conf']>conf_level]['sector_match']))\n",
    "\n",
    "print(len(dfii[dfii['pred_conf']>conf_level]))\n",
    "print(len(dfii[dfii['pred_conf']<=conf_level]))\n",
    "\n",
    "dfii.head()"
   ]
  },
  {
   "cell_type": "code",
   "execution_count": 90,
   "id": "065091a9-4acf-405f-af9a-76611bbbf892",
   "metadata": {
    "tags": []
   },
   "outputs": [],
   "source": [
    "import seaborn as sns"
   ]
  },
  {
   "cell_type": "code",
   "execution_count": 171,
   "id": "3a1f1d5a-2205-4ecc-9a0f-ec78308b2f44",
   "metadata": {
    "tags": []
   },
   "outputs": [],
   "source": [
    "# print(dfii['sub_sector_label'].iloc[0])\n",
    "# print(dfii['description'].iloc[0])\n",
    "# print(dfii['pred_list'].iloc[0])\n",
    "# print(dfii['pred_conf_list'].iloc[0])"
   ]
  },
  {
   "cell_type": "code",
   "execution_count": 102,
   "id": "f8d4df28-bcf4-4c2b-9f50-34e8c407c84c",
   "metadata": {
    "tags": []
   },
   "outputs": [
    {
     "data": {
      "image/png": "[encoded data removed]",
      "text/plain": [
       "<Figure size 640x480 with 1 Axes>"
      ]
     },
     "metadata": {},
     "output_type": "display_data"
    }
   ],
   "source": [
    "sns.barplot(x=dfii['pred_list'].iloc[0], y=dfii['pred_conf_list'].iloc[0])\n",
    "plt.title(f\"{dfii['sub_sector_label'].iloc[0]\")\n",
    "plt.xticks(rotation=90)\n",
    "plt.show()"
   ]
  }
 ],
 "metadata": {
  "kernelspec": {
   "display_name": "conda_pytorch_p310",
   "language": "python",
   "name": "conda_pytorch_p310"
  },
  "language_info": {
   "codemirror_mode": {
    "name": "ipython",
    "version": 3
   },
   "file_extension": ".py",
   "mimetype": "text/x-python",
   "name": "python",
   "nbconvert_exporter": "python",
   "pygments_lexer": "ipython3",
   "version": "3.10.13"
  }
 },
 "nbformat": 4,
 "nbformat_minor": 5
}
